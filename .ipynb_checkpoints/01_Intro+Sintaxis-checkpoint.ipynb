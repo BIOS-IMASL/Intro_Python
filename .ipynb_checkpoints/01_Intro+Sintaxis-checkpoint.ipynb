{
 "cells": [
  {
   "cell_type": "markdown",
   "metadata": {},
   "source": [
    "# Introducción a Python\n",
    "\n",
    "[Python](http://www.python.org/) es:\n",
    "* un lenguaje de programación moderno\n",
    "* de propósito general (se suele decir que Python no es el mejor lenguaje para casi nada, pero es suficientemente bueno para casi todo)\n",
    "* multiparadigma (es posible programar usando distintos _estilos_ de programación incluso combinándolos)\n",
    "* de alto nivel (es decir cercano al lenguaje humano y lejos del _lenguaje de máquinas_)\n",
    "* es interpretado (es decir no es necesario _compilarlo_ antes de correrlo)\n",
    "* es multiplataforma (corre en diversos sistemas operativos)\n"
   ]
  },
  {
   "cell_type": "markdown",
   "metadata": {},
   "source": [
    "### ¿Por qué es un buen lenguaje de programación científica?\n",
    "\n",
    "* Es un lenguaje simple: El código es simple de leer, de escribir y de mantener.\n",
    "\n",
    "* Es gratuito y es una herramienta de [código abierto](https://es.wikipedia.org/wiki/C%C3%B3digo_abierto).\n",
    "\n",
    "* Está muy bien documentado.\n",
    "\n",
    "* Es ampliamente usado en la mayoría de las disciplinas científicas\n",
    "\n",
    "* Tiene una gran comunidad de usuarios (no todos científicos), por lo que es fácil encontrar ayuda, tutoriales, foros, blogs, etc. por ejemplo en [StackOverflow](stackoverflow.com).\n",
    "\n",
    "* Buena _performance_. Aunque estrictamente es un lenguaje _lento_ (el costo de la simplicidad). Existen formas de acelerarlo.\n",
    "\n",
    "* Posee un extenso _ecosistema_ de librerías\n",
    "\n",
    "<br>\n",
    "    <a href=\"https://www.youtube.com/watch?v=5GlNDD7qbP4\">\n",
    "    <img src='imagenes/Python_Stack.png' width=500 >\n",
    "    </a>\n",
    "\n",
    "<br>\n",
    "\n",
    "* [Numpy:](http://numpy.scipy.org)  Cálculo numerico y algebra lineal\n",
    "* [Scipy:](http://www.scipy.org) -  Funciones comunmente usadas en ciencias\n",
    "* [Matplotlib:](http://www.matplotlib.org) - Gráficas científicas\n",
    "* [Seaborn:](http://web.stanford.edu/~mwaskom/software/seaborn/) - Gráficas cientificas _atractivas_.\n",
    "* [Jupyter:](http://jupyter.org/) - Computación interactiva\n",
    "* [Pandas:](http://pandas.pydata.org/) - Procesamiento de datos\n",
    "* [Scikit-learn:](http://scikit-learn.org/) - Machine Learning \n",
    "* [Statsmodels:](http://statsmodels.sourceforge.net/) Estadística _\"clásica\"_\n",
    "* [PyMC3:](http://pymc-devs.github.io/pymc3/) - Estadística Bayesiana\n",
    "* [SymPy](http://www.sympy.org/en/index.html) - Matemática simbólica\n",
    "* [Sage](http://sagemath.org/) - Es un entorno matemática basado en Python y varias de las librerías arriba mencionadas\n",
    "* _agregá tu paquete favorito acá_"
   ]
  },
  {
   "cell_type": "markdown",
   "metadata": {},
   "source": [
    "#### Ahora si, veamos los elementos básicos de la programación en Python!"
   ]
  },
  {
   "cell_type": "markdown",
   "metadata": {},
   "source": [
    "### Valores y Tipos\n",
    "Un valor es uno de los \"componentes\" más básicos con los que trabaja un programa como un caracter o un número. Como ejemplos de valores se pueden considerar $2$, $42.0$, $'c'$, $\"Hola!\"$. \n",
    "\n",
    "Estos valores son de diferentes tipos: $2$ es un entero, $42.0$ es un número de punto flotante y $\"Hola!\"$ es un string (cadena de caracteres).\n",
    "En caso de tener dudas respecto al tipo de cada valor, se puede consultar usando el comando _type_"
   ]
  },
  {
   "cell_type": "code",
   "execution_count": 1,
   "metadata": {},
   "outputs": [
    {
     "data": {
      "text/plain": [
       "int"
      ]
     },
     "execution_count": 1,
     "metadata": {},
     "output_type": "execute_result"
    }
   ],
   "source": [
    "type(2)"
   ]
  },
  {
   "cell_type": "code",
   "execution_count": 2,
   "metadata": {},
   "outputs": [
    {
     "data": {
      "text/plain": [
       "float"
      ]
     },
     "execution_count": 2,
     "metadata": {},
     "output_type": "execute_result"
    }
   ],
   "source": [
    "type(42.0)"
   ]
  },
  {
   "cell_type": "code",
   "execution_count": 3,
   "metadata": {},
   "outputs": [
    {
     "data": {
      "text/plain": [
       "str"
      ]
     },
     "execution_count": 3,
     "metadata": {},
     "output_type": "execute_result"
    }
   ],
   "source": [
    "type('Hello, World!')"
   ]
  },
  {
   "cell_type": "code",
   "execution_count": 4,
   "metadata": {},
   "outputs": [
    {
     "data": {
      "text/plain": [
       "(1, 0, 0)"
      ]
     },
     "execution_count": 4,
     "metadata": {},
     "output_type": "execute_result"
    }
   ],
   "source": [
    "1,000,000 # para enteros grandes, no se debe agregar comas ni puntos- Más adelante veremos tuplas"
   ]
  },
  {
   "cell_type": "code",
   "execution_count": 5,
   "metadata": {},
   "outputs": [
    {
     "ename": "SyntaxError",
     "evalue": "invalid token (<ipython-input-5-38da4a590f0b>, line 1)",
     "output_type": "error",
     "traceback": [
      "\u001b[0;36m  File \u001b[0;32m\"<ipython-input-5-38da4a590f0b>\"\u001b[0;36m, line \u001b[0;32m1\u001b[0m\n\u001b[0;31m    type(02) # ceros a la izquierda\u001b[0m\n\u001b[0m          ^\u001b[0m\n\u001b[0;31mSyntaxError\u001b[0m\u001b[0;31m:\u001b[0m invalid token\n"
     ]
    }
   ],
   "source": [
    "type(02) # ceros a la izquierda"
   ]
  },
  {
   "cell_type": "markdown",
   "metadata": {},
   "source": [
    "## Variables\n",
    "\n",
    "En programación se le llama **variable** a un espacio en la memoria de la computadora que almacena un **valor** determinado y que tiene asociado un identificador (o nombre). \n",
    "Es este indentificador el que nos permite referirnos a ese valor y manipularlo. \n",
    "Dicho de forma más simple una variable es \"eso\" donde guardamos información para luego usar y que es posible referenciar usando un nombre que definimos a nuestro gusto. \n",
    "Es importante elegir nombres representativos a las variables ya que esto puede ayudar bastante a enteder el programa que se está desarrollando.\n",
    "\n",
    "Los nombres de las variables NO pueden empezar con números. Python 3 (pero no 2) permite usar caracteres como letras griegas, caracteres acentuados, la ñ, etc. Por convención, los nombres de las variables y funciones comienzan con una letra minúscula, mientras que los nombres de las _clases_ (se verán más adelante en el curso) comienzan con una letra mayúscula.\n",
    "\n",
    "Por lo general, en Python se usa guion bajo ($_$) para separar palabras en los nombres de variables, por ejemplo \"contador_general\" o \"monto_acumulado_pesos\". Se recomienda no definir nombres muy largos (no más de 32 caracteres). En el siguiente [link](https://www.python.org/dev/peps/pep-0008/#naming-conventions) se pueden consultar distintos criterios para definir nombres de varibales en Python."
   ]
  },
  {
   "cell_type": "markdown",
   "metadata": {},
   "source": [
    "#### Nombres reservados\n",
    "\n",
    "Existen algunas palabras en Python que tienen un significado predefinido y no pueden ser usadas como nombres de variables. Estas palabras claves (_keywords_) son:\n",
    "\n",
    "    False, None, True, and, as, assert, break, class, continue, def, del, elif, else, except, \n",
    "    finally, for, from, global, if, import, in, is, lambda, nonlocal, not, or, pass, raise, return,\n",
    "    try, while, with, yield\n",
    "    \n",
    "No tiene demasiado sentido recitarlas hasta memorizarlas, lo mejor es ir aprendiéndolas con el uso. Ante la duda se puede revisar esta lista. De todas formas la mayoría de los entornos de programación (como las notebooks de Jupyter) resaltan estas palabras reservadas con algún color en especial. Por ejemplo Jupyter lo hace en verde y negrita. Otras partes especiales del código (que ya iremos aprendiendo), también son resaltadas. El resaltar distintas porciones de código con distintos colores ayuda la lectura, comprensión y modificación del código. \n",
    "\n",
    "Si intentamos asignar un valor a una palabra reservada obtendremos un error (excepto algunas excepciones como `range`)."
   ]
  },
  {
   "cell_type": "code",
   "execution_count": 6,
   "metadata": {},
   "outputs": [
    {
     "ename": "SyntaxError",
     "evalue": "invalid syntax (<ipython-input-6-f76ce0fc3d08>, line 1)",
     "output_type": "error",
     "traceback": [
      "\u001b[0;36m  File \u001b[0;32m\"<ipython-input-6-f76ce0fc3d08>\"\u001b[0;36m, line \u001b[0;32m1\u001b[0m\n\u001b[0;31m    import = 1\u001b[0m\n\u001b[0m           ^\u001b[0m\n\u001b[0;31mSyntaxError\u001b[0m\u001b[0;31m:\u001b[0m invalid syntax\n"
     ]
    }
   ],
   "source": [
    "import = 1"
   ]
  },
  {
   "cell_type": "markdown",
   "metadata": {},
   "source": [
    "#### Asignaciones\n",
    "\n",
    "Para poder decirle a Python que queremos generar una nueva variable basta con escribir el nombre de la variable seguido del operador \"=\" y luego el valor de la variable. Al hacer esto decimos que estamos **asignando una variable**."
   ]
  },
  {
   "cell_type": "code",
   "execution_count": 49,
   "metadata": {},
   "outputs": [
    {
     "data": {
      "text/plain": [
       "(2.0, 'hola')"
      ]
     },
     "execution_count": 49,
     "metadata": {},
     "output_type": "execute_result"
    }
   ],
   "source": [
    "x = 2.0\n",
    "y = 'hola'\n",
    "x, y"
   ]
  },
  {
   "cell_type": "markdown",
   "metadata": {},
   "source": [
    "Es importante destacar que en Python el signo `=` no indica igualdad, sino que se usa para asignar variables. Las siguientes lineas no tendrían sentido si el signo `=` implicara igualdad."
   ]
  },
  {
   "cell_type": "code",
   "execution_count": 50,
   "metadata": {},
   "outputs": [
    {
     "data": {
      "text/plain": [
       "3.0"
      ]
     },
     "execution_count": 50,
     "metadata": {},
     "output_type": "execute_result"
    }
   ],
   "source": [
    "x = x + 1 # x NO es igual a x más 1!\n",
    "x"
   ]
  },
  {
   "cell_type": "markdown",
   "metadata": {},
   "source": [
    "Si tuvieramos que leer la celda anterior en voz alta diríamos; \"_tome el valor de la variable `x` \n",
    "súmele `1` y guarde el resultado en la variable `x`_\". Es decir, SIEMPRE en una operación de asignación, primero se resuelve el término de la derecha.\n",
    "\n",
    "Como esta operación es muy común Python ofrece una versión abreviada."
   ]
  },
  {
   "cell_type": "code",
   "execution_count": 51,
   "metadata": {},
   "outputs": [
    {
     "data": {
      "text/plain": [
       "4.0"
      ]
     },
     "execution_count": 51,
     "metadata": {},
     "output_type": "execute_result"
    }
   ],
   "source": [
    "x += 1\n",
    "x"
   ]
  },
  {
   "cell_type": "code",
   "execution_count": 52,
   "metadata": {},
   "outputs": [
    {
     "data": {
      "text/plain": [
       "3.0"
      ]
     },
     "execution_count": 52,
     "metadata": {},
     "output_type": "execute_result"
    }
   ],
   "source": [
    "x-= 1\n",
    "x"
   ]
  },
  {
   "cell_type": "markdown",
   "metadata": {},
   "source": [
    "#### Comentarios\n",
    "Los comentarios son necesarios para documentar algunos aspectos del código que no son obvios. Es decir, es razonable pensar que quien esté leyendo el código puede determinar, **cómo** funciona el mismo; sin embargo, en ciertas ocasiones, puede no saber **porqué** lo hace. Por ejemplo, \n",
    "Este comentario es redundante e innecesario para el código:"
   ]
  },
  {
   "cell_type": "code",
   "execution_count": 53,
   "metadata": {},
   "outputs": [],
   "source": [
    "vel = 5 # asiga 5 a vel"
   ]
  },
  {
   "cell_type": "markdown",
   "metadata": {},
   "source": [
    "En cambio el siguiente contiene información del dominio del problema que figura en el código:"
   ]
  },
  {
   "cell_type": "code",
   "execution_count": 54,
   "metadata": {},
   "outputs": [],
   "source": [
    "vel = 5 # velocidad en metros/segundos"
   ]
  },
  {
   "cell_type": "markdown",
   "metadata": {},
   "source": [
    "Una buena definición de nombres de variables puede reducir la necesidad de ciertos comentarios, sin embargo, como se mencionó anteriormente, definir nombres largos hace que las expresiones sean difíciles de leer."
   ]
  },
  {
   "cell_type": "code",
   "execution_count": 55,
   "metadata": {},
   "outputs": [
    {
     "data": {
      "text/plain": [
       "(3.0, 'hola')"
      ]
     },
     "execution_count": 55,
     "metadata": {},
     "output_type": "execute_result"
    }
   ],
   "source": [
    "x, y  # todo lo escrito luego del signo # es un comentario.\n",
    "# Los comentario están destinados a ser leidos por humanos, por lo tanto Python los ignora."
   ]
  },
  {
   "cell_type": "markdown",
   "metadata": {},
   "source": [
    "#### Tipos de variables\n",
    "\n",
    "En muchos lenguajes de programación (como C/C++ o Fortran) antes de poder asignar valores a variables es necesario declararlas. Esto quiere decir que tenemos que indicar que nuestro porgrama usará una variable de nombre _tal_ que será del tipo _cual_. Recién una vez declarada la variable podemos asignarle valores concretos.\n",
    "\n",
    "En cambio en Python las variables no se declaran, simplemente se les asigna valores usando el signo `=` (como vimos anteriormente). La variable _x_ usada más arriba no existía hasta que le asignamos un valor (sin necesidad de declararla previamente). Esto suele ser una de las ventajas de Python, ya que simplifica la escritura de código, al tiempo que es una de las razones por las cuales Python es más lento que lenguajes como C/C++ o Fortran. Aun cuando no es necesario declarar variables es importante saber que existen distintos tipos de variables.\n",
    "\n",
    "En nuestro ejemplo `x` es una variable de tipo _flotante_ (float) mientras que `y` es una cadena (string)."
   ]
  },
  {
   "cell_type": "code",
   "execution_count": 56,
   "metadata": {},
   "outputs": [
    {
     "data": {
      "text/plain": [
       "(float, str)"
      ]
     },
     "execution_count": 56,
     "metadata": {},
     "output_type": "execute_result"
    }
   ],
   "source": [
    "type(x), type(y)"
   ]
  },
  {
   "cell_type": "markdown",
   "metadata": {},
   "source": [
    "Al ser Python un lenguaje dinámico también es posible cambiar el _tipo_ de una variable durante la ejecucion de un programa. En el siguiente ejemplo la variable $y$ contiene primero una cadena (_string_) y luego un entero (_int_), en muchos lenguajes de programación esto resultaría en un error, pero no en Python."
   ]
  },
  {
   "cell_type": "code",
   "execution_count": 57,
   "metadata": {},
   "outputs": [
    {
     "data": {
      "text/plain": [
       "(42, int)"
      ]
     },
     "execution_count": 57,
     "metadata": {},
     "output_type": "execute_result"
    }
   ],
   "source": [
    "y = 42\n",
    "y, type(y)"
   ]
  },
  {
   "cell_type": "markdown",
   "metadata": {},
   "source": [
    "Existen muchos tipos de variables predefinidos. Es incluso posible definir nuestros propios tipos de variables con sus propiedades (lo veremos más adelante en el curso). Por ahora veamos algunos de los tipos más comunes de variables:"
   ]
  },
  {
   "cell_type": "code",
   "execution_count": 58,
   "metadata": {},
   "outputs": [
    {
     "data": {
      "text/plain": [
       "int"
      ]
     },
     "execution_count": 58,
     "metadata": {},
     "output_type": "execute_result"
    }
   ],
   "source": [
    "# enteros\n",
    "x = 1\n",
    "type(x)"
   ]
  },
  {
   "cell_type": "markdown",
   "metadata": {},
   "source": [
    "Si un número tiene un punto (equivalente a una coma en español) es un número decimal (aun cuando la parte decimal sea 0), en la jerga computacional se le suele decir a estos números *[flotantes](https://es.wikipedia.org/wiki/Coma_flotante)*. El nombre hace referencia a la forma en que se almacenan internamente los números reales en las computadoras (ver más adelante)."
   ]
  },
  {
   "cell_type": "code",
   "execution_count": 59,
   "metadata": {},
   "outputs": [
    {
     "data": {
      "text/plain": [
       "float"
      ]
     },
     "execution_count": 59,
     "metadata": {},
     "output_type": "execute_result"
    }
   ],
   "source": [
    "y = 1.0\n",
    "type(y)"
   ]
  },
  {
   "cell_type": "markdown",
   "metadata": {},
   "source": [
    "Otro tipo común son los *booleanos*, existen solo dos tipos de booleanos."
   ]
  },
  {
   "cell_type": "code",
   "execution_count": 60,
   "metadata": {},
   "outputs": [
    {
     "data": {
      "text/plain": [
       "(bool, bool)"
      ]
     },
     "execution_count": 60,
     "metadata": {},
     "output_type": "execute_result"
    }
   ],
   "source": [
    "b1 = True\n",
    "b2 = False\n",
    "\n",
    "type(b1), type(b2)"
   ]
  },
  {
   "cell_type": "markdown",
   "metadata": {},
   "source": [
    "Las cadenas (*strings*) son otro tipo de variables y Python ofrece muchas opciones para manipular cadenas, esta es una de las razones de su popularidad en bioinformática. En el siguiente ejemplo es importante notar que la variable `s` almacena al caracter que representa al número 1 y no el número entero 1. ¿Que pasaría si a la variable `s` le sumamos un entero? ¿Y si la multiplicamos por un entero?"
   ]
  },
  {
   "cell_type": "code",
   "execution_count": 61,
   "metadata": {},
   "outputs": [
    {
     "data": {
      "text/plain": [
       "str"
      ]
     },
     "execution_count": 61,
     "metadata": {},
     "output_type": "execute_result"
    }
   ],
   "source": [
    "s = '1'  \n",
    "type(s)"
   ]
  },
  {
   "cell_type": "markdown",
   "metadata": {},
   "source": [
    "Un tipo especial de variable que suele aparecer frecuentemente es *NoneType*, solo existe un objeto que sea de este tipo y es *None*."
   ]
  },
  {
   "cell_type": "code",
   "execution_count": 62,
   "metadata": {},
   "outputs": [
    {
     "data": {
      "text/plain": [
       "NoneType"
      ]
     },
     "execution_count": 62,
     "metadata": {},
     "output_type": "execute_result"
    }
   ],
   "source": [
    "z = None\n",
    "type(None)"
   ]
  },
  {
   "cell_type": "markdown",
   "metadata": {},
   "source": [
    "## Expresiones y Sentencias\n",
    "Una **expresión** es una combinación de valores, variables y operadores. Un valor por si mismo es considerado una expresión y también lo es una variable. Por ende, las siguientes son expresiones legales:"
   ]
  },
  {
   "cell_type": "code",
   "execution_count": 63,
   "metadata": {},
   "outputs": [
    {
     "data": {
      "text/plain": [
       "42"
      ]
     },
     "execution_count": 63,
     "metadata": {},
     "output_type": "execute_result"
    }
   ],
   "source": [
    "42"
   ]
  },
  {
   "cell_type": "code",
   "execution_count": 64,
   "metadata": {},
   "outputs": [
    {
     "data": {
      "text/plain": [
       "1.0"
      ]
     },
     "execution_count": 64,
     "metadata": {},
     "output_type": "execute_result"
    }
   ],
   "source": [
    "y"
   ]
  },
  {
   "cell_type": "code",
   "execution_count": 65,
   "metadata": {},
   "outputs": [
    {
     "data": {
      "text/plain": [
       "26.0"
      ]
     },
     "execution_count": 65,
     "metadata": {},
     "output_type": "execute_result"
    }
   ],
   "source": [
    "y + 25"
   ]
  },
  {
   "cell_type": "markdown",
   "metadata": {},
   "source": [
    "Cuando se le proporciona una expresión al intérprete, este la evalúa, lo que significa que encuentra el valor de la expresión. En los ejemplos anteriores, __y__ posee el valor 1.0 y la expresión $y + 1.0$ posee el valor 26.0\n",
    "\n",
    "### Sentencia\n",
    "\n",
    "Una **sentencia** es una unidad de código que tiene un efecto, como crear una variable o mostrar un valor, como por ejemplo:"
   ]
  },
  {
   "cell_type": "code",
   "execution_count": 66,
   "metadata": {},
   "outputs": [
    {
     "name": "stdout",
     "output_type": "stream",
     "text": [
      "17\n"
     ]
    }
   ],
   "source": [
    "n = 17\n",
    "print(n)"
   ]
  },
  {
   "cell_type": "markdown",
   "metadata": {},
   "source": [
    "La primera línea es una sentencia de asignación que le brinda un valor a $n$. La segunda es una sentencia que muestra el valor que posee $n$.\n",
    "\n",
    "Cuando se le brinda una sentencia al intérprete, este la ejecuta, lo que significa que el intérprete hace lo que la sentencia \"le dice\". Por lo general, las sentencias no poseen valores (por ejemplo $print(n)$)."
   ]
  },
  {
   "cell_type": "markdown",
   "metadata": {},
   "source": [
    "### Operadores\n",
    "\n",
    "Los operadores son símbolos especiales que representan _operaciones_ sobre variables.\n",
    "\n",
    "#### Operadores aritméticos\n",
    "\n",
    "Las operaciones aritméticas básicas son:\n",
    "\n",
    "* adición: +\n",
    "* sustracción: -\n",
    "* multiplicación: *\n",
    "* división: /\n",
    "* división entera: //\n",
    "* potencia: **\n",
    "* módulo (resto de división): %\n",
    "\n",
    "La mayoría de los operadores matemáticos en Python funcionan como uno esperaría, excepto por la división. En Python 2 al dividir dos enteros se obtiene siempre otro entero. Este comportamiento se ha modificado en Python 3, donde se obtiene siempre flotantes. Si estás usando Python 2 asegurate de incluir la siguiente linea en tus programas `from __future__ import division`."
   ]
  },
  {
   "cell_type": "code",
   "execution_count": 67,
   "metadata": {},
   "outputs": [
    {
     "data": {
      "text/plain": [
       "3"
      ]
     },
     "execution_count": 67,
     "metadata": {},
     "output_type": "execute_result"
    }
   ],
   "source": [
    "1 + 2"
   ]
  },
  {
   "cell_type": "code",
   "execution_count": 68,
   "metadata": {},
   "outputs": [
    {
     "data": {
      "text/plain": [
       "-1"
      ]
     },
     "execution_count": 68,
     "metadata": {},
     "output_type": "execute_result"
    }
   ],
   "source": [
    "1 - 2"
   ]
  },
  {
   "cell_type": "code",
   "execution_count": 69,
   "metadata": {},
   "outputs": [
    {
     "data": {
      "text/plain": [
       "2"
      ]
     },
     "execution_count": 69,
     "metadata": {},
     "output_type": "execute_result"
    }
   ],
   "source": [
    "1 * 2"
   ]
  },
  {
   "cell_type": "code",
   "execution_count": 70,
   "metadata": {},
   "outputs": [
    {
     "data": {
      "text/plain": [
       "0.5"
      ]
     },
     "execution_count": 70,
     "metadata": {},
     "output_type": "execute_result"
    }
   ],
   "source": [
    "1 / 2 # Python 3 - división flotante"
   ]
  },
  {
   "cell_type": "code",
   "execution_count": 71,
   "metadata": {},
   "outputs": [
    {
     "data": {
      "text/plain": [
       "0"
      ]
     },
     "execution_count": 71,
     "metadata": {},
     "output_type": "execute_result"
    }
   ],
   "source": [
    "1//2 # en Python 3 - división entera"
   ]
  },
  {
   "cell_type": "code",
   "execution_count": 72,
   "metadata": {},
   "outputs": [
    {
     "data": {
      "text/plain": [
       "4"
      ]
     },
     "execution_count": 72,
     "metadata": {},
     "output_type": "execute_result"
    }
   ],
   "source": [
    "2**2"
   ]
  },
  {
   "cell_type": "code",
   "execution_count": 73,
   "metadata": {},
   "outputs": [
    {
     "data": {
      "text/plain": [
       "1.4142135623730951"
      ]
     },
     "execution_count": 73,
     "metadata": {},
     "output_type": "execute_result"
    }
   ],
   "source": [
    "2**0.5"
   ]
  },
  {
   "cell_type": "code",
   "execution_count": 74,
   "metadata": {},
   "outputs": [
    {
     "data": {
      "text/plain": [
       "3"
      ]
     },
     "execution_count": 74,
     "metadata": {},
     "output_type": "execute_result"
    }
   ],
   "source": [
    "7 % 4"
   ]
  },
  {
   "cell_type": "markdown",
   "metadata": {},
   "source": [
    "El orden en que se ejecutan las operaciones aritméticas sigue las reglas de precedencia estándar de la matemática. Ante la duda, o para aumentar la claridad de una expresión, es posible usar paréntesis para agrupar operaciones"
   ]
  },
  {
   "cell_type": "code",
   "execution_count": 75,
   "metadata": {},
   "outputs": [
    {
     "data": {
      "text/plain": [
       "-10"
      ]
     },
     "execution_count": 75,
     "metadata": {},
     "output_type": "execute_result"
    }
   ],
   "source": [
    "2 - 3 * 4"
   ]
  },
  {
   "cell_type": "code",
   "execution_count": 76,
   "metadata": {},
   "outputs": [
    {
     "data": {
      "text/plain": [
       "-10"
      ]
     },
     "execution_count": 76,
     "metadata": {},
     "output_type": "execute_result"
    }
   ],
   "source": [
    "2 - (3 * 4)"
   ]
  },
  {
   "cell_type": "code",
   "execution_count": 77,
   "metadata": {},
   "outputs": [
    {
     "data": {
      "text/plain": [
       "-4"
      ]
     },
     "execution_count": 77,
     "metadata": {},
     "output_type": "execute_result"
    }
   ],
   "source": [
    "(2 - 3) * 4"
   ]
  },
  {
   "cell_type": "markdown",
   "metadata": {},
   "source": [
    "####  Operadores de comparación"
   ]
  },
  {
   "cell_type": "code",
   "execution_count": 78,
   "metadata": {},
   "outputs": [
    {
     "data": {
      "text/plain": [
       "True"
      ]
     },
     "execution_count": 78,
     "metadata": {},
     "output_type": "execute_result"
    }
   ],
   "source": [
    "2 > 1  # mayor que"
   ]
  },
  {
   "cell_type": "code",
   "execution_count": 79,
   "metadata": {},
   "outputs": [
    {
     "data": {
      "text/plain": [
       "False"
      ]
     },
     "execution_count": 79,
     "metadata": {},
     "output_type": "execute_result"
    }
   ],
   "source": [
    "2 < 2  # menor que"
   ]
  },
  {
   "cell_type": "code",
   "execution_count": 80,
   "metadata": {},
   "outputs": [
    {
     "data": {
      "text/plain": [
       "True"
      ]
     },
     "execution_count": 80,
     "metadata": {},
     "output_type": "execute_result"
    }
   ],
   "source": [
    "3 >= 2  # mayor o igual que"
   ]
  },
  {
   "cell_type": "code",
   "execution_count": 81,
   "metadata": {},
   "outputs": [
    {
     "data": {
      "text/plain": [
       "True"
      ]
     },
     "execution_count": 81,
     "metadata": {},
     "output_type": "execute_result"
    }
   ],
   "source": [
    "0 == 0  # igualdad"
   ]
  },
  {
   "cell_type": "code",
   "execution_count": 82,
   "metadata": {},
   "outputs": [
    {
     "data": {
      "text/plain": [
       "True"
      ]
     },
     "execution_count": 82,
     "metadata": {},
     "output_type": "execute_result"
    }
   ],
   "source": [
    "42 != 7  # distinto de"
   ]
  },
  {
   "cell_type": "code",
   "execution_count": 83,
   "metadata": {},
   "outputs": [
    {
     "data": {
      "text/plain": [
       "True"
      ]
     },
     "execution_count": 83,
     "metadata": {},
     "output_type": "execute_result"
    }
   ],
   "source": [
    "'z' > 'a'  # comparación entre cadenas"
   ]
  },
  {
   "cell_type": "markdown",
   "metadata": {},
   "source": [
    "#### Operadores booleanos\n",
    "\n",
    "En el álgebra Booleana, en vez de operar con valores numéricos se opera con los valores _verdadero_ (`True`) y _falso_ (`False`). En programación esto es útil para realizar ejecuciones condicionales como vimos en el ejemplo del algoritmo para el cálculo de la raíz cuadrada."
   ]
  },
  {
   "cell_type": "code",
   "execution_count": 84,
   "metadata": {},
   "outputs": [
    {
     "data": {
      "text/plain": [
       "True"
      ]
     },
     "execution_count": 84,
     "metadata": {},
     "output_type": "execute_result"
    }
   ],
   "source": [
    "x = 42\n",
    "x > 0 and x < 100"
   ]
  },
  {
   "cell_type": "code",
   "execution_count": 85,
   "metadata": {},
   "outputs": [
    {
     "data": {
      "text/plain": [
       "False"
      ]
     },
     "execution_count": 85,
     "metadata": {},
     "output_type": "execute_result"
    }
   ],
   "source": [
    "x < 0 and x < 100"
   ]
  },
  {
   "cell_type": "code",
   "execution_count": 86,
   "metadata": {},
   "outputs": [
    {
     "data": {
      "text/plain": [
       "True"
      ]
     },
     "execution_count": 86,
     "metadata": {},
     "output_type": "execute_result"
    }
   ],
   "source": [
    "not False"
   ]
  },
  {
   "cell_type": "code",
   "execution_count": 87,
   "metadata": {},
   "outputs": [
    {
     "data": {
      "text/plain": [
       "False"
      ]
     },
     "execution_count": 87,
     "metadata": {},
     "output_type": "execute_result"
    }
   ],
   "source": [
    "True and False"
   ]
  },
  {
   "cell_type": "code",
   "execution_count": 88,
   "metadata": {},
   "outputs": [
    {
     "data": {
      "text/plain": [
       "True"
      ]
     },
     "execution_count": 88,
     "metadata": {},
     "output_type": "execute_result"
    }
   ],
   "source": [
    "True or False"
   ]
  },
  {
   "cell_type": "code",
   "execution_count": 89,
   "metadata": {},
   "outputs": [
    {
     "data": {
      "text/plain": [
       "True"
      ]
     },
     "execution_count": 89,
     "metadata": {},
     "output_type": "execute_result"
    }
   ],
   "source": [
    "True and not False"
   ]
  },
  {
   "cell_type": "markdown",
   "metadata": {},
   "source": [
    "#### Operaciones sobre _strings_\n",
    "En general, no se pueden usar operadores matemáticos sobre strings, aun cuando los strings parezcan números, por lo que las siguientes expresiones son ilegales:"
   ]
  },
  {
   "cell_type": "code",
   "execution_count": 90,
   "metadata": {},
   "outputs": [
    {
     "ename": "TypeError",
     "evalue": "unsupported operand type(s) for -: 'str' and 'str'",
     "output_type": "error",
     "traceback": [
      "\u001b[0;31m---------------------------------------------------------------------------\u001b[0m",
      "\u001b[0;31mTypeError\u001b[0m                                 Traceback (most recent call last)",
      "\u001b[0;32m<ipython-input-90-300ceb254b7e>\u001b[0m in \u001b[0;36m<module>\u001b[0;34m\u001b[0m\n\u001b[0;32m----> 1\u001b[0;31m \u001b[0;34m'2'\u001b[0m \u001b[0;34m-\u001b[0m \u001b[0;34m'1'\u001b[0m\u001b[0;34m\u001b[0m\u001b[0;34m\u001b[0m\u001b[0m\n\u001b[0m",
      "\u001b[0;31mTypeError\u001b[0m: unsupported operand type(s) for -: 'str' and 'str'"
     ]
    }
   ],
   "source": [
    "'2' - '1' "
   ]
  },
  {
   "cell_type": "code",
   "execution_count": 91,
   "metadata": {},
   "outputs": [
    {
     "ename": "TypeError",
     "evalue": "unsupported operand type(s) for /: 'str' and 'str'",
     "output_type": "error",
     "traceback": [
      "\u001b[0;31m---------------------------------------------------------------------------\u001b[0m",
      "\u001b[0;31mTypeError\u001b[0m                                 Traceback (most recent call last)",
      "\u001b[0;32m<ipython-input-91-a4812319ed01>\u001b[0m in \u001b[0;36m<module>\u001b[0;34m\u001b[0m\n\u001b[0;32m----> 1\u001b[0;31m \u001b[0;34m'huevos'\u001b[0m \u001b[0;34m/\u001b[0m \u001b[0;34m'fácil'\u001b[0m\u001b[0;34m\u001b[0m\u001b[0;34m\u001b[0m\u001b[0m\n\u001b[0m",
      "\u001b[0;31mTypeError\u001b[0m: unsupported operand type(s) for /: 'str' and 'str'"
     ]
    }
   ],
   "source": [
    "'huevos' / 'fácil'"
   ]
  },
  {
   "cell_type": "code",
   "execution_count": 92,
   "metadata": {},
   "outputs": [
    {
     "ename": "TypeError",
     "evalue": "can't multiply sequence by non-int of type 'str'",
     "output_type": "error",
     "traceback": [
      "\u001b[0;31m---------------------------------------------------------------------------\u001b[0m",
      "\u001b[0;31mTypeError\u001b[0m                                 Traceback (most recent call last)",
      "\u001b[0;32m<ipython-input-92-4560b22ee2d6>\u001b[0m in \u001b[0;36m<module>\u001b[0;34m\u001b[0m\n\u001b[0;32m----> 1\u001b[0;31m \u001b[0;34m'tercero'\u001b[0m \u001b[0;34m*\u001b[0m \u001b[0;34m'un amuleto'\u001b[0m\u001b[0;34m\u001b[0m\u001b[0;34m\u001b[0m\u001b[0m\n\u001b[0m",
      "\u001b[0;31mTypeError\u001b[0m: can't multiply sequence by non-int of type 'str'"
     ]
    }
   ],
   "source": [
    "'tercero' * 'un amuleto'"
   ]
  },
  {
   "cell_type": "markdown",
   "metadata": {},
   "source": [
    "Sin embargo, los operadores \"+\" y \"*\" son la excepción.\n",
    "El operador \"+\" realiza la concatenación de strings, lo que significa que une las cadenas de extremo a extremo. Por ejemplo:"
   ]
  },
  {
   "cell_type": "code",
   "execution_count": 93,
   "metadata": {},
   "outputs": [
    {
     "data": {
      "text/plain": [
       "'sinceramente'"
      ]
     },
     "execution_count": 93,
     "metadata": {},
     "output_type": "execute_result"
    }
   ],
   "source": [
    "first = 'sincera'\n",
    "second = 'mente'\n",
    "first + second"
   ]
  },
  {
   "cell_type": "markdown",
   "metadata": {},
   "source": [
    "El operador $*$ también está _sobrecargado_ (funciona) para strings: realiza la concatenación repetida de una misa cadena. "
   ]
  },
  {
   "cell_type": "code",
   "execution_count": 94,
   "metadata": {},
   "outputs": [
    {
     "data": {
      "text/plain": [
       "'SpamSpamSpam'"
      ]
     },
     "execution_count": 94,
     "metadata": {},
     "output_type": "execute_result"
    }
   ],
   "source": [
    "'Spam' * 3 # Si uno de los valores es una cadena, el otro tiene que ser un número entero."
   ]
  },
  {
   "cell_type": "markdown",
   "metadata": {},
   "source": [
    "Este uso de $+$ y $*$ tiene sentido por analogía con la suma y la multiplicación. Así como $4 * 3$ es equivalente a $4 + 4 + 4$, esperamos que $'Spam' * 3$ sea lo mismo que $'Spam' + 'Spam' + 'Spam'$, y lo es. \n",
    "\n",
    "Por otro lado, hay una manera significativa en que la concatenación y la repetición de la cadena son diferentes de la suma y la multiplicación de enteros. ¿Puedes pensar en una propiedad que además de esa concatenación de cadenas no tiene?"
   ]
  },
  {
   "cell_type": "markdown",
   "metadata": {},
   "source": [
    "Los strings se puede acceder como si fueran un arreglo, es decir, se puede consultar sus elementos por posición, donde la primera corresponde al índice \"0\""
   ]
  },
  {
   "cell_type": "code",
   "execution_count": 95,
   "metadata": {},
   "outputs": [
    {
     "name": "stdout",
     "output_type": "stream",
     "text": [
      "H\n",
      "o\n"
     ]
    }
   ],
   "source": [
    "s=\"Hola\"\n",
    "print(s[0])\n",
    "print(s[1])"
   ]
  },
  {
   "cell_type": "code",
   "execution_count": 96,
   "metadata": {},
   "outputs": [
    {
     "ename": "IndexError",
     "evalue": "string index out of range",
     "output_type": "error",
     "traceback": [
      "\u001b[0;31m---------------------------------------------------------------------------\u001b[0m",
      "\u001b[0;31mIndexError\u001b[0m                                Traceback (most recent call last)",
      "\u001b[0;32m<ipython-input-96-a81280e08423>\u001b[0m in \u001b[0;36m<module>\u001b[0;34m\u001b[0m\n\u001b[0;32m----> 1\u001b[0;31m \u001b[0ms\u001b[0m\u001b[0;34m[\u001b[0m\u001b[0;36m4\u001b[0m\u001b[0;34m]\u001b[0m\u001b[0;34m\u001b[0m\u001b[0;34m\u001b[0m\u001b[0m\n\u001b[0m",
      "\u001b[0;31mIndexError\u001b[0m: string index out of range"
     ]
    }
   ],
   "source": [
    "s[4]"
   ]
  },
  {
   "cell_type": "code",
   "execution_count": null,
   "metadata": {},
   "outputs": [],
   "source": [
    "s[-1] # los índices negativos indican que la estructura se debe \"recorrer\" al revés"
   ]
  },
  {
   "cell_type": "markdown",
   "metadata": {},
   "source": [
    "Más adelante en el curso, veremos más sobre operaciones sobre strings, listas e índices."
   ]
  },
  {
   "cell_type": "markdown",
   "metadata": {},
   "source": [
    "### Input por teclado"
   ]
  },
  {
   "cell_type": "markdown",
   "metadata": {},
   "source": [
    "En ciertas ocasiones es necesario que el usuario del programa ingrese valores de entrada al programa.\n",
    "Python proporciona una función nativa (_bult-in function_) llamada _input_ que detiene el programa y espera a que el usuario ingrese algo. Cuando el usuario presiona \"Return\" o \"Enter\", el programa se reanuda y la función devuelve lo que el usuario escribió como una cadena."
   ]
  },
  {
   "cell_type": "code",
   "execution_count": 97,
   "metadata": {},
   "outputs": [
    {
     "name": "stdin",
     "output_type": "stream",
     "text": [
      " hola\n"
     ]
    }
   ],
   "source": [
    "text = input()"
   ]
  },
  {
   "cell_type": "code",
   "execution_count": 98,
   "metadata": {},
   "outputs": [
    {
     "data": {
      "text/plain": [
       "'hola'"
      ]
     },
     "execution_count": 98,
     "metadata": {},
     "output_type": "execute_result"
    }
   ],
   "source": [
    "text"
   ]
  },
  {
   "cell_type": "markdown",
   "metadata": {},
   "source": [
    "\n",
    "### Errores\n",
    "Python identifica distintos tipos de [errores](https://docs.python.org/3.6/library/exceptions.html), sin embargo, para presentar una clasificación más simplificada, diremos que en un programa pueden ocurrir 3 tipos de errores: sintácticos, de tiempo de ejecución y semánticos. Para ser capaz de solucionar cada uno de estos, primero es importante identificar qué los distingue.\n",
    "\n",
    "#### Errores sintácticos:\n",
    "La palabra sintaxis en este caso se refiere a la estrcutura del programa y las reglas que rigen la misma. Por ejemplo, ya que los apréntesis deben usarse de apares, la expresión $(1 + 2)$ es legal, pero la expresión $8)$ es un error sintáctico.\n",
    "En caso de haber un error sintáctico en el programa, Python muestra un mensaje de error y finaliza la ejecución. En una primer etapa, todo programador destina mucho tiempo examinando errores. \n",
    "Esto va cambiando a medida que se va ganando experiencia con el lenguaje (y paradigma), los errores se generan en menor proporción y en caso en que se generen, los mismos son identificados rápidamente.\n",
    "\n",
    "#### Errores en tiempo de ejecución (Runtime):\n",
    "Este tipo de error recibe su nombre porque los mismos se dan cuando el programa se ejecuta. Estos errores son también llamados _excepciones_ porque indican que algo excepcional -y malo- ha pasado.\n",
    "\n",
    "Es importante destacar que debido a que Python es un lenguaje interpretado, se puede considerar a los errores sintáticos como errores en tiempo de ejecución. \n",
    "**Nota:** ver el nombre del dominio en el link de más arriba que informa de los errores en Python.\n",
    "\n",
    "\n",
    "#### Errores semánticos\n",
    "\n",
    "El tercer tipo de error es _semántico_, la palabra indica que está relacionado con el significado. \n",
    "Si hay un error semántico en tu programa, el mismo se ejecutará sin generar mensajes de error, pero no hará lo correcto; sino que hará otra cosa (para ser específicos, hará lo que le indicaste que hiciera). \n",
    "En ciertos casos, identificar los errores semánticos puede ser complicado porque requiere que trabajes \"hacia atrás\" mirando la salida del programa e intentando averiguar qué está haciendo. Existen ciertos entornos que favorecen esta actividad proporcionando herrmientas llamadas _debuggers_.\n"
   ]
  },
  {
   "cell_type": "code",
   "execution_count": 99,
   "metadata": {},
   "outputs": [
    {
     "ename": "NameError",
     "evalue": "name 'ñ' is not defined",
     "output_type": "error",
     "traceback": [
      "\u001b[0;31m---------------------------------------------------------------------------\u001b[0m",
      "\u001b[0;31mNameError\u001b[0m                                 Traceback (most recent call last)",
      "\u001b[0;32m<ipython-input-99-080e3c8a1a9b>\u001b[0m in \u001b[0;36m<module>\u001b[0;34m\u001b[0m\n\u001b[1;32m      1\u001b[0m \u001b[0;31m# Por ejemplo, si tratamos de usar una variable que no ha sido definida previamente obtendremos un mensaje de error:\u001b[0m\u001b[0;34m\u001b[0m\u001b[0;34m\u001b[0m\u001b[0;34m\u001b[0m\u001b[0m\n\u001b[0;32m----> 2\u001b[0;31m \u001b[0mñ\u001b[0m\u001b[0;34m\u001b[0m\u001b[0;34m\u001b[0m\u001b[0m\n\u001b[0m",
      "\u001b[0;31mNameError\u001b[0m: name 'ñ' is not defined"
     ]
    }
   ],
   "source": [
    "# Por ejemplo, si tratamos de usar una variable que no ha sido definida previamente obtendremos un mensaje de error:\n",
    "ñ"
   ]
  },
  {
   "cell_type": "markdown",
   "metadata": {},
   "source": [
    "Cuando un error sintáctico o en tiempo de ejecución ocurre, el mensaje contiene mucha información del error, incluso en algunos casos puede llegar a ser \"demasiada\". Es por esto que los aspectos más importantes a identificar del error son:\n",
    "\n",
    "- Qué tipo de error surgió\n",
    "- En dónde surgió\n",
    "\n",
    "Los errores de sintaxis son generalmente fáciles de encontrar, pero también hay que tener ciertos cuidados. \n",
    "Los errores de espacios en blanco pueden ser complicados porque los espacios y los _tabs_ son invisibles y naturalmente estamos acostumbrados a ignorarlos."
   ]
  },
  {
   "cell_type": "code",
   "execution_count": 100,
   "metadata": {},
   "outputs": [
    {
     "ename": "IndentationError",
     "evalue": "unexpected indent (<ipython-input-100-33618411f379>, line 2)",
     "output_type": "error",
     "traceback": [
      "\u001b[0;36m  File \u001b[0;32m\"<ipython-input-100-33618411f379>\"\u001b[0;36m, line \u001b[0;32m2\u001b[0m\n\u001b[0;31m    y = 6\u001b[0m\n\u001b[0m    ^\u001b[0m\n\u001b[0;31mIndentationError\u001b[0m\u001b[0;31m:\u001b[0m unexpected indent\n"
     ]
    }
   ],
   "source": [
    "x = 5\n",
    " y = 6"
   ]
  },
  {
   "cell_type": "markdown",
   "metadata": {},
   "source": [
    "Los carteles contienen información valiosa del error, aunque no siempre son precisos."
   ]
  },
  {
   "cell_type": "code",
   "execution_count": 101,
   "metadata": {},
   "outputs": [
    {
     "ename": "ZeroDivisionError",
     "evalue": "division by zero",
     "output_type": "error",
     "traceback": [
      "\u001b[0;31m---------------------------------------------------------------------------\u001b[0m",
      "\u001b[0;31mZeroDivisionError\u001b[0m                         Traceback (most recent call last)",
      "\u001b[0;32m<ipython-input-101-8f4a4db09f3e>\u001b[0m in \u001b[0;36m<module>\u001b[0;34m\u001b[0m\n\u001b[1;32m      5\u001b[0m \u001b[0;31m#...\u001b[0m\u001b[0;34m\u001b[0m\u001b[0;34m\u001b[0m\u001b[0;34m\u001b[0m\u001b[0m\n\u001b[1;32m      6\u001b[0m \u001b[0;31m#...\u001b[0m\u001b[0;34m\u001b[0m\u001b[0;34m\u001b[0m\u001b[0;34m\u001b[0m\u001b[0m\n\u001b[0;32m----> 7\u001b[0;31m \u001b[0mprint\u001b[0m \u001b[0;34m(\u001b[0m\u001b[0my\u001b[0m\u001b[0;34m/\u001b[0m\u001b[0mres\u001b[0m\u001b[0;34m)\u001b[0m\u001b[0;34m\u001b[0m\u001b[0;34m\u001b[0m\u001b[0m\n\u001b[0m",
      "\u001b[0;31mZeroDivisionError\u001b[0m: division by zero"
     ]
    }
   ],
   "source": [
    "y=5\n",
    "x=5\n",
    "res=y-x\n",
    "#...\n",
    "#...\n",
    "#...\n",
    "print (y/res)"
   ]
  },
  {
   "cell_type": "markdown",
   "metadata": {},
   "source": [
    "Los errores son parte central de la programación y hay que acostumbrarse a cometerlos ya que así es como se avanza en la escritura de un programa. Al producirse errores  Python entrega mensajes que son muy informativos y por lo tanto útiles para solucionar el error, por lo que es muy beneficioso aprender a interpretarlos y prestarles mucha atención cuando ocurren salvo, claro está, que uno tenga como _hobby_ el perder tiempo.  \n",
    "\n",
    "El proceso de corrección de errores de un programa se llama _debugging_ y es quizá una de las tareas más demandantes al escribir código. Python fue pensado como un lenguaje fácil de leer debido a que en general uno pasa más tiempo leyendo código (para arreglar los errores) que escribiéndolo. Mitad broma, mitad en serio, se dice que si el _debugging_ es el proceso por el cual se eliminan errores la _programación_ debe ser el proceso por el cual se introducen los errores."
   ]
  },
  {
   "cell_type": "markdown",
   "metadata": {},
   "source": [
    "### Selección (Condicional)\n",
    "Para poder generar programas que realicen determinadas tareas, casi siempre es impredcindible tener la posibilidad de verificar condiciones y en base a esto cambiar el comportamiento del programa. \n",
    "Las sentencias condicionales proporcionan esta características en los lenguajes de programación.\n",
    "A continuación se brinda un ejemplo sencillo del uso de dichas sentencias en Python: "
   ]
  },
  {
   "cell_type": "code",
   "execution_count": 102,
   "metadata": {},
   "outputs": [
    {
     "name": "stdout",
     "output_type": "stream",
     "text": [
      "x es positivo\n"
     ]
    }
   ],
   "source": [
    "x = 2\n",
    "if x > 0:\n",
    "    print('x es positivo')"
   ]
  },
  {
   "cell_type": "markdown",
   "metadata": {},
   "source": [
    "La expresión booleana después de la palabra reservada **if** se denomina _condición_.\n",
    "Si la misma es verdadera (_True_), se ejecuta la sentencia que se encuentra dentro del bloque (en este caso, la sentencia identada); en otro caso (_False_), no pasa nada.\n",
    "\n",
    "Dentro del _cuerpo_ de la condición, es decir, abajo de los dos puntos que finalizan la condición, se pueden colocar un conjunto de sentencias. No hay límite en cantidad, sin embargo al menos debe contener una sentencia. \n",
    "En ciertas ocasiones es necesario tener un _cuerpo_ sin sentencias (generalmente, cuando se posterga la programación de la condición); en ese caso, se puede utilizar la sentencia _pass_ que no hace nada."
   ]
  },
  {
   "cell_type": "code",
   "execution_count": 103,
   "metadata": {},
   "outputs": [],
   "source": [
    "if x < 0:\n",
    "    pass # TODO: se deben manejar valores negativos"
   ]
  },
  {
   "cell_type": "markdown",
   "metadata": {},
   "source": [
    "**Importante:** Python usa la identación como delimitador de sentencias compuestas! Lo que equivale a  \"{\" y \"}\" en Java o C"
   ]
  },
  {
   "cell_type": "markdown",
   "metadata": {},
   "source": [
    "#### Condicional con ejecución alternativa"
   ]
  },
  {
   "cell_type": "code",
   "execution_count": 104,
   "metadata": {},
   "outputs": [
    {
     "name": "stdout",
     "output_type": "stream",
     "text": [
      "x es par\n"
     ]
    }
   ],
   "source": [
    "x=4\n",
    "if x % 2 == 0:\n",
    "    print('x es par')\n",
    "else:\n",
    "    print('x es impar')"
   ]
  },
  {
   "cell_type": "markdown",
   "metadata": {},
   "source": [
    "#### Condicional encadendo"
   ]
  },
  {
   "cell_type": "code",
   "execution_count": 105,
   "metadata": {},
   "outputs": [
    {
     "name": "stdout",
     "output_type": "stream",
     "text": [
      "x es mayor que y\n"
     ]
    }
   ],
   "source": [
    "y=2\n",
    "if x < y:\n",
    "    print('x es menor que y')\n",
    "elif x > y:\n",
    "    print('x es mayor que y')\n",
    "else:\n",
    "    print('x e y son iguales')"
   ]
  },
  {
   "cell_type": "markdown",
   "metadata": {},
   "source": [
    "**elif** es una abreviación de \"else if\". \n",
    "No hay límites en la cantidad de sentencias **elif**. \n",
    "En caso en que se deba incorporar una sentencia **else**, debe ser al final, pero no es obligación que haya una. "
   ]
  },
  {
   "cell_type": "markdown",
   "metadata": {},
   "source": [
    "#### Condicional anidado"
   ]
  },
  {
   "cell_type": "code",
   "execution_count": 106,
   "metadata": {},
   "outputs": [
    {
     "name": "stdout",
     "output_type": "stream",
     "text": [
      "x is greater than y\n"
     ]
    }
   ],
   "source": [
    "if x == y:\n",
    "    print('x and y are equal')\n",
    "else:\n",
    "    if x < y:\n",
    "        print('x is less than y')\n",
    "    else:\n",
    "        print('x is greater than y')"
   ]
  },
  {
   "cell_type": "markdown",
   "metadata": {},
   "source": [
    "## Iteraciones\n",
    "Una de las caracterísitcas más relevantes de las computadoras es que pueden realizar tareas repetitivas sin equivocarse, habilidad en la que los humanos no se destacan. \n",
    "En el contexto de la programación, la repetición es también llamada _iteración_"
   ]
  },
  {
   "cell_type": "markdown",
   "metadata": {},
   "source": [
    "#### Sentencia _while_"
   ]
  },
  {
   "cell_type": "markdown",
   "metadata": {},
   "source": [
    "La sentencia _while_ posee el siguiente flujo de ejecución:\n",
    "1. Determinar si la condición es verdadera o falsa\n",
    "2. Si es falsa, abandonar el bloque _while_ y continuar con la ejecución de la siguiente sentencia.\n",
    "3. Si la condición es verdadera, ejecutar el cuerpo y posteriormente volver al paso 1."
   ]
  },
  {
   "cell_type": "code",
   "execution_count": 107,
   "metadata": {},
   "outputs": [],
   "source": [
    "def countdown(n):\n",
    "    while n > 0:\n",
    "        print(n)\n",
    "        n = n - 1    "
   ]
  },
  {
   "cell_type": "code",
   "execution_count": 108,
   "metadata": {},
   "outputs": [
    {
     "name": "stdout",
     "output_type": "stream",
     "text": [
      "3\n",
      "2\n",
      "1\n"
     ]
    }
   ],
   "source": [
    "countdown(3)"
   ]
  },
  {
   "cell_type": "markdown",
   "metadata": {},
   "source": [
    "Este tipo de flujo se denomina _loop_ ya que en el tercer paso, el flujo de ejecución vuelve al principio. Es por este motivo que, por lo general, es necesario que dentro del cuerpo de la sentencia haya algún cambio que haga que las iteraciones se terminen en algún momento. Caso contrario, si el loop nunca termina se denomina _loop infinito_."
   ]
  },
  {
   "cell_type": "markdown",
   "metadata": {},
   "source": [
    "#### Sentencia _for each_\n",
    "Esta es una de las mayores facilidades provistas por Python a diferencia de otros lenguajes. La sentencia **for** es bastante amplia y en este lenguaje puede ser usada de distintas formas. La más básica es la siguiente:"
   ]
  },
  {
   "cell_type": "code",
   "execution_count": 109,
   "metadata": {},
   "outputs": [
    {
     "name": "stdout",
     "output_type": "stream",
     "text": [
      "0\n",
      "1\n",
      "2\n",
      "3\n"
     ]
    }
   ],
   "source": [
    "for i in range(4):\n",
    "    print(i)"
   ]
  },
  {
   "cell_type": "code",
   "execution_count": 110,
   "metadata": {},
   "outputs": [
    {
     "ename": "NameError",
     "evalue": "name 'saludo' is not defined",
     "output_type": "error",
     "traceback": [
      "\u001b[0;31m---------------------------------------------------------------------------\u001b[0m",
      "\u001b[0;31mNameError\u001b[0m                                 Traceback (most recent call last)",
      "\u001b[0;32m<ipython-input-110-2ae129c675e5>\u001b[0m in \u001b[0;36m<module>\u001b[0;34m\u001b[0m\n\u001b[1;32m      1\u001b[0m \u001b[0;32mfor\u001b[0m \u001b[0mn\u001b[0m \u001b[0;32min\u001b[0m \u001b[0;34m[\u001b[0m\u001b[0;34m\"Juan\"\u001b[0m\u001b[0;34m,\u001b[0m \u001b[0;34m\"Leticia\"\u001b[0m\u001b[0;34m,\u001b[0m \u001b[0;34m\"Santiago\"\u001b[0m\u001b[0;34m]\u001b[0m\u001b[0;34m:\u001b[0m\u001b[0;34m\u001b[0m\u001b[0;34m\u001b[0m\u001b[0m\n\u001b[0;32m----> 2\u001b[0;31m     \u001b[0msaludo\u001b[0m\u001b[0;34m(\u001b[0m\u001b[0mn\u001b[0m\u001b[0;34m)\u001b[0m\u001b[0;34m\u001b[0m\u001b[0;34m\u001b[0m\u001b[0m\n\u001b[0m",
      "\u001b[0;31mNameError\u001b[0m: name 'saludo' is not defined"
     ]
    }
   ],
   "source": [
    "for n in [\"Juan\", \"Leticia\", \"Santiago\"]:\n",
    "    saludo(n)"
   ]
  },
  {
   "cell_type": "code",
   "execution_count": 111,
   "metadata": {},
   "outputs": [
    {
     "name": "stdout",
     "output_type": "stream",
     "text": [
      "1) Juan\n",
      "2) Leticia\n",
      "3) Santiago\n"
     ]
    }
   ],
   "source": [
    "for ord,nom in enumerate([\"Juan\", \"Leticia\", \"Santiago\"]):\n",
    "    print(str(ord + 1) + \") \" + nom)"
   ]
  },
  {
   "cell_type": "markdown",
   "metadata": {},
   "source": [
    "#### Sentencia _break_\n",
    "En ciertas ocasiones el punto de finalización del loop puede conocerse dentro del cuerpo del _loop_.\n",
    "En ese caso, se puede hacer uso de la sentencia _break_ para realizar un \"salto\" fuera del loop. \n",
    "Por ejemplo, supongamos que se le pide al usuario que ingrese datos y de acuerdo a lo que ingrese se determina si se sigue iterando o se termina el loop. Se podría realizar lo siguiente:"
   ]
  },
  {
   "cell_type": "code",
   "execution_count": 112,
   "metadata": {},
   "outputs": [
    {
     "name": "stdin",
     "output_type": "stream",
     "text": [
      ">  fin\n"
     ]
    },
    {
     "name": "stdout",
     "output_type": "stream",
     "text": [
      "FIN!\n"
     ]
    }
   ],
   "source": [
    "while True:\n",
    "    line = input('> ')\n",
    "    if line == 'fin':\n",
    "        break\n",
    "    print(line)\n",
    "print(\"FIN!\")"
   ]
  },
  {
   "cell_type": "code",
   "execution_count": 113,
   "metadata": {},
   "outputs": [],
   "source": [
    "nombres = [\"Juan\", \"Claudio\", \"Pedro\", \"Ana\", \"Pipo\"]\n",
    "for n in nombres:    \n",
    "    if n == \"Pipo\":\n",
    "        break\n",
    "    elif n[0] == \"S\":\n",
    "        break\n",
    "else: # se ejecuta cuando se completa la iteración sin \"interrupciones\"\n",
    "    print(\"NO encontrado\")"
   ]
  },
  {
   "cell_type": "markdown",
   "metadata": {},
   "source": [
    "## Funciones\n",
    "Dentro del contexto de programación, una función es una aglomeración de secuencia de sentencias identificadas con un nombre que realizan alguna tarea en particular. \n",
    "Cuano se define una función, se especifica el nombre y la secuencia de sentencias que la componen. \n",
    "Posteriormente, la misma se puede invocar usando su nombre. "
   ]
  },
  {
   "cell_type": "markdown",
   "metadata": {},
   "source": [
    "#### Invocaciones\n",
    "En cierta forma,ya hemos usado funciones, es decir hemos estado invocando ciertas funciones que provee Python. Un claro ejemplo es:"
   ]
  },
  {
   "cell_type": "code",
   "execution_count": 114,
   "metadata": {},
   "outputs": [
    {
     "data": {
      "text/plain": [
       "int"
      ]
     },
     "execution_count": 114,
     "metadata": {},
     "output_type": "execute_result"
    }
   ],
   "source": [
    "type(42)"
   ]
  },
  {
   "cell_type": "markdown",
   "metadata": {},
   "source": [
    "En este caso, el nombre de la función es \"type\". La expresión entre los paréntesis se denomina _argumento_. El resultado de esta función es informar el tipo de la expresión dentro de los paréntesis.\n",
    "\n",
    "Una función puede tomar cero o más argumentos, tantos como se necesiten. "
   ]
  },
  {
   "cell_type": "markdown",
   "metadata": {},
   "source": [
    "#### Módulos\n",
    "Un módulo es un archivo que contiene un conjunto de funciones relacionadas entre sí. \n",
    "Por ejempo, Python provee el módulo [_math_](https://docs.python.org/3/library/math.html) que contiene un conjunto de funciones matemáticas utilizadas comunmente. Para hacer uso de dicho módulo el mismo se debe importar."
   ]
  },
  {
   "cell_type": "code",
   "execution_count": 115,
   "metadata": {},
   "outputs": [],
   "source": [
    "import math"
   ]
  },
  {
   "cell_type": "markdown",
   "metadata": {},
   "source": [
    "Para su uso se debe usar el nombre del modulo seguido de un punto \".\" y el nombre de la función. "
   ]
  },
  {
   "cell_type": "code",
   "execution_count": 116,
   "metadata": {},
   "outputs": [
    {
     "data": {
      "text/plain": [
       "120"
      ]
     },
     "execution_count": 116,
     "metadata": {},
     "output_type": "execute_result"
    }
   ],
   "source": [
    "fact= math.factorial(5)\n",
    "fact"
   ]
  },
  {
   "cell_type": "code",
   "execution_count": 117,
   "metadata": {},
   "outputs": [
    {
     "data": {
      "text/plain": [
       "0.644217687237691"
      ]
     },
     "execution_count": 117,
     "metadata": {},
     "output_type": "execute_result"
    }
   ],
   "source": [
    "radians = 0.7\n",
    "height = math.sin(radians)\n",
    "height"
   ]
  },
  {
   "cell_type": "code",
   "execution_count": 118,
   "metadata": {},
   "outputs": [
    {
     "data": {
      "text/plain": [
       "6"
      ]
     },
     "execution_count": 118,
     "metadata": {},
     "output_type": "execute_result"
    }
   ],
   "source": [
    "fact = math.factorial(math.sqrt(9)) # composición. Como se resuelve la ejecución?\n",
    "fact"
   ]
  },
  {
   "cell_type": "markdown",
   "metadata": {},
   "source": [
    "#### Definición\n",
    "Una definición de una función especifica el nombre de una nueva función y la secuencia de sentencias que se ejecutan cuando la misma sea invocada. "
   ]
  },
  {
   "cell_type": "code",
   "execution_count": 119,
   "metadata": {},
   "outputs": [],
   "source": [
    "def hello_world(): # las reglas de nombramiento de funciones es igual que en variables\n",
    "        print(\"Hello world!\") # por convención la identación es de 4 espacios"
   ]
  },
  {
   "cell_type": "markdown",
   "metadata": {},
   "source": [
    "En el caso de la función $hello\\_world$, como dentro de los paréntesis no se ha definido nada, la funcion no toma parámetros, es decir, siempre se invoca con los paréntesis vaciós."
   ]
  },
  {
   "cell_type": "code",
   "execution_count": 120,
   "metadata": {},
   "outputs": [
    {
     "name": "stdout",
     "output_type": "stream",
     "text": [
      "Hello world!\n"
     ]
    }
   ],
   "source": [
    "hello_world()"
   ]
  },
  {
   "cell_type": "markdown",
   "metadata": {},
   "source": [
    "#### Argumentos\n",
    "Algunas de las funciones requieren argumentos, incluso algunas necesitan de más de uno. Por ejemplo, la función _math.pow_ requiere que se le pasen dos: base y eponente.\n",
    "Dentro de cada función, los argumentos son asignados a variables llamadas parámetros. Por ejemplo, a continuación definimos una función que toma un único argumento:"
   ]
  },
  {
   "cell_type": "code",
   "execution_count": 121,
   "metadata": {},
   "outputs": [],
   "source": [
    "def saludo (nombre):\n",
    "    aux= \"Hola \" + nombre \n",
    "    print(aux) # dentro de la función, \"nombre\" es un parámetro y \"aux\" una variable local"
   ]
  },
  {
   "cell_type": "code",
   "execution_count": 122,
   "metadata": {},
   "outputs": [
    {
     "name": "stdout",
     "output_type": "stream",
     "text": [
      "Hola Juan\n"
     ]
    }
   ],
   "source": [
    "saludo(\"Juan\") # \"Juan\" es un argumento"
   ]
  },
  {
   "cell_type": "markdown",
   "metadata": {},
   "source": [
    "Las expresiones o sentencias en el lugar de los argumentos son evaluadas antes de que la función sea invocada. "
   ]
  },
  {
   "cell_type": "code",
   "execution_count": 123,
   "metadata": {},
   "outputs": [
    {
     "name": "stdout",
     "output_type": "stream",
     "text": [
      "Hola Juan Manuel\n"
     ]
    }
   ],
   "source": [
    "saludo (\"Juan\" + \" Manuel\")"
   ]
  },
  {
   "cell_type": "markdown",
   "metadata": {},
   "source": [
    "Las variables definidas dentro de cada función y los parámetros son locales a la misma, es decir, sólo existen dentro de la función donde fueron definidos."
   ]
  },
  {
   "cell_type": "code",
   "execution_count": 124,
   "metadata": {},
   "outputs": [
    {
     "ename": "NameError",
     "evalue": "name 'aux' is not defined",
     "output_type": "error",
     "traceback": [
      "\u001b[0;31m---------------------------------------------------------------------------\u001b[0m",
      "\u001b[0;31mNameError\u001b[0m                                 Traceback (most recent call last)",
      "\u001b[0;32m<ipython-input-124-f88c8ce72f69>\u001b[0m in \u001b[0;36m<module>\u001b[0;34m\u001b[0m\n\u001b[0;32m----> 1\u001b[0;31m \u001b[0mprint\u001b[0m\u001b[0;34m(\u001b[0m\u001b[0maux\u001b[0m\u001b[0;34m)\u001b[0m\u001b[0;34m\u001b[0m\u001b[0;34m\u001b[0m\u001b[0m\n\u001b[0m",
      "\u001b[0;31mNameError\u001b[0m: name 'aux' is not defined"
     ]
    }
   ],
   "source": [
    "print(aux)"
   ]
  },
  {
   "cell_type": "markdown",
   "metadata": {},
   "source": [
    "Algunas funciones retornan valores, como aquellas que vimos de la librería/módulo _math_, mientras que otras ejecutan cierta tarea pero no retornan valor alguno, como por ejemplo la función _saludo_ que definimos anteriormente. \n",
    "\n",
    "En modo interactivo (por ejemplo notebook o consola), cuando se invoca una función que retorna algun valor y esta no se usa de alguna manera, dicho valor es mostrado por pantalla. En cambio, si se está desarrollando un script, este valor se pierde. Por ejemplo:"
   ]
  },
  {
   "cell_type": "code",
   "execution_count": 125,
   "metadata": {},
   "outputs": [
    {
     "data": {
      "text/plain": [
       "2.0"
      ]
     },
     "execution_count": 125,
     "metadata": {},
     "output_type": "execute_result"
    }
   ],
   "source": [
    "math.sqrt(4)"
   ]
  },
  {
   "cell_type": "markdown",
   "metadata": {},
   "source": [
    "### ¿Porqué usar funciones?\n",
    "Al analizar la definición de funciones, es posible pensar en que se puede programar sin hacer uso de las mismas. Sin embargo, existen numerosas razones que justifican su uso:\n",
    "\n",
    "- Definir nuevas funciones permite nombrar conjunto de sentencias agrupadas con un propósito, esto hace al programa más facil de leer y _debuggear_.\n",
    "- Las funciones reducen el tamaño de los programas eliminando repeticiones de un mismo grupo de sentencias. Además, en caso de haber un error, sólo debe ser enmendado en un único lugar. \n",
    "- Dividir el programa en funciones permite corregir errores por partes y finalmente ensamblar todas las partes correctas en un único programa. Sin mencionar la facilidad para _testeo_.\n",
    "- Aquellas funciones bien diseñadas y documentadas pueden ser utilizadas por distintos programas. Una vez que se escribe y se corrige una función, la misma puede ser _reutilizada_ en distintas ocasiones.   "
   ]
  },
  {
   "cell_type": "markdown",
   "metadata": {},
   "source": [
    "### Problem solving\n",
    "\n",
    "> Si tenés 8 horas para cortar un árbol, mejor pasá 6 horas afilando el hacha.\n",
    "\n",
    "Antes de sentarnos a programar conviene tener una idea al menos aproximada del problema que queremos resolver, esto nos ahorrará tiempo y blabalbalba\n",
    "\n",
    "\n",
    "Supongamos que nuestro problema consiste en calcular el promedio (o media) de un conjunto de números. En lenguaje matemático esto se expresa como:\n",
    "\n",
    "$$E[x] = \\frac{1}{n} \\sum_{i=1}^n{x_i} = \\frac{x_1 + x_2, + x_3 \\cdots x_n}{n}$$\n",
    "\n",
    "Entonces vemos que el problema \"calcular un promedio\" se resuelve sumando los números que queremos promediar y dividiendo por la cantidad total de números a promediar.\n",
    "\n",
    "Con lo que ya sabemos de Python podemos calcular una media como:"
   ]
  },
  {
   "cell_type": "code",
   "execution_count": 126,
   "metadata": {},
   "outputs": [
    {
     "data": {
      "text/plain": [
       "3.5"
      ]
     },
     "execution_count": 126,
     "metadata": {},
     "output_type": "execute_result"
    }
   ],
   "source": [
    "media = (1 + 2 + 3 + 4 + 5 + 6) / 6\n",
    "media"
   ]
  },
  {
   "cell_type": "markdown",
   "metadata": {},
   "source": [
    "El código que acabamos de escribir no difiere mucho de usar una calculadora, primero tenemos que ingresar los números _a mano_ y además tenemos que saber exactamente la cantidad total de números.\n",
    "\n",
    "Usando un lenguaje de programación podemos hacer algo bastante más cómodo. Pero antes tenemos que aprender un par de conceptos nuevos que veremos en lo que sigue del curso."
   ]
  },
  {
   "cell_type": "markdown",
   "metadata": {},
   "source": [
    "## Ejercicios"
   ]
  },
  {
   "cell_type": "markdown",
   "metadata": {},
   "source": [
    "1. Desarrolla un programa que cuente la cantidad de vocales en una cadena ingresada por el usuario.\n",
    "* Construye un programa que permita al usuario ingresar valores de calificaciones y calcule el promedio total.\n",
    "* Construye un programa que encuentre el menor de una secuencia de números ingresada por el usuario. El programa debe permitir el ingreso de números hasta que el usuario ingrese un -1\n",
    "* Desarrolla una función que reciba una cadena y retorne la misma al revés. Por ejemplo, para la cadena “Esto\", deberá mostrar: “otsE”. Realice el script principal y la correspondiente invocación a la función.\n",
    "* Escribe un script que solicite al usuario un texto e imprima por pantalla el mismo texto pero con cada palabra invertida. Por ejemplo, para el texto: “Esto es una prueba\", debe imprimir “otsE se anu abeurp”.\n",
    "* Escribe un script que determine si una cadena ingresada por el usuario es un palíndromo.\n",
    "* Escribe un programa que obtenga un número aleatorio secreto, y luego permita al usuario ingresar números y le indique sin son menores o mayores que el número a adivinar, hasta que el usuario ingrese el número correcto. Nota: usa la función $randint()$ del módulo random.\n",
    "* Diseña la función fecha_valida que devuelve $True$ si la fecha es válida y $False$ en caso contrario. Para comprobar la validez de una fecha debes verificar que el mes esté comprendido entre 1 y 12 y que el día lo esté entre 1 y el número de días que corresponde al mes. Por ejemplo, la fecha 31/4/2000 no es válida, ya que abril tiene 30 días. Como es de suponerse, se debe tener especial cuidado con el mes de febrero.\n",
    "* Define una función que reciba como parámetro un string y retorne como resultado una cadena que contenga sólo las consonantes del string recibido como parámetro.\n",
    "* Escribe una función que reciba dos números como parámetros, y devuelva cuántos múltiplos del primero hay, que sean menores que el segundo.\n",
    "* Define una función que reciba como parámetro un carácter ASCII y determine si el mismo es una letra del alfabeto, un dígito, un signo de puntuación u “otro”. Realice el script principal y la correspondiente invocación a la función.\n"
   ]
  },
  {
   "cell_type": "markdown",
   "metadata": {},
   "source": [
    "### Problema"
   ]
  },
  {
   "cell_type": "markdown",
   "metadata": {},
   "source": [
    "Defina una función que aproxime la raíz cuadrada de un número usando el método de Newton descripto a continuación. \n",
    "#### Método de Newton \n",
    "Supongamos que queremos averiguar la raíz cuadrada de $a$. \n",
    "Si se empieza con cualquier estimativo ($x$), se puede computar una mejor aproximación con la siguiente fórmula: \n",
    "$$y = \\dfrac{x + a/x}{2}$$\n",
    "por ejemplo, si $a$ es 4 y $x$ es 3, \n",
    "\n"
   ]
  },
  {
   "cell_type": "code",
   "execution_count": 127,
   "metadata": {},
   "outputs": [
    {
     "data": {
      "text/plain": [
       "2.1666666666666665"
      ]
     },
     "execution_count": 127,
     "metadata": {},
     "output_type": "execute_result"
    }
   ],
   "source": [
    "a = 4\n",
    "x = 3\n",
    "y = (x + a/x) / 2\n",
    "y"
   ]
  },
  {
   "cell_type": "markdown",
   "metadata": {},
   "source": [
    "el resultado está cerca de la respuesta correcta ($\\sqrt{4} = 2$). Si repetimos el proceso ajustando el nuevo estimativo,"
   ]
  },
  {
   "cell_type": "code",
   "execution_count": 128,
   "metadata": {},
   "outputs": [
    {
     "data": {
      "text/plain": [
       "2.0064102564102564"
      ]
     },
     "execution_count": 128,
     "metadata": {},
     "output_type": "execute_result"
    }
   ],
   "source": [
    "x = y\n",
    "y = (x + a/x) / 2\n",
    "y"
   ]
  },
  {
   "cell_type": "markdown",
   "metadata": {},
   "source": [
    "en general, es dificil saber cuantos pasos se requieren para obtener el valor exacto, lo que si sabemos es que cuando el aproximado ($x$) coincida con el resultado anterior ($y$), se ha encontrado el valor. \n",
    "\n",
    "**Defina una función que a partir de un valor estimado aproxime la raíz cuadrada de un número usando el método de Newton. \n",
    "Además del resultado obtenido, la función deberá informar también la cantidad de pasos que requirió para llegar al resultado.**\n",
    "\n",
    "**NOTA:** en general, es \"peligroso\" operar con igualdad entre flotantes ya que la representación computacional de los mismos es un valor aproximado. \n",
    "Es decir, valores como $1/3$ o $\\sqrt{2}$ no se pueden representar de manera exacta con un flotante (_float_). \n",
    "Por lo tanto, en vez de comparar $x==y$, el enfoque más conveniente es comparar el valor absoluto de la diferencia con un valor de magnitud. \n",
    "    $$if abs(y-x) < epsilon: break$$\n",
    "donde $epsilon$ es un valor (por ejemplo $0.0000001$) que determina cuándo los valores que se están comparando son \"tan parecidos\" que deberían considerarse como el \"mismo\" para el problema."
   ]
  }
 ],
 "metadata": {
  "kernelspec": {
   "display_name": "Python 3",
   "language": "python",
   "name": "python3"
  },
  "language_info": {
   "codemirror_mode": {
    "name": "ipython",
    "version": 3
   },
   "file_extension": ".py",
   "mimetype": "text/x-python",
   "name": "python",
   "nbconvert_exporter": "python",
   "pygments_lexer": "ipython3",
   "version": "3.7.1"
  }
 },
 "nbformat": 4,
 "nbformat_minor": 2
}
