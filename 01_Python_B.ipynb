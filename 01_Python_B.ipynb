{
 "cells": [
  {
   "cell_type": "markdown",
   "metadata": {},
   "source": [
    "# Cadenas (_strings_)\n",
    "\n",
    "Una cadena es una secuencia de caracteres. Las cadenas son similares a las listas pero más específicas, ya que solo puede contener caracteres.\n",
    "\n",
    "Para definir una cadena en Python usamos comillas simples `'`, dobles `\"` o triples. Lo más común es usar comillas simples"
   ]
  },
  {
   "cell_type": "code",
   "execution_count": 1,
   "metadata": {},
   "outputs": [
    {
     "data": {
      "text/plain": [
       "'hola'"
      ]
     },
     "execution_count": 1,
     "metadata": {},
     "output_type": "execute_result"
    }
   ],
   "source": [
    "'hola'"
   ]
  },
  {
   "cell_type": "code",
   "execution_count": 2,
   "metadata": {},
   "outputs": [
    {
     "data": {
      "text/plain": [
       "str"
      ]
     },
     "execution_count": 2,
     "metadata": {},
     "output_type": "execute_result"
    }
   ],
   "source": [
    " type('hola')"
   ]
  },
  {
   "cell_type": "markdown",
   "metadata": {},
   "source": [
    "Las comillas simples o dobles son totalmente equivalentes. Mientras que las triples son usadas cuando necesitamos escribir una cadena en varias lineas. Recuerden cuando vimos `docstrings`.\n",
    "\n",
    "Vamos usar  un aforismo de Jorge Wagensberg para ejemplificar como trabajar con cadenas bajo Python"
   ]
  },
  {
   "cell_type": "code",
   "execution_count": 3,
   "metadata": {},
   "outputs": [],
   "source": [
    "cadena = 'A más cómo, menos por qué'"
   ]
  },
  {
   "cell_type": "markdown",
   "metadata": {},
   "source": [
    "Como ya dijimos las listas y las cadenas comparten características, por ejmplo ambas pueden ser indexadas"
   ]
  },
  {
   "cell_type": "code",
   "execution_count": 4,
   "metadata": {},
   "outputs": [
    {
     "data": {
      "text/plain": [
       "'á'"
      ]
     },
     "execution_count": 4,
     "metadata": {},
     "output_type": "execute_result"
    }
   ],
   "source": [
    "cadena[3]"
   ]
  },
  {
   "cell_type": "markdown",
   "metadata": {},
   "source": [
    "Además podemos hacer otras operaciones como tomar rebanadas _slices_"
   ]
  },
  {
   "cell_type": "code",
   "execution_count": 5,
   "metadata": {},
   "outputs": [
    {
     "data": {
      "text/plain": [
       "'A más'"
      ]
     },
     "execution_count": 5,
     "metadata": {},
     "output_type": "execute_result"
    }
   ],
   "source": [
    "cadena[:5]"
   ]
  },
  {
   "cell_type": "markdown",
   "metadata": {},
   "source": [
    "Esto nos podría servir para crear una función que detecte palíndromos."
   ]
  },
  {
   "cell_type": "code",
   "execution_count": 6,
   "metadata": {},
   "outputs": [
    {
     "data": {
      "text/plain": [
       "True"
      ]
     },
     "execution_count": 6,
     "metadata": {},
     "output_type": "execute_result"
    }
   ],
   "source": [
    "def es_palindromo(palabra):\n",
    "    return palabra == palabra[::-1]\n",
    "\n",
    "es_palindromo('somos') # Luz azul"
   ]
  },
  {
   "cell_type": "markdown",
   "metadata": {},
   "source": [
    "Un problema con este función es que falla con frases como `Luz azul`. Hay dos razones para esto\n",
    "\n",
    "1. un espacio es un caracter válido para Python\n",
    "2. las mayusculas son caracteres distintos a las minúsculas"
   ]
  },
  {
   "cell_type": "markdown",
   "metadata": {},
   "source": [
    "Python nos ofrece una herramienta muy potente para mejorar la función `es_palindromo`, los métodos de cadenas.\n",
    "\n",
    "Un método es similar a una función, pero con una sintáxis diferente. Cuando veamos programación orientada a objetos quedará claro su significado.\n",
    "\n",
    "Las cadenas tienen muchos métodos, por ejemplo `split` devuelve una lista de strings por defecto la lista es generada \"separando\" un strings cada vez que se encuentra un espacio en blanco."
   ]
  },
  {
   "cell_type": "code",
   "execution_count": 7,
   "metadata": {},
   "outputs": [
    {
     "data": {
      "text/plain": [
       "['A', 'más', 'cómo,', 'menos', 'por', 'qué']"
      ]
     },
     "execution_count": 7,
     "metadata": {},
     "output_type": "execute_result"
    }
   ],
   "source": [
    "cadena.split()"
   ]
  },
  {
   "cell_type": "markdown",
   "metadata": {},
   "source": [
    "Este comportamiento lo podemos cambiar pasando como argumento el caracter que queremos usar como separador."
   ]
  },
  {
   "cell_type": "code",
   "execution_count": 8,
   "metadata": {},
   "outputs": [
    {
     "data": {
      "text/plain": [
       "['A más cómo', ' menos por qué']"
      ]
     },
     "execution_count": 8,
     "metadata": {},
     "output_type": "execute_result"
    }
   ],
   "source": [
    "cadena.split(',')"
   ]
  },
  {
   "cell_type": "markdown",
   "metadata": {},
   "source": [
    "Otro método es `lower` que tiene como efecto devolver una nueva cadena donde todos los caracteres son minúsculas"
   ]
  },
  {
   "cell_type": "code",
   "execution_count": 9,
   "metadata": {},
   "outputs": [
    {
     "data": {
      "text/plain": [
       "'luz azul'"
      ]
     },
     "execution_count": 9,
     "metadata": {},
     "output_type": "execute_result"
    }
   ],
   "source": [
    "'LuZ AzUl'.lower()"
   ]
  },
  {
   "cell_type": "markdown",
   "metadata": {},
   "source": [
    "otro método es replace que nos permite reeplazar caracteres, incluso podemos reemplazar un espacio en blanco por nada."
   ]
  },
  {
   "cell_type": "code",
   "execution_count": 10,
   "metadata": {},
   "outputs": [
    {
     "data": {
      "text/plain": [
       "'Luzazul'"
      ]
     },
     "execution_count": 10,
     "metadata": {},
     "output_type": "execute_result"
    }
   ],
   "source": [
    "'Luz azul'.replace(' ', '')"
   ]
  },
  {
   "cell_type": "markdown",
   "metadata": {},
   "source": [
    "Combinando estos dos últimos métodos podemos crear una versión más versatil de `es_palindromo`."
   ]
  },
  {
   "cell_type": "code",
   "execution_count": 11,
   "metadata": {},
   "outputs": [
    {
     "data": {
      "text/plain": [
       "True"
      ]
     },
     "execution_count": 11,
     "metadata": {},
     "output_type": "execute_result"
    }
   ],
   "source": [
    "def es_palindromo(palabra):\n",
    "    nueva_palabra = palabra.lower().replace(' ', '')  # es posible concatenar métodos\n",
    "    return nueva_palabra == nueva_palabra[::-1]\n",
    "\n",
    "es_palindromo('Luz azul')"
   ]
  },
  {
   "cell_type": "markdown",
   "metadata": {},
   "source": [
    "Podríamos querer que la función `es_palindromo` nos devuelva un mensaje más amigable que True o False. Una opción que la función no devuelva ningún valor si no que imprima un mensaje, por ejemplo"
   ]
  },
  {
   "cell_type": "code",
   "execution_count": 12,
   "metadata": {},
   "outputs": [
    {
     "name": "stdout",
     "output_type": "stream",
     "text": [
      "Luz azul es un palíndromo\n"
     ]
    }
   ],
   "source": [
    "def es_palindromo(palabra):\n",
    "    nueva_palabra = palabra.lower().replace(' ', '')\n",
    "    if nueva_palabra == nueva_palabra[::-1]:\n",
    "        print(f'{palabra} es un palíndromo')\n",
    "    else:\n",
    "        print(f'{palabra} no es un palíndromo')\n",
    "        \n",
    "es_palindromo('Luz azul')"
   ]
  },
  {
   "cell_type": "markdown",
   "metadata": {},
   "source": [
    "El ejemplo anterior anterior muestra lo que se llama formateo de cadenas, hay varias formas de dar formato a cadenas (referencia), en el ejeplo anterior hemos usado lo que se conoce como f-strings, que es la forma más nueva (solo funciona en Python 3.6 en adelante). Las f-strings nos permite crear strings usando variables (en este caso la variable `palabra`) y también nos permite pasar expresiones de Python y darle formato a las al resultado de esas expresiones, como se puede ver en el siguiente ejemplo."
   ]
  },
  {
   "cell_type": "code",
   "execution_count": 13,
   "metadata": {},
   "outputs": [
    {
     "name": "stdout",
     "output_type": "stream",
     "text": [
      "Luz azul es un palíndromo de 007 caracteres\n"
     ]
    }
   ],
   "source": [
    "def es_palindromo(palabra):\n",
    "    nueva_palabra = palabra.lower().replace(' ', '')\n",
    "    if nueva_palabra == nueva_palabra[::-1]:\n",
    "        print(f'{palabra} es un palíndromo de {len(nueva_palabra):03d} caracteres')\n",
    "    else:\n",
    "        print(f'{palabra} no es un palíndromo')\n",
    "        \n",
    "es_palindromo('Luz azul')"
   ]
  },
  {
   "cell_type": "markdown",
   "metadata": {},
   "source": [
    "Fijense que `len()` funciona con las cadenas igual que con las listas. el formato `03d`, quiere decir que la variable es un entero (d) y que use 3 espacios para representar a ese entero. Si no hay suficientes dígitos complete con ceros. Existen varias otras opciones para dar formato como:"
   ]
  },
  {
   "cell_type": "code",
   "execution_count": 14,
   "metadata": {},
   "outputs": [
    {
     "data": {
      "text/plain": [
       "'3.14'"
      ]
     },
     "execution_count": 14,
     "metadata": {},
     "output_type": "execute_result"
    }
   ],
   "source": [
    "f'{3.1415:.2f}'"
   ]
  },
  {
   "cell_type": "markdown",
   "metadata": {},
   "source": [
    "Las cadenas son iterables (al igual que las listas). Por ejemplo si estuvieramos interesados en saber la frecuencia con la que aparecen caracteres en una cadena podríamo escribir."
   ]
  },
  {
   "cell_type": "code",
   "execution_count": 15,
   "metadata": {},
   "outputs": [
    {
     "name": "stdout",
     "output_type": "stream",
     "text": [
      "a aparece 1 veces\n",
      "m aparece 3 veces\n",
      "á aparece 1 veces\n",
      "s aparece 2 veces\n",
      "c aparece 1 veces\n",
      "ó aparece 1 veces\n",
      "o aparece 3 veces\n",
      ", aparece 1 veces\n",
      "e aparece 1 veces\n",
      "n aparece 1 veces\n",
      "p aparece 1 veces\n",
      "r aparece 1 veces\n",
      "q aparece 1 veces\n",
      "u aparece 1 veces\n",
      "é aparece 1 veces\n"
     ]
    }
   ],
   "source": [
    "def frecuencia(cadena):\n",
    "    visto = []\n",
    "    cadena_nueva = cadena.lower().replace(' ', '')\n",
    "    for c in cadena_nueva:\n",
    "        if c not in visto:\n",
    "            print(f'{c} aparece {cadena_nueva.count(c)} veces')\n",
    "            visto.append(c)\n",
    "\n",
    "frecuencia(cadena)"
   ]
  },
  {
   "cell_type": "markdown",
   "metadata": {},
   "source": [
    "Podemos mejorar algunos aspectos de esta función, por ejemplo unificar caracteres con y sin tilde. y eliminar signos de puntuación no solo espacios en blanco. Para ello vamos a usar el método `maketrans` que nos permite crear una tabla de correspondencia entre el primer y segundo argumento. El tercer argumento indica los caracteres que sean reemplazados por nada. Otro truco de la siguiente función es que usa \"vez\" y \"veces\" según corresponda (queda como ejercicio explicar como se logra esto)."
   ]
  },
  {
   "cell_type": "code",
   "execution_count": 16,
   "metadata": {},
   "outputs": [
    {
     "name": "stdout",
     "output_type": "stream",
     "text": [
      "a aparece 2 veces\n",
      "m aparece 3 veces\n",
      "s aparece 2 veces\n",
      "c aparece 1 vez\n",
      "o aparece 4 veces\n",
      "e aparece 2 veces\n",
      "n aparece 1 vez\n",
      "p aparece 1 vez\n",
      "r aparece 1 vez\n",
      "q aparece 1 vez\n",
      "u aparece 1 vez\n"
     ]
    }
   ],
   "source": [
    "def frecuencia(cadena):\n",
    "    visto = []\n",
    "    trans = str.maketrans('áéíóúü','aeiouu', ':,. ')\n",
    "    cadena_nueva = cadena.lower().translate(trans)\n",
    "    for c in cadena_nueva:\n",
    "        if c not in visto:\n",
    "            cantidad = cadena_nueva.count(c)\n",
    "            d = 'vez' if cantidad == 1  else 'veces'\n",
    "            print(f'{c} aparece {cantidad} {d}')\n",
    "            visto.append(c)\n",
    "            \n",
    "\n",
    "frecuencia(cadena)"
   ]
  },
  {
   "cell_type": "markdown",
   "metadata": {},
   "source": [
    "Hasta el momento hemos venido diciendo que las cadenas se parecen a las tuplas. Pero hay una diferencia importante con las listas, las cadenas son inmutables, es decir una vez creada no pueden ser modificacas. Por lo que siguiente operación es inválida"
   ]
  },
  {
   "cell_type": "code",
   "execution_count": 17,
   "metadata": {},
   "outputs": [
    {
     "ename": "TypeError",
     "evalue": "'str' object does not support item assignment",
     "output_type": "error",
     "traceback": [
      "\u001b[0;31m---------------------------------------------------------------------------\u001b[0m",
      "\u001b[0;31mTypeError\u001b[0m                                 Traceback (most recent call last)",
      "\u001b[0;32m<ipython-input-17-94d570ab4773>\u001b[0m in \u001b[0;36m<module>\u001b[0;34m\u001b[0m\n\u001b[0;32m----> 1\u001b[0;31m \u001b[0mcadena\u001b[0m\u001b[0;34m[\u001b[0m\u001b[0;36m0\u001b[0m\u001b[0;34m]\u001b[0m \u001b[0;34m=\u001b[0m \u001b[0;34m'f'\u001b[0m\u001b[0;34m\u001b[0m\u001b[0;34m\u001b[0m\u001b[0m\n\u001b[0m",
      "\u001b[0;31mTypeError\u001b[0m: 'str' object does not support item assignment"
     ]
    }
   ],
   "source": [
    "cadena[0] = 'f' "
   ]
  },
  {
   "cell_type": "markdown",
   "metadata": {},
   "source": [
    "El error nos dice que el `objeto str` (en este caso `cadena`) no soporta la operación de asignación de item."
   ]
  },
  {
   "cell_type": "markdown",
   "metadata": {},
   "source": [
    "Supongamos que necesitamos convertir verbos de la tercera persona del singular al infinitivo, por ej canta --> cantar. Esto es simple de hacer con Python si notamos que es posible concatenar cadenas usando el signo \"+\". "
   ]
  },
  {
   "cell_type": "code",
   "execution_count": 18,
   "metadata": {},
   "outputs": [
    {
     "data": {
      "text/plain": [
       "['cantar', 'bailar', 'piensar', 'tomar', 'mirar']"
      ]
     },
     "execution_count": 18,
     "metadata": {},
     "output_type": "execute_result"
    }
   ],
   "source": [
    "v3s = ['canta', 'baila', 'piensa', 'toma', 'mira']\n",
    "\n",
    "vinf = []\n",
    "for v in v3s:\n",
    "    vinf.append(v + 'r')\n",
    "vinf"
   ]
  },
  {
   "cell_type": "code",
   "execution_count": 19,
   "metadata": {},
   "outputs": [],
   "source": [
    "v3s = ['canta', 'baila', 'piensa', 'toma', 'mira']"
   ]
  },
  {
   "cell_type": "markdown",
   "metadata": {},
   "source": [
    "Se dice que el signo \"+\" está sobrecargado (_overloaded_), ya que es un signo que tiene un significado preciso para números y que Python generaliza el concepto para permitir otro tipo de operación, por ejemplo concatenar (o \"sumar\") cadenas."
   ]
  },
  {
   "cell_type": "markdown",
   "metadata": {},
   "source": [
    "Hay varios operadores en Python que son muy versátiles, ya que es posible aplciarlos a muchos tipos de objetos. Ya vimos que `len` sirve tanto para listas como para cadenas y que en ambos casos devuelve la longitud del objeto sobre el cual se aplica. En el caso de las listas esto es la cantidad de elementos de la lista y en el caso de las cadenas la cantidad de caracteres. Esta versatilidad es algo típico de Python. Otro operador que funciona con muchos objetos distintos es `in`. Este objeto nos permite averiguar si un determinado elemento está contenido en un objeto. Por ejemplo podríamos preguntar si el número 42 está contenido en una determinada lista."
   ]
  },
  {
   "cell_type": "code",
   "execution_count": 20,
   "metadata": {},
   "outputs": [
    {
     "data": {
      "text/plain": [
       "True"
      ]
     },
     "execution_count": 20,
     "metadata": {},
     "output_type": "execute_result"
    }
   ],
   "source": [
    "42 in [3.14, 42, 75] "
   ]
  },
  {
   "cell_type": "code",
   "execution_count": 21,
   "metadata": {},
   "outputs": [
    {
     "data": {
      "text/plain": [
       "False"
      ]
     },
     "execution_count": 21,
     "metadata": {},
     "output_type": "execute_result"
    }
   ],
   "source": [
    "'hola' in ['hello', 'chiao', 'hallo', '你好', \"mba'eichapa\"]"
   ]
  },
  {
   "cell_type": "markdown",
   "metadata": {},
   "source": [
    "El operar `in` podría ser de utilidad para averiguar si una palabra está acentuada."
   ]
  },
  {
   "cell_type": "code",
   "execution_count": 22,
   "metadata": {},
   "outputs": [
    {
     "data": {
      "text/plain": [
       "True"
      ]
     },
     "execution_count": 22,
     "metadata": {},
     "output_type": "execute_result"
    }
   ],
   "source": [
    "def es_acentuada(cadena):\n",
    "    for acc in 'áéíóú':\n",
    "        if acc in cadena:\n",
    "            return True\n",
    "    return False\n",
    "            \n",
    "\n",
    "es_acentuada(cadena)"
   ]
  },
  {
   "cell_type": "markdown",
   "metadata": {},
   "source": [
    "# Tuplas\n",
    "\n",
    "Una tupla es una colección de valores, los valores pueden ser de cualquier tipo en ese sentido las tuplas se parecen a las listas, pero las tuplas son inmutables y en ese sentido se parecen a las cadenas.\n",
    "\n",
    "La sintáxis de las tuplas es muy simple, basta escribir valores separados por comas"
   ]
  },
  {
   "cell_type": "code",
   "execution_count": 23,
   "metadata": {},
   "outputs": [
    {
     "data": {
      "text/plain": [
       "(42, 23, 13)"
      ]
     },
     "execution_count": 23,
     "metadata": {},
     "output_type": "execute_result"
    }
   ],
   "source": [
    "una_tupla = 42, 23, 13\n",
    "una_tupla"
   ]
  },
  {
   "cell_type": "markdown",
   "metadata": {},
   "source": [
    "Aunque no es necesario es común encerrar una tupla entre paréntesis"
   ]
  },
  {
   "cell_type": "code",
   "execution_count": 24,
   "metadata": {},
   "outputs": [],
   "source": [
    "otra_tupla = (42, 23, 13)"
   ]
  },
  {
   "cell_type": "markdown",
   "metadata": {},
   "source": [
    "Ambas formas son equivalentes:"
   ]
  },
  {
   "cell_type": "code",
   "execution_count": 25,
   "metadata": {},
   "outputs": [
    {
     "data": {
      "text/plain": [
       "True"
      ]
     },
     "execution_count": 25,
     "metadata": {},
     "output_type": "execute_result"
    }
   ],
   "source": [
    "una_tupla == otra_tupla"
   ]
  },
  {
   "cell_type": "markdown",
   "metadata": {},
   "source": [
    "Si la tupla tiene un solo elemento debemos escribirla como `valor,`"
   ]
  },
  {
   "cell_type": "code",
   "execution_count": 26,
   "metadata": {},
   "outputs": [
    {
     "data": {
      "text/plain": [
       "(tuple, int)"
      ]
     },
     "execution_count": 26,
     "metadata": {},
     "output_type": "execute_result"
    }
   ],
   "source": [
    "t1 = 42,  # esto es una tupla\n",
    "t2 = (42) # esto NO una tupla, es un entero\n",
    "\n",
    "type(t1), type(t2)"
   ]
  },
  {
   "cell_type": "markdown",
   "metadata": {},
   "source": [
    "Es posible convertir cadenas a tuplas"
   ]
  },
  {
   "cell_type": "code",
   "execution_count": 27,
   "metadata": {},
   "outputs": [
    {
     "data": {
      "text/plain": [
       "('h', 'o', 'l', 'a', ' ', 'm', 'u', 'n', 'd', 'o')"
      ]
     },
     "execution_count": 27,
     "metadata": {},
     "output_type": "execute_result"
    }
   ],
   "source": [
    "t = tuple('hola mundo')\n",
    "t"
   ]
  },
  {
   "cell_type": "markdown",
   "metadata": {},
   "source": [
    "El resultado es similar a convertir cadenas a listas"
   ]
  },
  {
   "cell_type": "code",
   "execution_count": 28,
   "metadata": {},
   "outputs": [
    {
     "data": {
      "text/plain": [
       "['h', 'o', 'l', 'a', ' ', 'm', 'u', 'n', 'd', 'o']"
      ]
     },
     "execution_count": 28,
     "metadata": {},
     "output_type": "execute_result"
    }
   ],
   "source": [
    "t = list('hola mundo')\n",
    "t"
   ]
  },
  {
   "cell_type": "markdown",
   "metadata": {},
   "source": [
    "La mayoría de las operaciones válidas para listas lo son también para tuplas."
   ]
  },
  {
   "cell_type": "code",
   "execution_count": 29,
   "metadata": {},
   "outputs": [
    {
     "data": {
      "text/plain": [
       "23"
      ]
     },
     "execution_count": 29,
     "metadata": {},
     "output_type": "execute_result"
    }
   ],
   "source": [
    "una_tupla[1]"
   ]
  },
  {
   "cell_type": "code",
   "execution_count": 30,
   "metadata": {},
   "outputs": [
    {
     "data": {
      "text/plain": [
       "(23, 13)"
      ]
     },
     "execution_count": 30,
     "metadata": {},
     "output_type": "execute_result"
    }
   ],
   "source": [
    "una_tupla[1:]"
   ]
  },
  {
   "cell_type": "markdown",
   "metadata": {},
   "source": [
    "Excepto las que modifican una tupla, ya que como dijimos anterioremente las tuplas son inmutables"
   ]
  },
  {
   "cell_type": "code",
   "execution_count": 31,
   "metadata": {},
   "outputs": [
    {
     "ename": "TypeError",
     "evalue": "'tuple' object does not support item assignment",
     "output_type": "error",
     "traceback": [
      "\u001b[0;31m---------------------------------------------------------------------------\u001b[0m",
      "\u001b[0;31mTypeError\u001b[0m                                 Traceback (most recent call last)",
      "\u001b[0;32m<ipython-input-31-14a0f4ffe752>\u001b[0m in \u001b[0;36m<module>\u001b[0;34m\u001b[0m\n\u001b[0;32m----> 1\u001b[0;31m \u001b[0muna_tupla\u001b[0m\u001b[0;34m[\u001b[0m\u001b[0;36m0\u001b[0m\u001b[0;34m]\u001b[0m \u001b[0;34m=\u001b[0m \u001b[0;34m'j'\u001b[0m\u001b[0;34m\u001b[0m\u001b[0;34m\u001b[0m\u001b[0m\n\u001b[0m",
      "\u001b[0;31mTypeError\u001b[0m: 'tuple' object does not support item assignment"
     ]
    }
   ],
   "source": [
    "una_tupla[0] = 'j'"
   ]
  },
  {
   "cell_type": "markdown",
   "metadata": {},
   "source": [
    "Las tuplas aparecen todo el tiempo en Python, sucede que son tan simples que suelen _pasar desaperbidas_. Por ejmplo al escribir:"
   ]
  },
  {
   "cell_type": "code",
   "execution_count": 32,
   "metadata": {},
   "outputs": [
    {
     "data": {
      "text/plain": [
       "(3, 45)"
      ]
     },
     "execution_count": 32,
     "metadata": {},
     "output_type": "execute_result"
    }
   ],
   "source": [
    "a, b = 3, 45\n",
    "a, b"
   ]
  },
  {
   "cell_type": "markdown",
   "metadata": {},
   "source": [
    "Estamos asignando la tupla (3, 45) a las variables, `a` y `b`. Esto funciona siempre y cuando la cantidad de elementos a ambos lados del `=` sean los mismos, caso contrario obtendremos un error"
   ]
  },
  {
   "cell_type": "code",
   "execution_count": 33,
   "metadata": {},
   "outputs": [
    {
     "ename": "ValueError",
     "evalue": "too many values to unpack (expected 2)",
     "output_type": "error",
     "traceback": [
      "\u001b[0;31m---------------------------------------------------------------------------\u001b[0m",
      "\u001b[0;31mValueError\u001b[0m                                Traceback (most recent call last)",
      "\u001b[0;32m<ipython-input-33-f03a07664c8f>\u001b[0m in \u001b[0;36m<module>\u001b[0;34m\u001b[0m\n\u001b[0;32m----> 1\u001b[0;31m \u001b[0ma\u001b[0m\u001b[0;34m,\u001b[0m \u001b[0mb\u001b[0m\u001b[0;34m,\u001b[0m \u001b[0;34m=\u001b[0m \u001b[0;36m3\u001b[0m\u001b[0;34m,\u001b[0m \u001b[0;36m45\u001b[0m\u001b[0;34m,\u001b[0m \u001b[0;36m2\u001b[0m\u001b[0;34m\u001b[0m\u001b[0;34m\u001b[0m\u001b[0m\n\u001b[0m",
      "\u001b[0;31mValueError\u001b[0m: too many values to unpack (expected 2)"
     ]
    }
   ],
   "source": [
    "a, b, = 3, 45, 2"
   ]
  },
  {
   "cell_type": "markdown",
   "metadata": {},
   "source": [
    "Salvo que usemos la siguiente sintáxis, que nos permite asignar una tupla con una cantidad variable de elementos"
   ]
  },
  {
   "cell_type": "code",
   "execution_count": 34,
   "metadata": {},
   "outputs": [
    {
     "data": {
      "text/plain": [
       "(3, [45, 2])"
      ]
     },
     "execution_count": 34,
     "metadata": {},
     "output_type": "execute_result"
    }
   ],
   "source": [
    "a, *b, = 3, 45, 2\n",
    "a, b"
   ]
  },
  {
   "cell_type": "code",
   "execution_count": 35,
   "metadata": {},
   "outputs": [
    {
     "data": {
      "text/plain": [
       "(3, [45, 2, 4])"
      ]
     },
     "execution_count": 35,
     "metadata": {},
     "output_type": "execute_result"
    }
   ],
   "source": [
    "a, *b, = 3, 45, 2, 4  # cambiamos el número de elementos y el código funciona igual\n",
    "a, b"
   ]
  },
  {
   "cell_type": "markdown",
   "metadata": {},
   "source": [
    "Un ejemplo concreto donde podríamos usar esta \"asignación de variables\"."
   ]
  },
  {
   "cell_type": "code",
   "execution_count": 36,
   "metadata": {},
   "outputs": [
    {
     "data": {
      "text/plain": [
       "('monty', 'python.org')"
      ]
     },
     "execution_count": 36,
     "metadata": {},
     "output_type": "execute_result"
    }
   ],
   "source": [
    "email = 'monty@python.org'\n",
    "usuario, dominio = email.split('@')\n",
    "\n",
    "usuario, dominio"
   ]
  },
  {
   "cell_type": "markdown",
   "metadata": {},
   "source": [
    "Otro ejemplo donde la tuplas aparece, pero puede pasar \"desapercibidas\" es en la funciones. Las funciones en Python siempre devuelven un valor, por lo que uno podría pensar que la siguiente no es una función válida. \n",
    "\n",
    "Sin embargo la siguiente función si es valida y devuelve un solo valor, sucede que el valor que devuelve es una tupla con dos elementos."
   ]
  },
  {
   "cell_type": "code",
   "execution_count": 37,
   "metadata": {},
   "outputs": [
    {
     "data": {
      "text/plain": [
       "(0, 100)"
      ]
     },
     "execution_count": 37,
     "metadata": {},
     "output_type": "execute_result"
    }
   ],
   "source": [
    "def min_max(t):\n",
    "    \"\"\"\n",
    "    devuelve el valor más pequeño y el más grande contenido en t\n",
    "    \n",
    "    t : lista o similar\n",
    "    \"\"\"\n",
    "    return min(t), max(t)\n",
    "\n",
    "min_max([0, 13, 42, 100])  ## use la función type para probar que está función devuelve una tupla"
   ]
  },
  {
   "cell_type": "code",
   "execution_count": 38,
   "metadata": {},
   "outputs": [],
   "source": [
    "def imprima_todos(*args):\n",
    "    \"\"\"\n",
    "    esta función toma un número arbitrario de argumentos y los imprime\n",
    "    \"\"\"\n",
    "    print(args)"
   ]
  },
  {
   "cell_type": "code",
   "execution_count": 39,
   "metadata": {},
   "outputs": [
    {
     "name": "stdout",
     "output_type": "stream",
     "text": [
      "(42, ['3'], 'A más cómo, menos por qué')\n"
     ]
    }
   ],
   "source": [
    "imprima_todos(42, ['3'], cadena)  # esto funciona (3 argumentos)"
   ]
  },
  {
   "cell_type": "code",
   "execution_count": 40,
   "metadata": {},
   "outputs": [
    {
     "name": "stdout",
     "output_type": "stream",
     "text": [
      "('A más cómo, menos por qué',)\n"
     ]
    }
   ],
   "source": [
    "imprima_todos(cadena)  # esto también (1 argumento)"
   ]
  },
  {
   "cell_type": "code",
   "execution_count": 41,
   "metadata": {},
   "outputs": [
    {
     "name": "stdout",
     "output_type": "stream",
     "text": [
      "()\n"
     ]
    }
   ],
   "source": [
    "imprima_todos()  # incluso esto (0 argumento)"
   ]
  },
  {
   "cell_type": "markdown",
   "metadata": {},
   "source": [
    "`zip` una función incluida con Python que toma dos o más secuencias y las \"zipea\" en una lista de tuplas donde cada tupla contiene un elemento de cada secuencia. En Python 3, `zip` devuelve un iterador de tuplas, en este curso no vamos a explicar que es un iterador, para nosotros y a los fines prácticos diremos que un iterador es equivalente a una lista "
   ]
  },
  {
   "cell_type": "code",
   "execution_count": 42,
   "metadata": {},
   "outputs": [],
   "source": [
    "t1 = ['34', '42', '2019']\n",
    "t2 = ['34', '0', '0.15']"
   ]
  },
  {
   "cell_type": "code",
   "execution_count": 43,
   "metadata": {},
   "outputs": [
    {
     "data": {
      "text/plain": [
       "<zip at 0x7fad4d490f48>"
      ]
     },
     "execution_count": 43,
     "metadata": {},
     "output_type": "execute_result"
    }
   ],
   "source": [
    "zip(t1, t2)  # esto es un iterador, esto no tiene sentido para los humanos"
   ]
  },
  {
   "cell_type": "code",
   "execution_count": 44,
   "metadata": {},
   "outputs": [
    {
     "data": {
      "text/plain": [
       "[('34', '34'), ('42', '0'), ('2019', '0.15')]"
      ]
     },
     "execution_count": 44,
     "metadata": {},
     "output_type": "execute_result"
    }
   ],
   "source": [
    "list(zip(t1, t2))  # esto nos permite entender el resultado de zip"
   ]
  },
  {
   "cell_type": "markdown",
   "metadata": {},
   "source": [
    "En general `zip` se suele escribir junto con un `for-loop` --> `for i, j in zip(t1, t2)`.\n",
    "\n",
    "Probemos usar `zip` para determinar si, para un mismo índice, dos secuencias (listas, tuplas) tienen un elemento en común, por ejemplo vemos que `t1` y `t2` comparten el primer elemento."
   ]
  },
  {
   "cell_type": "code",
   "execution_count": 45,
   "metadata": {},
   "outputs": [
    {
     "ename": "NameError",
     "evalue": "name 'has_match' is not defined",
     "output_type": "error",
     "traceback": [
      "\u001b[0;31m---------------------------------------------------------------------------\u001b[0m",
      "\u001b[0;31mNameError\u001b[0m                                 Traceback (most recent call last)",
      "\u001b[0;32m<ipython-input-45-6d1a1cf182c8>\u001b[0m in \u001b[0;36m<module>\u001b[0;34m\u001b[0m\n\u001b[1;32m      5\u001b[0m     \u001b[0;32mreturn\u001b[0m \u001b[0;32mFalse\u001b[0m\u001b[0;34m\u001b[0m\u001b[0;34m\u001b[0m\u001b[0m\n\u001b[1;32m      6\u001b[0m \u001b[0;34m\u001b[0m\u001b[0m\n\u001b[0;32m----> 7\u001b[0;31m \u001b[0mhas_match\u001b[0m\u001b[0;34m(\u001b[0m\u001b[0mt1\u001b[0m\u001b[0;34m,\u001b[0m \u001b[0mt2\u001b[0m\u001b[0;34m)\u001b[0m\u001b[0;34m\u001b[0m\u001b[0;34m\u001b[0m\u001b[0m\n\u001b[0m",
      "\u001b[0;31mNameError\u001b[0m: name 'has_match' is not defined"
     ]
    }
   ],
   "source": [
    "def se_ha_formado_una_pareja(t1, t2):\n",
    "    for i, j in zip(t1, t2):\n",
    "        if i == j:\n",
    "            return True\n",
    "    return False\n",
    "\n",
    "has_match(t1, t2)"
   ]
  },
  {
   "cell_type": "markdown",
   "metadata": {},
   "source": [
    "## Ejercicios\n",
    "\n",
    "1. Escriba una función que tome una cadena como argumentos y muestre las letras de esa cadena una por una, empezando por la última letra y terminado en la primera.\n",
    "\n",
    "2. Existen muchos otros métodos que se pueden aplicar a cadenas. Determine que hacen los sigueintes métodos\n",
    "    * `isalpha`\n",
    "    * `isalnum`\n",
    "    * `isnumeric`\n",
    "    * `startswith`\n",
    "    * `join`"
   ]
  }
 ],
 "metadata": {
  "kernelspec": {
   "display_name": "Python 3",
   "language": "python",
   "name": "python3"
  },
  "language_info": {
   "codemirror_mode": {
    "name": "ipython",
    "version": 3
   },
   "file_extension": ".py",
   "mimetype": "text/x-python",
   "name": "python",
   "nbconvert_exporter": "python",
   "pygments_lexer": "ipython3",
   "version": "3.7.1"
  }
 },
 "nbformat": 4,
 "nbformat_minor": 2
}
