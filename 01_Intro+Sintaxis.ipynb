{
 "cells": [
  {
   "cell_type": "markdown",
   "metadata": {},
   "source": [
    "# Introducción a Python\n",
    "\n",
    "[Python](http://www.python.org/) es:\n",
    "* un lenguaje de programación moderno\n",
    "* de propósito general (se suele decir que Python no es el mejor lenguaje para casi nada, pero es suficientemente bueno para casi todo)\n",
    "* multiparadigma (es posible programar usando distintos _estilos_ de programación incluso combinándolos)\n",
    "* de alto nivel (es decir cercano al lenguaje humano y lejos del _lenguaje de máquinas_)\n",
    "* es interpretado (es decir no es necesario _compilarlo_ antes de correrlo)\n",
    "* es multiplataforma (corre en diversos sistemas operativos)\n"
   ]
  },
  {
   "cell_type": "markdown",
   "metadata": {},
   "source": [
    "### ¿Por qué es un buen lenguaje de programación científica?\n",
    "\n",
    "* Es un lenguaje simple: El código es simple de leer, de escribir y de mantener.\n",
    "\n",
    "* Es gratuito y es una herramienta de [código abierto](https://es.wikipedia.org/wiki/C%C3%B3digo_abierto).\n",
    "\n",
    "* Está muy bien documentado.\n",
    "\n",
    "* Es ampliamente usado en la mayoría de las disciplinas científicas\n",
    "\n",
    "* Tiene una gran comunidad de usuarios (no todos científicos), por lo que es fácil encontrar ayuda, tutoriales, foros, blogs, etc. por ejemplo en [StackOverflow](stackoverflow.com).\n",
    "\n",
    "* Buena _performance_. Aunque estrictamente es un lenguaje _lento_ (el costo de la simplicidad). Existen formas de acelerarlo.\n",
    "\n",
    "* Posee un extenso _ecosistema_ de librerías\n",
    "\n",
    "<br>\n",
    "    <a href=\"https://www.youtube.com/watch?v=5GlNDD7qbP4\">\n",
    "    <img src='imagenes/Python_Stack.png' width=500 >\n",
    "    </a>\n",
    "\n",
    "<br>\n",
    "\n",
    "* [Numpy:](http://numpy.scipy.org)  Cálculo numerico y algebra lineal\n",
    "* [Scipy:](http://www.scipy.org) -  Funciones comunmente usadas en ciencias\n",
    "* [Matplotlib:](http://www.matplotlib.org) - Gráficas científicas\n",
    "* [Seaborn:](http://web.stanford.edu/~mwaskom/software/seaborn/) - Gráficas cientificas _atractivas_.\n",
    "* [Jupyter:](http://jupyter.org/) - Computación interactiva\n",
    "* [Pandas:](http://pandas.pydata.org/) - Procesamiento de datos\n",
    "* [Scikit-learn:](http://scikit-learn.org/) - Machine Learning \n",
    "* [Statsmodels:](http://statsmodels.sourceforge.net/) Estadística _\"clásica\"_\n",
    "* [PyMC3:](http://pymc-devs.github.io/pymc3/) - Estadística Bayesiana\n",
    "* [SymPy](http://www.sympy.org/en/index.html) - Matemática simbólica\n",
    "* [Sage](http://sagemath.org/) - Es un entorno matemática basado en Python y varias de las librerías arriba mencionadas\n",
    "* _agregá tu paquete favorito acá_"
   ]
  },
  {
   "cell_type": "markdown",
   "metadata": {},
   "source": [
    "#### Ahora si, veamos los elementos básicos de la programación en Python!"
   ]
  },
  {
   "cell_type": "markdown",
   "metadata": {},
   "source": [
    "### Valores y Tipos\n",
    "Un valor es uno de los \"componentes\" más básicos con los que trabaja un programa como un caracter o un número. Como ejemplos de valores se pueden considerar $2$, $42.0$, $'c'$, $\"Hola!\"$. \n",
    "\n",
    "Estos valores son de diferentes tipos: $2$ es un entero, $42.0$ es un número de punto flotante y $\"Hola!\"$ es un string (cadena de caracteres).\n",
    "En caso de tener dudas respecto al tipo de cada valor, se puede consultar usando el comando _type_"
   ]
  },
  {
   "cell_type": "code",
   "execution_count": 20,
   "metadata": {},
   "outputs": [
    {
     "data": {
      "text/plain": [
       "int"
      ]
     },
     "execution_count": 20,
     "metadata": {},
     "output_type": "execute_result"
    }
   ],
   "source": [
    "type(2)"
   ]
  },
  {
   "cell_type": "code",
   "execution_count": 21,
   "metadata": {},
   "outputs": [
    {
     "data": {
      "text/plain": [
       "float"
      ]
     },
     "execution_count": 21,
     "metadata": {},
     "output_type": "execute_result"
    }
   ],
   "source": [
    "type(42.0)"
   ]
  },
  {
   "cell_type": "code",
   "execution_count": 22,
   "metadata": {},
   "outputs": [
    {
     "data": {
      "text/plain": [
       "str"
      ]
     },
     "execution_count": 22,
     "metadata": {},
     "output_type": "execute_result"
    }
   ],
   "source": [
    "type('Hello, World!')"
   ]
  },
  {
   "cell_type": "code",
   "execution_count": 23,
   "metadata": {},
   "outputs": [
    {
     "data": {
      "text/plain": [
       "(1, 0, 0)"
      ]
     },
     "execution_count": 23,
     "metadata": {},
     "output_type": "execute_result"
    }
   ],
   "source": [
    "1,000,000 # para enteros grandes, no se debe agregar comas ni puntos- Más adelante veremos tuplas"
   ]
  },
  {
   "cell_type": "code",
   "execution_count": 24,
   "metadata": {},
   "outputs": [
    {
     "ename": "SyntaxError",
     "evalue": "invalid token (<ipython-input-24-38da4a590f0b>, line 1)",
     "output_type": "error",
     "traceback": [
      "\u001b[0;36m  File \u001b[0;32m\"<ipython-input-24-38da4a590f0b>\"\u001b[0;36m, line \u001b[0;32m1\u001b[0m\n\u001b[0;31m    type(02) # ceros a la izquierda\u001b[0m\n\u001b[0m          ^\u001b[0m\n\u001b[0;31mSyntaxError\u001b[0m\u001b[0;31m:\u001b[0m invalid token\n"
     ]
    }
   ],
   "source": [
    "type(02) # ceros a la izquierda"
   ]
  },
  {
   "cell_type": "markdown",
   "metadata": {},
   "source": [
    "## Variables\n",
    "\n",
    "En programación se le llama **variable** a un espacio en la memoria de la computadora que almacena un **valor** determinado y que tiene asociado un identificador (o nombre). \n",
    "Es este indentificador el que nos permite referirnos a ese valor y manipularlo. \n",
    "Dicho de forma más simple una variable es \"eso\" donde guardamos información para luego usar y que es posible referenciar usando un nombre que definimos a nuestro gusto. \n",
    "Es importante elegir nombres representativos a las variables ya que esto puede ayudar bastante a enteder el programa que se está desarrollando.\n",
    "\n",
    "Los nombres de las variables NO pueden empezar con números. Python 3 (pero no 2) permite usar caracteres como letras griegas, caracteres acentuados, la ñ, etc. Por convención, los nombres de las variables y funciones comienzan con una letra minúscula, mientras que los nombres de las _clases_ (se verán más adelante en el curso) comienzan con una letra mayúscula.\n",
    "\n",
    "Por lo general, en Python se usa guion bajo ($_$) para separar palabras en los nombres de variables, por ejemplo \"contador_general\" o \"monto_acumulado_pesos\". Se recomienda no definir nombres muy largos (no más de 32 caracteres). En el siguiente [link](https://www.python.org/dev/peps/pep-0008/#naming-conventions) se pueden consultar distintos criterios para definir nombres de varibales en Python."
   ]
  },
  {
   "cell_type": "markdown",
   "metadata": {},
   "source": [
    "#### Nombres reservados\n",
    "\n",
    "Existen algunas palabras en Python que tienen un significado predefinido y no pueden ser usadas como nombres de variables. Estas palabras claves (_keywords_) son:\n",
    "\n",
    "    False, None, True, and, as, assert, break, class, continue, def, del, elif, else, except, \n",
    "    finally, for, from, global, if, import, in, is, lambda, nonlocal, not, or, pass, raise, return,\n",
    "    try, while, with, yield\n",
    "    \n",
    "No tiene demasiado sentido recitarlas hasta memorizarlas, lo mejor es ir aprendiéndolas con el uso. Ante la duda se puede revisar esta lista. De todas formas la mayoría de los entornos de programación (como las notebooks de Jupyter) resaltan estas palabras reservadas con algún color en especial. Por ejemplo Jupyter lo hace en verde y negrita. Otras partes especiales del código (que ya iremos aprendiendo), también son resaltadas. El resaltar distintas porciones de código con distintos colores ayuda la lectura, comprensión y modificación del código. \n",
    "\n",
    "Si intentamos asignar un valor a una palabra reservada obtendremos un error (excepto algunas excepciones como `range`)."
   ]
  },
  {
   "cell_type": "code",
   "execution_count": null,
   "metadata": {},
   "outputs": [],
   "source": [
    "import = 1"
   ]
  },
  {
   "cell_type": "markdown",
   "metadata": {},
   "source": [
    "#### Asignaciones\n",
    "\n",
    "Para poder decirle a Python que queremos generar una nueva variable basta con escribir el nombre de la variable seguido del operador \"=\" y luego el valor de la variable. Al hacer esto decimos que estamos **asignando una variable**."
   ]
  },
  {
   "cell_type": "code",
   "execution_count": 25,
   "metadata": {},
   "outputs": [
    {
     "data": {
      "text/plain": [
       "(2.0, 'hola')"
      ]
     },
     "execution_count": 25,
     "metadata": {},
     "output_type": "execute_result"
    }
   ],
   "source": [
    "x = 2.0\n",
    "y = 'hola'\n",
    "x, y"
   ]
  },
  {
   "cell_type": "markdown",
   "metadata": {},
   "source": [
    "Es importante destacar que en Python el signo `=` no indica igualdad, sino que se usa para asignar variables. Las siguientes lineas no tendrían sentido si el signo `=` implicara igualdad."
   ]
  },
  {
   "cell_type": "code",
   "execution_count": 26,
   "metadata": {},
   "outputs": [
    {
     "data": {
      "text/plain": [
       "3.0"
      ]
     },
     "execution_count": 26,
     "metadata": {},
     "output_type": "execute_result"
    }
   ],
   "source": [
    "x = x + 1 # x NO es igual a x más 1!\n",
    "x"
   ]
  },
  {
   "cell_type": "markdown",
   "metadata": {},
   "source": [
    "Si tuvieramos que leer la celda anterior en voz alta diríamos; \"_tome el valor de la variable `x` \n",
    "súmele `1` y guarde el resultado en la variable `x`_\". Es decir, SIEMPRE en una operación de asignación, primero se resuelve el término de la derecha.\n",
    "\n",
    "Como esta operación es muy común Python ofrece una versión abreviada."
   ]
  },
  {
   "cell_type": "code",
   "execution_count": 27,
   "metadata": {},
   "outputs": [
    {
     "data": {
      "text/plain": [
       "4.0"
      ]
     },
     "execution_count": 27,
     "metadata": {},
     "output_type": "execute_result"
    }
   ],
   "source": [
    "x += 1\n",
    "x"
   ]
  },
  {
   "cell_type": "code",
   "execution_count": 28,
   "metadata": {},
   "outputs": [
    {
     "data": {
      "text/plain": [
       "3.0"
      ]
     },
     "execution_count": 28,
     "metadata": {},
     "output_type": "execute_result"
    }
   ],
   "source": [
    "x-= 1\n",
    "x"
   ]
  },
  {
   "cell_type": "markdown",
   "metadata": {},
   "source": [
    "#### Comentarios\n",
    "Los comentarios son necesarios para documentar algunos aspectos del código que no son obvios. Es decir, es razonable pensar que quien esté leyendo el código puede determinar, **cómo** funciona el mismo; sin embargo, en ciertas ocasiones, puede no saber **porqué** lo hace. Por ejemplo, \n",
    "Este comentario es redundante e innecesario para el código:"
   ]
  },
  {
   "cell_type": "code",
   "execution_count": 29,
   "metadata": {},
   "outputs": [],
   "source": [
    "vel = 5 # asiga 5 a vel"
   ]
  },
  {
   "cell_type": "markdown",
   "metadata": {},
   "source": [
    "En cambio el siguiente contiene información del dominio del problema que figura en el código:"
   ]
  },
  {
   "cell_type": "code",
   "execution_count": 30,
   "metadata": {},
   "outputs": [],
   "source": [
    "vel = 5 # velocidad en metros/segundos"
   ]
  },
  {
   "cell_type": "markdown",
   "metadata": {},
   "source": [
    "Una buena definición de nombres de variables puede reducir la necesidad de ciertos comentarios, sin embargo, como se mencionó anteriormente, definir nombres largos hace que las expresiones sean difíciles de leer."
   ]
  },
  {
   "cell_type": "code",
   "execution_count": 31,
   "metadata": {},
   "outputs": [
    {
     "data": {
      "text/plain": [
       "(3.0, 'hola')"
      ]
     },
     "execution_count": 31,
     "metadata": {},
     "output_type": "execute_result"
    }
   ],
   "source": [
    "x, y  # todo lo escrito luego del signo # es un comentario.\n",
    "# Los comentario están destinados a ser leidos por humanos, por lo tanto Python los ignora."
   ]
  },
  {
   "cell_type": "markdown",
   "metadata": {},
   "source": [
    "#### Tipos de variables\n",
    "\n",
    "En muchos lenguajes de programación (como C/C++ o Fortran) antes de poder asignar valores a variables es necesario declararlas. Esto quiere decir que tenemos que indicar que nuestro porgrama usará una variable de nombre _tal_ que será del tipo _cual_. Recién una vez declarada la variable podemos asignarle valores concretos.\n",
    "\n",
    "En cambio en Python las variables no se declaran, simplemente se les asigna valores usando el signo `=` (como vimos anteriormente). La variable _x_ usada más arriba no existía hasta que le asignamos un valor (sin necesidad de declararla previamente). Esto suele ser una de las ventajas de Python, ya que simplifica la escritura de código, al tiempo que es una de las razones por las cuales Python es más lento que lenguajes como C/C++ o Fortran. Aun cuando no es necesario declarar variables es importante saber que existen distintos tipos de variables.\n",
    "\n",
    "En nuestro ejemplo `x` es una variable de tipo _flotante_ (float) mientras que `y` es una cadena (string)."
   ]
  },
  {
   "cell_type": "code",
   "execution_count": 32,
   "metadata": {},
   "outputs": [
    {
     "data": {
      "text/plain": [
       "(float, str)"
      ]
     },
     "execution_count": 32,
     "metadata": {},
     "output_type": "execute_result"
    }
   ],
   "source": [
    "type(x), type(y)"
   ]
  },
  {
   "cell_type": "markdown",
   "metadata": {},
   "source": [
    "Al ser Python un lenguaje dinámico también es posible cambiar el _tipo_ de una variable durante la ejecucion de un programa. En el siguiente ejemplo la variable $y$ contiene primero una cadena (_string_) y luego un entero (_int_), en muchos lenguajes de programación esto resultaría en un error, pero no en Python."
   ]
  },
  {
   "cell_type": "code",
   "execution_count": 33,
   "metadata": {},
   "outputs": [
    {
     "data": {
      "text/plain": [
       "(42, int)"
      ]
     },
     "execution_count": 33,
     "metadata": {},
     "output_type": "execute_result"
    }
   ],
   "source": [
    "y = 42\n",
    "y, type(y)"
   ]
  },
  {
   "cell_type": "markdown",
   "metadata": {},
   "source": [
    "Existen muchos tipos de variables predefinidos. Es incluso posible definir nuestros propios tipos de variables con sus propiedades (lo veremos más adelante en el curso). Por ahora veamos algunos de los tipos más comunes de variables:"
   ]
  },
  {
   "cell_type": "code",
   "execution_count": 34,
   "metadata": {},
   "outputs": [
    {
     "data": {
      "text/plain": [
       "int"
      ]
     },
     "execution_count": 34,
     "metadata": {},
     "output_type": "execute_result"
    }
   ],
   "source": [
    "# enteros\n",
    "x = 1\n",
    "type(x)"
   ]
  },
  {
   "cell_type": "markdown",
   "metadata": {},
   "source": [
    "Si un número tiene un punto (equivalente a una coma en español) es un número decimal (aun cuando la parte decimal sea 0), en la jerga computacional se le suele decir a estos números *[flotantes](https://es.wikipedia.org/wiki/Coma_flotante)*. El nombre hace referencia a la forma en que se almacenan internamente los números reales en las computadoras (ver más adelante)."
   ]
  },
  {
   "cell_type": "code",
   "execution_count": 35,
   "metadata": {},
   "outputs": [
    {
     "data": {
      "text/plain": [
       "float"
      ]
     },
     "execution_count": 35,
     "metadata": {},
     "output_type": "execute_result"
    }
   ],
   "source": [
    "y = 1.0\n",
    "type(y)"
   ]
  },
  {
   "cell_type": "markdown",
   "metadata": {},
   "source": [
    "Otro tipo común son los *booleanos*, existen solo dos tipos de booleanos."
   ]
  },
  {
   "cell_type": "code",
   "execution_count": 36,
   "metadata": {},
   "outputs": [
    {
     "data": {
      "text/plain": [
       "(bool, bool)"
      ]
     },
     "execution_count": 36,
     "metadata": {},
     "output_type": "execute_result"
    }
   ],
   "source": [
    "b1 = True\n",
    "b2 = False\n",
    "\n",
    "type(b1), type(b2)"
   ]
  },
  {
   "cell_type": "markdown",
   "metadata": {},
   "source": [
    "Las cadenas (*strings*) son otro tipo de variables y Python ofrece muchas opciones para manipular cadenas, esta es una de las razones de su popularidad en bioinformática. En el siguiente ejemplo es importante notar que la variable `s` almacena al caracter que representa al número 1 y no el número entero 1. ¿Que pasaría si a la variable `s` le sumamos un entero? ¿Y si la multiplicamos por un entero?"
   ]
  },
  {
   "cell_type": "code",
   "execution_count": 37,
   "metadata": {},
   "outputs": [
    {
     "data": {
      "text/plain": [
       "str"
      ]
     },
     "execution_count": 37,
     "metadata": {},
     "output_type": "execute_result"
    }
   ],
   "source": [
    "s = '1'  \n",
    "type(s)"
   ]
  },
  {
   "cell_type": "markdown",
   "metadata": {},
   "source": [
    "Un tipo especial de variable que suele aparecer frecuentemente es *NoneType*, solo existe un objeto que sea de este tipo y es *None*."
   ]
  },
  {
   "cell_type": "code",
   "execution_count": 38,
   "metadata": {},
   "outputs": [
    {
     "data": {
      "text/plain": [
       "NoneType"
      ]
     },
     "execution_count": 38,
     "metadata": {},
     "output_type": "execute_result"
    }
   ],
   "source": [
    "z = None\n",
    "type(None)"
   ]
  },
  {
   "cell_type": "markdown",
   "metadata": {},
   "source": [
    "### Operadores\n",
    "\n",
    "Los operadores son símbolos especiales que representan _operaciones_ sobre variables.\n",
    "\n",
    "#### Operadores aritméticos\n",
    "\n",
    "Las operaciones aritméticas básicas son:\n",
    "\n",
    "* adición: +\n",
    "* sustracción: -\n",
    "* multiplicación: *\n",
    "* división: /\n",
    "* división entera: //\n",
    "* potencia: **\n",
    "* módulo (resto de división): %\n",
    "\n",
    "La mayoría de los operadores matemáticos en Python funcionan como uno esperaría, excepto por la división. En Python 2 al dividir dos enteros se obtiene siempre otro entero. Este comportamiento se ha modificado en Python 3, donde se obtiene siempre flotantes. Si estás usando Python 2 asegurate de incluir la siguiente linea en tus programas `from __future__ import division`."
   ]
  },
  {
   "cell_type": "code",
   "execution_count": 39,
   "metadata": {},
   "outputs": [
    {
     "data": {
      "text/plain": [
       "3"
      ]
     },
     "execution_count": 39,
     "metadata": {},
     "output_type": "execute_result"
    }
   ],
   "source": [
    "1 + 2"
   ]
  },
  {
   "cell_type": "code",
   "execution_count": 40,
   "metadata": {},
   "outputs": [
    {
     "data": {
      "text/plain": [
       "-1"
      ]
     },
     "execution_count": 40,
     "metadata": {},
     "output_type": "execute_result"
    }
   ],
   "source": [
    "1 - 2"
   ]
  },
  {
   "cell_type": "code",
   "execution_count": 41,
   "metadata": {},
   "outputs": [
    {
     "data": {
      "text/plain": [
       "2"
      ]
     },
     "execution_count": 41,
     "metadata": {},
     "output_type": "execute_result"
    }
   ],
   "source": [
    "1 * 2"
   ]
  },
  {
   "cell_type": "code",
   "execution_count": 42,
   "metadata": {},
   "outputs": [
    {
     "data": {
      "text/plain": [
       "0.5"
      ]
     },
     "execution_count": 42,
     "metadata": {},
     "output_type": "execute_result"
    }
   ],
   "source": [
    "1 / 2 # Python 3 - división flotante"
   ]
  },
  {
   "cell_type": "code",
   "execution_count": 43,
   "metadata": {},
   "outputs": [
    {
     "data": {
      "text/plain": [
       "0"
      ]
     },
     "execution_count": 43,
     "metadata": {},
     "output_type": "execute_result"
    }
   ],
   "source": [
    "1//2 # en Python 3 - división entera"
   ]
  },
  {
   "cell_type": "code",
   "execution_count": 44,
   "metadata": {},
   "outputs": [
    {
     "data": {
      "text/plain": [
       "4"
      ]
     },
     "execution_count": 44,
     "metadata": {},
     "output_type": "execute_result"
    }
   ],
   "source": [
    "2**2"
   ]
  },
  {
   "cell_type": "code",
   "execution_count": 45,
   "metadata": {},
   "outputs": [
    {
     "data": {
      "text/plain": [
       "1.4142135623730951"
      ]
     },
     "execution_count": 45,
     "metadata": {},
     "output_type": "execute_result"
    }
   ],
   "source": [
    "2**0.5"
   ]
  },
  {
   "cell_type": "code",
   "execution_count": 46,
   "metadata": {},
   "outputs": [
    {
     "data": {
      "text/plain": [
       "3"
      ]
     },
     "execution_count": 46,
     "metadata": {},
     "output_type": "execute_result"
    }
   ],
   "source": [
    "7 % 4"
   ]
  },
  {
   "cell_type": "markdown",
   "metadata": {},
   "source": [
    "El orden en que se ejecutan las operaciones aritméticas sigue las reglas de precedencia estándar de la matemática. Ante la duda, o para aumentar la claridad de una expresión, es posible usar paréntesis para agrupar operaciones"
   ]
  },
  {
   "cell_type": "code",
   "execution_count": 47,
   "metadata": {},
   "outputs": [
    {
     "data": {
      "text/plain": [
       "-10"
      ]
     },
     "execution_count": 47,
     "metadata": {},
     "output_type": "execute_result"
    }
   ],
   "source": [
    "2 - 3 * 4"
   ]
  },
  {
   "cell_type": "code",
   "execution_count": 48,
   "metadata": {},
   "outputs": [
    {
     "data": {
      "text/plain": [
       "-10"
      ]
     },
     "execution_count": 48,
     "metadata": {},
     "output_type": "execute_result"
    }
   ],
   "source": [
    "2 - (3 * 4)"
   ]
  },
  {
   "cell_type": "code",
   "execution_count": 49,
   "metadata": {},
   "outputs": [
    {
     "data": {
      "text/plain": [
       "-4"
      ]
     },
     "execution_count": 49,
     "metadata": {},
     "output_type": "execute_result"
    }
   ],
   "source": [
    "(2 - 3) * 4"
   ]
  },
  {
   "cell_type": "markdown",
   "metadata": {},
   "source": [
    "####  Booleanos"
   ]
  },
  {
   "cell_type": "markdown",
   "metadata": {},
   "source": [
    " <img src=\"imagenes/raining_esp.jpg\" width=\"550\">"
   ]
  },
  {
   "cell_type": "markdown",
   "metadata": {},
   "source": [
    "#### Operadores booleanos\n",
    "\n",
    "En el álgebra Booleana, en vez de operar con valores numéricos se opera con los valores _verdadero_ (`True`) y _falso_ (`False`). En el ejemplo anterior se podrían ver como los caminos \"SI\" y \"NO\" que salen de los elementos de decisión del diagrama de flujo. \n",
    "En programación esto es útil para realizar ejecuciones condicionales, es decir de acuerdo a determinadas condiciones, se opta por distintos flujos de ejecución."
   ]
  },
  {
   "cell_type": "code",
   "execution_count": 50,
   "metadata": {},
   "outputs": [
    {
     "data": {
      "text/plain": [
       "True"
      ]
     },
     "execution_count": 50,
     "metadata": {},
     "output_type": "execute_result"
    }
   ],
   "source": [
    "not False"
   ]
  },
  {
   "cell_type": "code",
   "execution_count": 51,
   "metadata": {},
   "outputs": [
    {
     "data": {
      "text/plain": [
       "False"
      ]
     },
     "execution_count": 51,
     "metadata": {},
     "output_type": "execute_result"
    }
   ],
   "source": [
    "True and False"
   ]
  },
  {
   "cell_type": "code",
   "execution_count": 52,
   "metadata": {},
   "outputs": [
    {
     "data": {
      "text/plain": [
       "True"
      ]
     },
     "execution_count": 52,
     "metadata": {},
     "output_type": "execute_result"
    }
   ],
   "source": [
    "True or False"
   ]
  },
  {
   "cell_type": "code",
   "execution_count": 53,
   "metadata": {},
   "outputs": [
    {
     "data": {
      "text/plain": [
       "True"
      ]
     },
     "execution_count": 53,
     "metadata": {},
     "output_type": "execute_result"
    }
   ],
   "source": [
    "True and not False"
   ]
  },
  {
   "cell_type": "markdown",
   "metadata": {},
   "source": [
    "#### Operadores de comparación"
   ]
  },
  {
   "cell_type": "code",
   "execution_count": 54,
   "metadata": {},
   "outputs": [
    {
     "data": {
      "text/plain": [
       "True"
      ]
     },
     "execution_count": 54,
     "metadata": {},
     "output_type": "execute_result"
    }
   ],
   "source": [
    "2 > 1  # mayor que"
   ]
  },
  {
   "cell_type": "code",
   "execution_count": 55,
   "metadata": {},
   "outputs": [
    {
     "data": {
      "text/plain": [
       "False"
      ]
     },
     "execution_count": 55,
     "metadata": {},
     "output_type": "execute_result"
    }
   ],
   "source": [
    "2 < 2  # menor que"
   ]
  },
  {
   "cell_type": "code",
   "execution_count": 56,
   "metadata": {},
   "outputs": [
    {
     "data": {
      "text/plain": [
       "True"
      ]
     },
     "execution_count": 56,
     "metadata": {},
     "output_type": "execute_result"
    }
   ],
   "source": [
    "3 >= 2  # mayor o igual que"
   ]
  },
  {
   "cell_type": "code",
   "execution_count": 57,
   "metadata": {},
   "outputs": [
    {
     "data": {
      "text/plain": [
       "True"
      ]
     },
     "execution_count": 57,
     "metadata": {},
     "output_type": "execute_result"
    }
   ],
   "source": [
    "0 == 0  # igualdad"
   ]
  },
  {
   "cell_type": "code",
   "execution_count": 58,
   "metadata": {},
   "outputs": [
    {
     "data": {
      "text/plain": [
       "True"
      ]
     },
     "execution_count": 58,
     "metadata": {},
     "output_type": "execute_result"
    }
   ],
   "source": [
    "42 != 7  # distinto de"
   ]
  },
  {
   "cell_type": "code",
   "execution_count": 59,
   "metadata": {},
   "outputs": [
    {
     "data": {
      "text/plain": [
       "True"
      ]
     },
     "execution_count": 59,
     "metadata": {},
     "output_type": "execute_result"
    }
   ],
   "source": [
    "'z' > 'a'  # comparación entre cadenas"
   ]
  },
  {
   "cell_type": "code",
   "execution_count": 60,
   "metadata": {},
   "outputs": [
    {
     "data": {
      "text/plain": [
       "True"
      ]
     },
     "execution_count": 60,
     "metadata": {},
     "output_type": "execute_result"
    }
   ],
   "source": [
    "x = 42\n",
    "x > 0 and x < 100"
   ]
  },
  {
   "cell_type": "code",
   "execution_count": 61,
   "metadata": {},
   "outputs": [
    {
     "data": {
      "text/plain": [
       "False"
      ]
     },
     "execution_count": 61,
     "metadata": {},
     "output_type": "execute_result"
    }
   ],
   "source": [
    "x < 0 and x < 100"
   ]
  },
  {
   "cell_type": "markdown",
   "metadata": {},
   "source": [
    "### Input por teclado"
   ]
  },
  {
   "cell_type": "markdown",
   "metadata": {},
   "source": [
    "En ciertas ocasiones es necesario que el usuario del programa ingrese valores de entrada al programa.\n",
    "Python proporciona una función nativa (_bult-in function_) llamada _input_ que detiene el programa y espera a que el usuario ingrese algo. Cuando el usuario presiona \"Return\" o \"Enter\", el programa se reanuda y la función devuelve lo que el usuario escribió como una cadena."
   ]
  },
  {
   "cell_type": "code",
   "execution_count": 66,
   "metadata": {},
   "outputs": [
    {
     "name": "stdin",
     "output_type": "stream",
     "text": [
      " Hola\n"
     ]
    }
   ],
   "source": [
    "text = input()"
   ]
  },
  {
   "cell_type": "code",
   "execution_count": 67,
   "metadata": {},
   "outputs": [
    {
     "data": {
      "text/plain": [
       "'Hola'"
      ]
     },
     "execution_count": 67,
     "metadata": {},
     "output_type": "execute_result"
    }
   ],
   "source": [
    "text"
   ]
  },
  {
   "cell_type": "markdown",
   "metadata": {},
   "source": [
    "### Errores\n",
    "\n",
    "Los errores son parte central de la programación y hay que acostumbrarse a cometerlos ya que así es como se avanza en la escritura de un programa. Al producirse errores  Python entrega mensajes que son muy informativos y por lo tanto útiles para solucionar el error, por lo que es muy beneficioso aprender a interpretarlos y prestarles mucha atención cuando ocurren salvo, claro está, que uno tenga como _hobby_ el perder tiempo.  "
   ]
  },
  {
   "cell_type": "code",
   "execution_count": 68,
   "metadata": {},
   "outputs": [
    {
     "ename": "NameError",
     "evalue": "name 'ñ' is not defined",
     "output_type": "error",
     "traceback": [
      "\u001b[0;31m---------------------------------------------------------------------------\u001b[0m",
      "\u001b[0;31mNameError\u001b[0m                                 Traceback (most recent call last)",
      "\u001b[0;32m<ipython-input-68-080e3c8a1a9b>\u001b[0m in \u001b[0;36m<module>\u001b[0;34m\u001b[0m\n\u001b[1;32m      1\u001b[0m \u001b[0;31m# Por ejemplo, si tratamos de usar una variable que no ha sido definida previamente obtendremos un mensaje de error:\u001b[0m\u001b[0;34m\u001b[0m\u001b[0;34m\u001b[0m\u001b[0;34m\u001b[0m\u001b[0m\n\u001b[0;32m----> 2\u001b[0;31m \u001b[0mñ\u001b[0m\u001b[0;34m\u001b[0m\u001b[0;34m\u001b[0m\u001b[0m\n\u001b[0m",
      "\u001b[0;31mNameError\u001b[0m: name 'ñ' is not defined"
     ]
    }
   ],
   "source": [
    "# Por ejemplo, si tratamos de usar una variable que no ha sido definida previamente obtendremos un mensaje de error:\n",
    "ñ"
   ]
  },
  {
   "cell_type": "markdown",
   "metadata": {},
   "source": [
    "Cuando un error sintáctico o en tiempo de ejecución ocurre, el mensaje contiene mucha información del error, incluso en algunos casos puede llegar a ser \"demasiada\". Es por esto que los aspectos más importantes a identificar del error son:\n",
    "\n",
    "- Qué tipo de error surgió\n",
    "- En dónde surgió\n",
    "\n",
    "Los errores de sintaxis son generalmente fáciles de encontrar, pero también hay que tener ciertos cuidados. \n",
    "Los errores de espacios en blanco pueden ser complicados porque los espacios y los _tabs_ son invisibles y naturalmente estamos acostumbrados a ignorarlos."
   ]
  },
  {
   "cell_type": "code",
   "execution_count": null,
   "metadata": {},
   "outputs": [],
   "source": [
    "x = 5\n",
    " y = 6"
   ]
  },
  {
   "cell_type": "markdown",
   "metadata": {},
   "source": [
    "El proceso de corrección de errores de un programa se llama _debugging_ y es quizá una de las tareas más demandantes al escribir código. Python fue pensado como un lenguaje fácil de leer debido a que en general uno pasa más tiempo leyendo código (para arreglar los errores) que escribiéndolo. Mitad broma, mitad en serio, se dice que si el _debugging_ es el proceso por el cual se eliminan errores la _programación_ debe ser el proceso por el cual se introducen los errores."
   ]
  },
  {
   "cell_type": "markdown",
   "metadata": {},
   "source": [
    "#### Módulos\n",
    "Un módulo es un archivo que contiene un conjunto de funciones relacionadas entre sí. \n",
    "Por ejempo, Python provee el módulo [_random_](https://docs.python.org/3.7/library/random.html) que contiene un conjunto de funciones que permiten genera números aleatorios. Para hacer uso de dicho módulo el mismo se debe importar."
   ]
  },
  {
   "cell_type": "code",
   "execution_count": 1,
   "metadata": {},
   "outputs": [],
   "source": [
    "import random"
   ]
  },
  {
   "cell_type": "markdown",
   "metadata": {},
   "source": [
    "Para su uso se debe usar el nombre del modulo seguido de un punto \".\" y el nombre de la función. "
   ]
  },
  {
   "cell_type": "code",
   "execution_count": 2,
   "metadata": {},
   "outputs": [
    {
     "data": {
      "text/plain": [
       "5"
      ]
     },
     "execution_count": 2,
     "metadata": {},
     "output_type": "execute_result"
    }
   ],
   "source": [
    "ran= random.randint(1,5) # genera un número aleatorio entre 1 y 5\n",
    "ran"
   ]
  },
  {
   "cell_type": "code",
   "execution_count": 3,
   "metadata": {},
   "outputs": [
    {
     "data": {
      "text/plain": [
       "20"
      ]
     },
     "execution_count": 3,
     "metadata": {},
     "output_type": "execute_result"
    }
   ],
   "source": [
    "choice =random.choice([1,5,\"Juan\",\"Pedro\",20])# elige de manera aleatoria entre un conjunto de elementos\n",
    "choice"
   ]
  },
  {
   "cell_type": "markdown",
   "metadata": {},
   "source": [
    "## Adivina el número\n",
    "Hasta ahora vimos una parte de la sintaxis básica de Python. Estamos en condiciones de empezar a desarrollar scripts que nos asistan en distintas tareas. Empezaremos por un juego simple"
   ]
  },
  {
   "cell_type": "code",
   "execution_count": 4,
   "metadata": {},
   "outputs": [
    {
     "name": "stdout",
     "output_type": "stream",
     "text": [
      "Pensé en un número entre 1 y 20.\n",
      "Adivina.\n",
      "*************.\n"
     ]
    },
    {
     "name": "stdin",
     "output_type": "stream",
     "text": [
      " 5\n"
     ]
    },
    {
     "name": "stdout",
     "output_type": "stream",
     "text": [
      "El número que sugerís es muy bajo.\n"
     ]
    }
   ],
   "source": [
    "import random \n",
    "num_secreto = random.randint(1, 20)\n",
    "print('Pensé en un número entre 1 y 20.') \n",
    "print('Adivina.')\n",
    "print('*************.')\n",
    "num_sugerido = int(input()) # se solicita el número a adivinar al usuario\n",
    "\n",
    "# qué se debería hacer con el número ingresado???\n",
    "\n",
    "if num_sugerido < num_secreto:\n",
    "    print('El número que sugerís es muy bajo.')\n",
    "    \n",
    "if num_sugerido > num_secreto:\n",
    "    print('El número sugerís es muy alto.')  "
   ]
  },
  {
   "cell_type": "markdown",
   "metadata": {},
   "source": [
    "### Selección (Condicional)\n",
    "Para poder generar programas que realicen determinadas tareas, casi siempre es imprescindible tener la posibilidad de verificar condiciones y en base a esto cambiar el comportamiento del programa. \n",
    "Las sentencias condicionales proporcionan esta característica en los lenguajes de programación.\n",
    "A continuación se brinda un ejemplo sencillo del uso de dichas sentencias en Python: "
   ]
  },
  {
   "cell_type": "code",
   "execution_count": 5,
   "metadata": {},
   "outputs": [
    {
     "name": "stdout",
     "output_type": "stream",
     "text": [
      "x es positivo\n"
     ]
    }
   ],
   "source": [
    "x = 2\n",
    "if x > 0: # \"x > 0\" es la condición\n",
    "    print('x es positivo') # esta sentencia es el cuerpo"
   ]
  },
  {
   "cell_type": "markdown",
   "metadata": {},
   "source": [
    "La expresión booleana después de la palabra reservada **if** se denomina _condición_.\n",
    "Si la misma es verdadera (_True_), se ejecuta la sentencia que se encuentra dentro del bloque (en este caso, la sentencia identada); en otro caso (_False_), no pasa nada.\n",
    "\n",
    "Dentro del _cuerpo_ de la condición, es decir, abajo de los dos puntos que finalizan la condición, se pueden colocar un conjunto de sentencias. No hay límite en cantidad, sin embargo al menos debe contener una sentencia. \n",
    "En ciertas ocasiones es necesario tener un _cuerpo_ sin sentencias (generalmente, cuando se posterga la programación de la condición); en ese caso, se puede utilizar la sentencia _pass_ que no hace nada."
   ]
  },
  {
   "cell_type": "code",
   "execution_count": 6,
   "metadata": {},
   "outputs": [],
   "source": [
    "if x < 0:\n",
    "    pass # TODO: se deben manejar valores negativos"
   ]
  },
  {
   "cell_type": "markdown",
   "metadata": {},
   "source": [
    "**Importante:** Python usa la identación como delimitador de bloques de sentencias! Lo que equivale a  \"{\" y \"}\" en Java o C"
   ]
  },
  {
   "cell_type": "markdown",
   "metadata": {},
   "source": [
    "#### Condicional con ejecución alternativa"
   ]
  },
  {
   "cell_type": "code",
   "execution_count": 7,
   "metadata": {},
   "outputs": [
    {
     "name": "stdout",
     "output_type": "stream",
     "text": [
      "x es par\n"
     ]
    }
   ],
   "source": [
    "x=4\n",
    "if x % 2 == 0:\n",
    "    print('x es par')\n",
    "else:\n",
    "    print('x es impar')"
   ]
  },
  {
   "cell_type": "markdown",
   "metadata": {},
   "source": [
    "#### Condicional encadendo"
   ]
  },
  {
   "cell_type": "code",
   "execution_count": 8,
   "metadata": {},
   "outputs": [
    {
     "name": "stdout",
     "output_type": "stream",
     "text": [
      "x es mayor que y\n"
     ]
    }
   ],
   "source": [
    "y=2\n",
    "if x < y:\n",
    "    print('x es menor que y')\n",
    "elif x > y:\n",
    "    print('x es mayor que y')\n",
    "else:\n",
    "    print('x e y son iguales')"
   ]
  },
  {
   "cell_type": "code",
   "execution_count": 9,
   "metadata": {},
   "outputs": [
    {
     "name": "stdout",
     "output_type": "stream",
     "text": [
      "Pensé en un número entre 1 y 20.\n",
      "Adivina.\n",
      "*************.\n"
     ]
    },
    {
     "name": "stdin",
     "output_type": "stream",
     "text": [
      " 10\n"
     ]
    },
    {
     "name": "stdout",
     "output_type": "stream",
     "text": [
      "Adivinaste!!\n"
     ]
    }
   ],
   "source": [
    "# ejemplo del número adivinado\n",
    "import random # es necesario utilizar una librería que permita generar nros aleatorios\n",
    "num_secreto = random.randint(1, 20) # se genera un número random entre 1 y 20\n",
    "print('Pensé en un número entre 1 y 20.') \n",
    "print('Adivina.')\n",
    "print('*************.')\n",
    "num_sugerido = int(input()) # se solicita el número a adivinar al usuario\n",
    "\n",
    "# qué se debería hacer con el número ingresado???\n",
    "\n",
    "if num_sugerido < num_secreto:\n",
    "    print('El número que sugerís es muy bajo.')    \n",
    "elif num_sugerido > num_secreto:\n",
    "    print('El número sugerís es muy alto.')  \n",
    "else: \n",
    "    print('Adivinaste!!')  # Porque??"
   ]
  },
  {
   "cell_type": "markdown",
   "metadata": {},
   "source": [
    "**elif** es una abreviación de \"else if\". \n",
    "No hay límites en la cantidad de sentencias **elif**. \n",
    "En caso en que se deba incorporar una sentencia **else**, debe ser al final, pero no es obligación que haya una. "
   ]
  },
  {
   "cell_type": "markdown",
   "metadata": {},
   "source": [
    "#### Condicional anidado"
   ]
  },
  {
   "cell_type": "code",
   "execution_count": 10,
   "metadata": {},
   "outputs": [
    {
     "name": "stdout",
     "output_type": "stream",
     "text": [
      "x es mayor que y\n"
     ]
    }
   ],
   "source": [
    "if x == y:\n",
    "    print('x e y son iguales')\n",
    "else:\n",
    "    if x < y:\n",
    "        print('x es menor que y')\n",
    "    else:\n",
    "        print('x es mayor que y')"
   ]
  },
  {
   "cell_type": "markdown",
   "metadata": {},
   "source": [
    "Pensando en el juego de adivinar el número:\n",
    "Sería justo brindarle cierta cantidad de intentos para que el usuario tenga más chances de atinar."
   ]
  },
  {
   "cell_type": "code",
   "execution_count": 11,
   "metadata": {},
   "outputs": [
    {
     "name": "stdout",
     "output_type": "stream",
     "text": [
      "Pensé en un número entre 1 y 20.\n",
      "Adivina.\n",
      "*************.\n"
     ]
    },
    {
     "name": "stdin",
     "output_type": "stream",
     "text": [
      " 18\n"
     ]
    },
    {
     "name": "stdout",
     "output_type": "stream",
     "text": [
      "Adivinaste!!\n"
     ]
    }
   ],
   "source": [
    "# código para 3 intentos\n",
    "import random \n",
    "num_secreto = random.randint(1, 20) \n",
    "adivino=False # variable booleana para saber cuando adivina\n",
    "print('Pensé en un número entre 1 y 20.') \n",
    "print('Adivina.')\n",
    "print('*************.')\n",
    "num_sugerido = int(input())\n",
    "if num_sugerido < num_secreto:\n",
    "    print('El número que sugerís es muy bajo.')    \n",
    "elif num_sugerido > num_secreto:\n",
    "    print('El número sugerís es muy alto.')  \n",
    "else: \n",
    "    print('Adivinaste!!')\n",
    "    adivino=True\n",
    "\n",
    "if not adivino: # preguto si no adivinó, le sigo dando chances.\n",
    "    print('*************.')\n",
    "    num_sugerido = int(input())\n",
    "    if num_sugerido < num_secreto:\n",
    "        print('El número que sugerís es muy bajo.')    \n",
    "    elif num_sugerido > num_secreto:\n",
    "        print('El número sugerís es muy alto.')  \n",
    "    else: \n",
    "        print('Adivinaste!!')\n",
    "        adivino=True\n",
    "        \n",
    "if not adivino: # preguto si no adivinó, le sigo dando chances.\n",
    "    print('*************.')\n",
    "    num_sugerido = int(input())\n",
    "    if num_sugerido < num_secreto:\n",
    "        print('El número que sugerís es muy bajo.')    \n",
    "    elif num_sugerido > num_secreto:\n",
    "        print('El número sugerís es muy alto.')  \n",
    "    else: \n",
    "        print('Adivinaste!!')\n",
    "        adivino=True"
   ]
  },
  {
   "cell_type": "markdown",
   "metadata": {},
   "source": [
    "- ¿Qué pasa si quiero brindar más intentos al usuario?"
   ]
  },
  {
   "cell_type": "code",
   "execution_count": 12,
   "metadata": {},
   "outputs": [
    {
     "name": "stdout",
     "output_type": "stream",
     "text": [
      "Pensé en un número entre 1 y 20.\n",
      "Adivina.\n"
     ]
    },
    {
     "name": "stdin",
     "output_type": "stream",
     "text": [
      " 18\n"
     ]
    },
    {
     "name": "stdout",
     "output_type": "stream",
     "text": [
      "El número sugerís es muy alto.\n",
      "*************.\n",
      "Adivina.\n"
     ]
    },
    {
     "name": "stdin",
     "output_type": "stream",
     "text": [
      " 15\n"
     ]
    },
    {
     "name": "stdout",
     "output_type": "stream",
     "text": [
      "El número sugerís es muy alto.\n",
      "*************.\n",
      "Adivina.\n"
     ]
    },
    {
     "name": "stdin",
     "output_type": "stream",
     "text": [
      " 10\n"
     ]
    },
    {
     "name": "stdout",
     "output_type": "stream",
     "text": [
      "El número sugerís es muy alto.\n",
      "*************.\n",
      "Adivina.\n"
     ]
    },
    {
     "name": "stdin",
     "output_type": "stream",
     "text": [
      " 5\n"
     ]
    },
    {
     "name": "stdout",
     "output_type": "stream",
     "text": [
      "El número sugerís es muy alto.\n",
      "*************.\n",
      "Adivina.\n"
     ]
    },
    {
     "name": "stdin",
     "output_type": "stream",
     "text": [
      " 2\n"
     ]
    },
    {
     "name": "stdout",
     "output_type": "stream",
     "text": [
      "El número sugerís es muy alto.\n",
      "*************.\n",
      "Adivina.\n"
     ]
    },
    {
     "name": "stdin",
     "output_type": "stream",
     "text": [
      " 1\n"
     ]
    },
    {
     "name": "stdout",
     "output_type": "stream",
     "text": [
      "Muy bien! Adivinaste el número en 6 intentos!\n"
     ]
    }
   ],
   "source": [
    "# preguntar al usuario si puede adivinar en 6 chances\n",
    "\n",
    "import random \n",
    "num_secreto = random.randint(1, 20) \n",
    "print('Pensé en un número entre 1 y 20.') \n",
    "\n",
    "intentos=1\n",
    "while intentos < 7: # sentencia que indica iteración\n",
    "    print('Adivina.')\n",
    "    num_sugerido = int(input())    \n",
    "    if num_sugerido < num_secreto:\n",
    "        print('El número que sugerís es muy bajo.')\n",
    "    elif num_sugerido > num_secreto:\n",
    "        print('El número sugerís es muy alto.')   \n",
    "    else:\n",
    "        break # Esta \"rama\" se da si el usuario adivinó        \n",
    "    print('*************.')\n",
    "    intentos+=1\n",
    "    \n",
    "if num_sugerido == num_secreto:\n",
    "    print('Muy bien! Adivinaste el número en ' + str(intentos) + ' intentos!')\n",
    "else:\n",
    "    print('Nope. El número que pensé fue ' + str(num_secreto))"
   ]
  },
  {
   "cell_type": "markdown",
   "metadata": {},
   "source": [
    "## Iteraciones\n",
    "Una de las caracterísitcas más relevantes de las computadoras es que pueden realizar tareas repetitivas sin equivocarse, habilidad en la que los humanos no se destacan. \n",
    "En el contexto de la programación, la repetición es también llamada _iteración_"
   ]
  },
  {
   "cell_type": "markdown",
   "metadata": {},
   "source": [
    "#### Sentencia _while_"
   ]
  },
  {
   "cell_type": "markdown",
   "metadata": {},
   "source": [
    "La sentencia _while_ posee el siguiente flujo de ejecución:\n",
    "1. Determinar si la condición es verdadera o falsa\n",
    "2. Si es falsa, abandonar el bloque _while_ y continuar con la ejecución de la siguiente sentencia.\n",
    "3. Si la condición es verdadera, ejecutar el cuerpo y posteriormente volver al paso 1."
   ]
  },
  {
   "cell_type": "code",
   "execution_count": 13,
   "metadata": {},
   "outputs": [],
   "source": [
    "def countdown(n):\n",
    "    while n > 0:\n",
    "        print(n)\n",
    "        n = n - 1    "
   ]
  },
  {
   "cell_type": "code",
   "execution_count": 14,
   "metadata": {},
   "outputs": [
    {
     "name": "stdout",
     "output_type": "stream",
     "text": [
      "3\n",
      "2\n",
      "1\n"
     ]
    }
   ],
   "source": [
    "countdown(3)"
   ]
  },
  {
   "cell_type": "markdown",
   "metadata": {},
   "source": [
    "Este tipo de flujo se denomina _loop_ ya que en el tercer paso, el flujo de ejecución vuelve al principio. Es por este motivo que, por lo general, es necesario que dentro del cuerpo de la sentencia haya algún cambio que haga que las iteraciones se terminen en algún momento. Caso contrario, si el loop nunca termina se denomina _loop infinito_."
   ]
  },
  {
   "cell_type": "markdown",
   "metadata": {},
   "source": [
    "#### Sentencia _for each_\n",
    "Esta es una de las mayores facilidades provistas por Python a diferencia de otros lenguajes. La sentencia **for** es bastante amplia y en este lenguaje puede ser usada de distintas formas. La más básica es la siguiente:"
   ]
  },
  {
   "cell_type": "code",
   "execution_count": 15,
   "metadata": {},
   "outputs": [
    {
     "name": "stdout",
     "output_type": "stream",
     "text": [
      "0\n",
      "1\n",
      "2\n",
      "3\n"
     ]
    }
   ],
   "source": [
    "for i in range(4): # range(4) -> [0,1,2,3]     \n",
    "    print(i)"
   ]
  },
  {
   "cell_type": "code",
   "execution_count": 16,
   "metadata": {},
   "outputs": [
    {
     "name": "stdout",
     "output_type": "stream",
     "text": [
      "5\n",
      "4\n",
      "3\n",
      "2\n",
      "1\n",
      "--------\n",
      "2\n",
      "1\n",
      "--------\n",
      "3\n",
      "2\n",
      "1\n",
      "--------\n"
     ]
    }
   ],
   "source": [
    "for n in [5, 2, 3]:\n",
    "    countdown(n)\n",
    "    print(\"--------\") # separador \"visual\""
   ]
  },
  {
   "cell_type": "code",
   "execution_count": 17,
   "metadata": {},
   "outputs": [
    {
     "name": "stdout",
     "output_type": "stream",
     "text": [
      "Año inicio Guerras Mundiales\n",
      "1° 1914\n",
      "2° 1939\n",
      "3° 2022\n"
     ]
    }
   ],
   "source": [
    "print(\"Año inicio Guerras Mundiales\")\n",
    "for ord,nom in enumerate([1914,1939,2022]):\n",
    "    print(str(ord + 1) + \"° \" + str(nom))"
   ]
  },
  {
   "cell_type": "markdown",
   "metadata": {},
   "source": [
    "#### Sentencia _break_\n",
    "En ciertas ocasiones el punto de finalización del loop puede conocerse dentro del cuerpo del _loop_.\n",
    "En ese caso, se puede hacer uso de la sentencia _break_ para realizar un \"salto\" fuera del loop. \n",
    "Por ejemplo, supongamos que se le pide al usuario que ingrese datos y de acuerdo a lo que ingrese se determina si se sigue iterando o se termina el loop. Se podría realizar lo siguiente:"
   ]
  },
  {
   "cell_type": "markdown",
   "metadata": {},
   "source": [
    "Volvamos a ver el juego de adivinar el número incorporando alguna de las características mencionadas anteriormente"
   ]
  },
  {
   "cell_type": "code",
   "execution_count": 18,
   "metadata": {},
   "outputs": [
    {
     "name": "stdout",
     "output_type": "stream",
     "text": [
      "Pensé en un número entre 1 y 20.\n",
      "Adivina.\n"
     ]
    },
    {
     "name": "stdin",
     "output_type": "stream",
     "text": [
      " 15\n"
     ]
    },
    {
     "name": "stdout",
     "output_type": "stream",
     "text": [
      "El número sugerís es muy alto.\n",
      "*************.\n",
      "Adivina.\n"
     ]
    },
    {
     "name": "stdin",
     "output_type": "stream",
     "text": [
      " 8\n"
     ]
    },
    {
     "name": "stdout",
     "output_type": "stream",
     "text": [
      "El número que sugerís es muy bajo.\n",
      "*************.\n",
      "Adivina.\n"
     ]
    },
    {
     "name": "stdin",
     "output_type": "stream",
     "text": [
      " 10\n"
     ]
    },
    {
     "name": "stdout",
     "output_type": "stream",
     "text": [
      "El número que sugerís es muy bajo.\n",
      "*************.\n",
      "Adivina.\n"
     ]
    },
    {
     "name": "stdin",
     "output_type": "stream",
     "text": [
      " 12\n"
     ]
    },
    {
     "name": "stdout",
     "output_type": "stream",
     "text": [
      "El número que sugerís es muy bajo.\n",
      "*************.\n",
      "Adivina.\n"
     ]
    },
    {
     "name": "stdin",
     "output_type": "stream",
     "text": [
      " 13\n"
     ]
    },
    {
     "name": "stdout",
     "output_type": "stream",
     "text": [
      "El número que sugerís es muy bajo.\n",
      "*************.\n",
      "Adivina.\n"
     ]
    },
    {
     "name": "stdin",
     "output_type": "stream",
     "text": [
      " 14\n"
     ]
    },
    {
     "name": "stdout",
     "output_type": "stream",
     "text": [
      "Muy bien! Adivinaste el número en 6 intentos!\n"
     ]
    }
   ],
   "source": [
    "import random \n",
    "num_secreto = random.randint(1, 20) \n",
    "print('Pensé en un número entre 1 y 20.') \n",
    "\n",
    "intentos=1\n",
    "for intentos in range(1,7): # range(1,7) -> [1,2,3,4,5,6]\n",
    "    print('Adivina.')\n",
    "    num_sugerido = int(input())    \n",
    "    if num_sugerido < num_secreto:\n",
    "        print('El número que sugerís es muy bajo.')\n",
    "    elif num_sugerido > num_secreto:\n",
    "        print('El número sugerís es muy alto.')   \n",
    "    else:\n",
    "        break # Esta \"rama\" se da si el usuario adivinó        \n",
    "    print('*************.')\n",
    "    # intentos+=1 -> ya no hace falta\n",
    "    \n",
    "if num_sugerido == num_secreto:\n",
    "    print('Muy bien! Adivinaste el número en ' + str(intentos) + ' intentos!')\n",
    "else:\n",
    "    print('Nope. El número que pensé fue ' + str(num_secreto))"
   ]
  },
  {
   "cell_type": "markdown",
   "metadata": {},
   "source": [
    "### Problem solving\n",
    "\n",
    "> Si tenés 8 horas para cortar un árbol, mejor pasá 6 horas afilando el hacha.\n",
    "\n",
    "Antes de sentarnos a programar conviene tener una idea al menos aproximada del problema que queremos resolver, esto nos ahorrará tiempo y blabalbalba\n",
    "\n",
    "\n",
    "Supongamos que nuestro problema consiste en calcular el promedio (o media) de un conjunto de números. En lenguaje matemático esto se expresa como:\n",
    "\n",
    "$$E[x] = \\frac{1}{n} \\sum_{i=1}^n{x_i} = \\frac{x_1 + x_2, + x_3 \\cdots x_n}{n}$$\n",
    "\n",
    "Entonces vemos que el problema \"calcular un promedio\" se resuelve sumando los números que queremos promediar y dividiendo por la cantidad total de números a promediar.\n",
    "\n",
    "Con lo que ya sabemos de Python podemos calcular una media como:"
   ]
  },
  {
   "cell_type": "code",
   "execution_count": 48,
   "metadata": {},
   "outputs": [
    {
     "data": {
      "text/plain": [
       "3.5"
      ]
     },
     "execution_count": 48,
     "metadata": {},
     "output_type": "execute_result"
    }
   ],
   "source": [
    "media = (1 + 2 + 3 + 4 + 5 + 6) / 6\n",
    "media"
   ]
  },
  {
   "cell_type": "markdown",
   "metadata": {},
   "source": [
    "El código que acabamos de escribir no difiere mucho de usar una calculadora, primero tenemos que ingresar los números _a mano_ y además tenemos que saber exactamente la cantidad total de números.\n",
    "\n",
    "Usando un lenguaje de programación podemos hacer algo bastante más cómodo. Pero antes tenemos que aprender un par de conceptos nuevos que veremos en lo que sigue del curso."
   ]
  },
  {
   "cell_type": "code",
   "execution_count": 49,
   "metadata": {},
   "outputs": [
    {
     "data": {
      "text/plain": [
       "3.5"
      ]
     },
     "execution_count": 49,
     "metadata": {},
     "output_type": "execute_result"
    }
   ],
   "source": [
    "# también se puede usar una lista\n",
    "lista_numeros= [1,2,3,4,5,6]\n",
    "suma=0\n",
    "for num in lista_numeros:\n",
    "    suma += num # suma= suma + num\n",
    "suma/6"
   ]
  },
  {
   "cell_type": "markdown",
   "metadata": {},
   "source": [
    "### Listas\n",
    "\n",
    "Las listas son _contenedores_, algo así como una bolsa donde podemos meter tantos valores como la memoria de nuestra computadora lo permita. Las listas son muy usadas en Python y gran parte de la programación en Python implica crear y manipular listas.\n",
    "\n",
    "La sintaxis para crear listas en Python es _[..., ..., ...]_:"
   ]
  },
  {
   "cell_type": "code",
   "execution_count": 50,
   "metadata": {},
   "outputs": [
    {
     "data": {
      "text/plain": [
       "[]"
      ]
     },
     "execution_count": 50,
     "metadata": {},
     "output_type": "execute_result"
    }
   ],
   "source": [
    "lista = []  # crea una lista vacia\n",
    "lista"
   ]
  },
  {
   "cell_type": "code",
   "execution_count": 51,
   "metadata": {},
   "outputs": [
    {
     "data": {
      "text/plain": [
       "([1, 2, 3, 4, 5, 6], list)"
      ]
     },
     "execution_count": 51,
     "metadata": {},
     "output_type": "execute_result"
    }
   ],
   "source": [
    "num = [1, 2, 3, 4, 5, 6]\n",
    "num, type(num)"
   ]
  },
  {
   "cell_type": "code",
   "execution_count": 52,
   "metadata": {},
   "outputs": [
    {
     "name": "stdout",
     "output_type": "stream",
     "text": [
      "[21, 21, 21]\n",
      "[21, 23]\n"
     ]
    }
   ],
   "source": [
    "# los operadores * y + están sobrecargados para listas\n",
    "l_mult = [21] * 3 \n",
    "l_sum = [21] + [23] \n",
    "print(l_mult)\n",
    "print(l_sum)"
   ]
  },
  {
   "cell_type": "markdown",
   "metadata": {},
   "source": [
    "Las listas son mucho más que un simple _contenedor_, por ejemplo podemos averiguar cuantos valores contiene una lista usando la función `len()`"
   ]
  },
  {
   "cell_type": "code",
   "execution_count": 53,
   "metadata": {},
   "outputs": [
    {
     "data": {
      "text/plain": [
       "0"
      ]
     },
     "execution_count": 53,
     "metadata": {},
     "output_type": "execute_result"
    }
   ],
   "source": [
    "len(lista)"
   ]
  },
  {
   "cell_type": "code",
   "execution_count": 54,
   "metadata": {},
   "outputs": [
    {
     "data": {
      "text/plain": [
       "6"
      ]
     },
     "execution_count": 54,
     "metadata": {},
     "output_type": "execute_result"
    }
   ],
   "source": [
    "len(num)"
   ]
  },
  {
   "cell_type": "markdown",
   "metadata": {},
   "source": [
    "También podemos eliminar un valor de la lista:"
   ]
  },
  {
   "cell_type": "code",
   "execution_count": 55,
   "metadata": {},
   "outputs": [
    {
     "data": {
      "text/plain": [
       "[1, 2, 4, 5, 6]"
      ]
     },
     "execution_count": 55,
     "metadata": {},
     "output_type": "execute_result"
    }
   ],
   "source": [
    "del num[2]\n",
    "num"
   ]
  },
  {
   "cell_type": "code",
   "execution_count": 56,
   "metadata": {},
   "outputs": [
    {
     "data": {
      "text/plain": [
       "[1, 2, 5, 6]"
      ]
     },
     "execution_count": 56,
     "metadata": {},
     "output_type": "execute_result"
    }
   ],
   "source": [
    "del num[2]\n",
    "num"
   ]
  },
  {
   "cell_type": "markdown",
   "metadata": {},
   "source": [
    "Se puede consultar si un elemento se encuentra en la lista:"
   ]
  },
  {
   "cell_type": "code",
   "execution_count": 57,
   "metadata": {},
   "outputs": [
    {
     "data": {
      "text/plain": [
       "True"
      ]
     },
     "execution_count": 57,
     "metadata": {},
     "output_type": "execute_result"
    }
   ],
   "source": [
    "1 in num"
   ]
  },
  {
   "cell_type": "code",
   "execution_count": 58,
   "metadata": {},
   "outputs": [
    {
     "data": {
      "text/plain": [
       "False"
      ]
     },
     "execution_count": 58,
     "metadata": {},
     "output_type": "execute_result"
    }
   ],
   "source": [
    "\"Hola\" in num"
   ]
  },
  {
   "cell_type": "markdown",
   "metadata": {},
   "source": [
    "#### Métodos\n",
    "Un método es lo mismo que una función exceptos que es \"llamado desde\" un valor.\n",
    "Cada tipo de datos posee un conjunto exclusivo de métodos. \n",
    "Más adelante en el curso veremos un poco en profundida de \"donde vienen\" y el \"porque\" de estas construcciones."
   ]
  },
  {
   "cell_type": "code",
   "execution_count": 59,
   "metadata": {},
   "outputs": [
    {
     "data": {
      "text/plain": [
       "3"
      ]
     },
     "execution_count": 59,
     "metadata": {},
     "output_type": "execute_result"
    }
   ],
   "source": [
    "num.index(6) # En este caso, se dice que \"index\" es un método de listas. \"num\" es una lista"
   ]
  },
  {
   "cell_type": "code",
   "execution_count": 60,
   "metadata": {},
   "outputs": [
    {
     "data": {
      "text/plain": [
       "[1, 2, 5, 6, 7]"
      ]
     },
     "execution_count": 60,
     "metadata": {},
     "output_type": "execute_result"
    }
   ],
   "source": [
    "num.append(7)\n",
    "num"
   ]
  },
  {
   "cell_type": "code",
   "execution_count": 61,
   "metadata": {},
   "outputs": [
    {
     "data": {
      "text/plain": [
       "[1, 2, 3, 3, 5, 6, 7]"
      ]
     },
     "execution_count": 61,
     "metadata": {},
     "output_type": "execute_result"
    }
   ],
   "source": [
    "num.insert(2,3)\n",
    "num.insert(2,3)\n",
    "num"
   ]
  },
  {
   "cell_type": "code",
   "execution_count": 62,
   "metadata": {},
   "outputs": [
    {
     "data": {
      "text/plain": [
       "[1, 2, 3, 5, 6, 7]"
      ]
     },
     "execution_count": 62,
     "metadata": {},
     "output_type": "execute_result"
    }
   ],
   "source": [
    "num.remove(3) # eliminia la primer ocurrencia \n",
    "num"
   ]
  },
  {
   "cell_type": "markdown",
   "metadata": {},
   "source": [
    "Y podemos sumar todos los valores de una lista usando la función `sum()`"
   ]
  },
  {
   "cell_type": "code",
   "execution_count": 63,
   "metadata": {},
   "outputs": [
    {
     "data": {
      "text/plain": [
       "24"
      ]
     },
     "execution_count": 63,
     "metadata": {},
     "output_type": "execute_result"
    }
   ],
   "source": [
    "sum(num)"
   ]
  },
  {
   "cell_type": "markdown",
   "metadata": {},
   "source": [
    "El problema del cálculo de la media se podría simplificar usando estas nuevas características"
   ]
  },
  {
   "cell_type": "code",
   "execution_count": 64,
   "metadata": {},
   "outputs": [
    {
     "data": {
      "text/plain": [
       "3.5"
      ]
     },
     "execution_count": 64,
     "metadata": {},
     "output_type": "execute_result"
    }
   ],
   "source": [
    "l_num= [1,2,3,4,5,6]\n",
    "sum(l_num)/len(l_num)"
   ]
  },
  {
   "cell_type": "markdown",
   "metadata": {},
   "source": [
    "Esta nueva forma de calcular medias tiene la ventaja que es más automática que la anterior, cada vez que cambiemos los valores contenidos en la lista `num` podremos correr la celda anterior y obtener el valor de la media. Pero podríamos hacer algo incluso mejor.\n",
    "\n",
    "Es común, al escribir código, que necesitemos repetir una operación muchas veces, una solución simple es copiar y pegar el código cada vez que lo necesitemos. Pero esta aproximación tiene varios problemas:\n",
    "* es tediosa\n",
    "* es fácil cometer errores\n",
    "* No funciona demasiado bien si el código son cientos de líneas.\n",
    "\n",
    "Una mejor forma de reutilizar código es crear una _función_ que calcule la media. En programación una función es simplemente una secuencia de sentencias que ejecutan una tarea determinada. Las funciones tienen nombres de forma tal que podamos _llamarlas_ cuando lo necesitemos.\n",
    "\n",
    "En Python crear funciones es muy simple. Veamos:"
   ]
  },
  {
   "cell_type": "code",
   "execution_count": 65,
   "metadata": {},
   "outputs": [],
   "source": [
    "def calcular_media(números):\n",
    "    res = sum(números) / len(números)\n",
    "    return res"
   ]
  },
  {
   "cell_type": "markdown",
   "metadata": {},
   "source": [
    "#### Invocaciones\n",
    "En cierta forma,ya hemos usado funciones, es decir hemos estado invocando ciertas funciones que provee Python. Un claro ejemplo es:"
   ]
  },
  {
   "cell_type": "markdown",
   "metadata": {},
   "source": [
    "## Funciones\n",
    "\n",
    "Analicemos la celda anterior línea por línea:\n",
    "\n",
    "* En la primer linea\n",
    "    * Usamos la palabra reservada **def**, esta es la forma en la que le indicamos a Python que estamos definiendo una función.\n",
    "    * luego el nombre de la función, podemos elegir el nombre que deseemos, las reglas son básicamente las mismas que para nombrar variables. Por convención la funciones empiezan con minúscula y se suele usar `_` para separar palabras.\n",
    "    * Entre paréntesis se indican los **argumentos** de las funciones. Los argumentos suelen varias entre 0 y unas pocas decenas. En este caso tenemos un solo argumento `números` que será una lista con los números a promediar.\n",
    "    * Cerramos la linea con dos puntos.\n",
    "* La siguiente linea contiene el cálculo de la media como ya lo habíamos definido. En nuestro caso todo el cálculo se hace en una sola línea pero es posible escribir funciones que contengan decenas o centenas de líneas. \n",
    "* Por último tenemos otra palabra reservada `return` seguida del valor que devuelve la función. Esta linea es opcional ya que es posible definir funciones que no devuelven valor alguno (ya veremos ejemplos).\n",
    "\n",
    "Es importante notar un detalle todo el _contenido_ de la función está escrito usando una sangría de 4 espacios, la sangría es obligatoria ya que le indica a Python cual es el _cuerpo_ de la función, mientras que usar 4 espacios es convención. Podrían ser 2, 3, 8, etc, lo importante es respetar la misma cantidad. "
   ]
  },
  {
   "cell_type": "markdown",
   "metadata": {},
   "source": [
    "#### Invocación\n",
    "Una vez definida una función se la puede _llamar_ usando su nombre y pasando los argumentos necesarios."
   ]
  },
  {
   "cell_type": "code",
   "execution_count": 66,
   "metadata": {},
   "outputs": [
    {
     "data": {
      "text/plain": [
       "3.5"
      ]
     },
     "execution_count": 66,
     "metadata": {},
     "output_type": "execute_result"
    }
   ],
   "source": [
    "calcular_media(l_num)"
   ]
  },
  {
   "cell_type": "code",
   "execution_count": 67,
   "metadata": {},
   "outputs": [
    {
     "data": {
      "text/plain": [
       "int"
      ]
     },
     "execution_count": 67,
     "metadata": {},
     "output_type": "execute_result"
    }
   ],
   "source": [
    "# Ya hemos estado invocando funciones anteriormente\n",
    "type(42)"
   ]
  },
  {
   "cell_type": "markdown",
   "metadata": {},
   "source": [
    "En la celda anterior, el nombre de la función es \"type\". La expresión entre los paréntesis se denomina _argumento_. El resultado de esta función es informar el tipo de la expresión dentro de los paréntesis."
   ]
  },
  {
   "cell_type": "markdown",
   "metadata": {},
   "source": [
    "#### Argumentos\n",
    "Algunas de las funciones requieren argumentos, incluso algunas necesitan de más de uno.\n",
    "Dentro de cada función, los argumentos son asignados a variables llamadas parámetros. Por ejemplo, a continuación definimos una función que toma un único argumento:"
   ]
  },
  {
   "cell_type": "code",
   "execution_count": 68,
   "metadata": {},
   "outputs": [],
   "source": [
    "def saludo (nombre):\n",
    "    aux= \"Hola \" + nombre \n",
    "    print(aux) # dentro de la función, \"nombre\" es un parámetro y \"aux\" una variable local"
   ]
  },
  {
   "cell_type": "code",
   "execution_count": 69,
   "metadata": {},
   "outputs": [
    {
     "name": "stdout",
     "output_type": "stream",
     "text": [
      "Hola Juan\n"
     ]
    }
   ],
   "source": [
    "saludo(\"Juan\") # \"Juan\" es un argumento"
   ]
  },
  {
   "cell_type": "markdown",
   "metadata": {},
   "source": [
    "Las expresiones o sentencias en el lugar de los argumentos son evaluadas antes de que la función sea invocada. "
   ]
  },
  {
   "cell_type": "code",
   "execution_count": 70,
   "metadata": {},
   "outputs": [
    {
     "name": "stdout",
     "output_type": "stream",
     "text": [
      "Hola Juan Manuel\n"
     ]
    }
   ],
   "source": [
    "saludo (\"Juan\" + \" Manuel\")"
   ]
  },
  {
   "cell_type": "markdown",
   "metadata": {},
   "source": [
    "Las variables definidas dentro de cada función y los parámetros son locales a la misma, es decir, sólo existen dentro de la función donde fueron definidos."
   ]
  },
  {
   "cell_type": "markdown",
   "metadata": {},
   "source": [
    "Una detalle importante a notar es que el nombre de la variable que le pasamos a nuestra función no tiene nada que ver con el nombre del argumento de la función. Es decir nosotros le pasamos `num` a la función e internamente `calcular_media` le llama `números`. Técnicamente decimos que `números` es una variable local (respecto de nuestra función), es decir `números` solo existe dentro de la función `calcular_media`. Fuera de esa función `números` podría no existir o referirse a otro valor."
   ]
  },
  {
   "cell_type": "code",
   "execution_count": 71,
   "metadata": {},
   "outputs": [
    {
     "data": {
      "text/plain": [
       "(3.0, 2)"
      ]
     },
     "execution_count": 71,
     "metadata": {},
     "output_type": "execute_result"
    }
   ],
   "source": [
    "números = 2\n",
    "calcular_media([4, 2, 3]), números # dentro de la función `números` contiene una lista, fuera el valor `6`"
   ]
  },
  {
   "cell_type": "markdown",
   "metadata": {},
   "source": [
    "Otra convención en Python es escribir las funciones incluyendo un _docstring_. Un _docstring_ es una porción de texto que Python ignora, pero que es útil para los humanos ya que explica que hace una función y que tipo de variables espera la función como argumentos y que es lo que devuelve.\n",
    "\n",
    "Los docstring se escriben usando comillas triples `\"\"\"` esto permite que el _cadena_ de texto puedar ocupar varias lineas. El estilo exacto de los docstring varía, lo importante es tratar de mantener una misma línea al menos dentro de un mismo proyecto. Un ejemplo de docstring sería:"
   ]
  },
  {
   "cell_type": "code",
   "execution_count": 72,
   "metadata": {
    "collapsed": true
   },
   "outputs": [],
   "source": [
    "def calcular_media(números):\n",
    "    \"\"\"\n",
    "    Calcula la media partir de una lista.\n",
    "\n",
    "    Parámetros\n",
    "    ----------\n",
    "    números : lista\n",
    "        contiene los valores a promediar\n",
    "\n",
    "    Resultado\n",
    "    ----------\n",
    "    res : float\n",
    "        La media de los valores contenidos en `números`\n",
    "    \"\"\"\n",
    "    res = sum(a) / len(a)\n",
    "    return res"
   ]
  },
  {
   "cell_type": "markdown",
   "metadata": {},
   "source": [
    "El docstring no solo puede ser leido directamente del código, si no que puede ser usado por Python y por varias herramientas externas. Por ejemplo la función `help()` de Python ofrece ayuda al usuario \"leyendo el docstring\". Por ejemplo si quisieramos ver que hace la función `len()`"
   ]
  },
  {
   "cell_type": "code",
   "execution_count": 73,
   "metadata": {},
   "outputs": [
    {
     "name": "stdout",
     "output_type": "stream",
     "text": [
      "Help on built-in function len in module builtins:\n",
      "\n",
      "len(obj, /)\n",
      "    Return the number of items in a container.\n",
      "\n"
     ]
    }
   ],
   "source": [
    "help(len) "
   ]
  },
  {
   "cell_type": "markdown",
   "metadata": {},
   "source": [
    "Esto no solo sirve para funciones que ya vienen con Python, si no que el mismo mecanismo es usado para funciones definidas por los usuarios."
   ]
  },
  {
   "cell_type": "code",
   "execution_count": 74,
   "metadata": {},
   "outputs": [
    {
     "name": "stdout",
     "output_type": "stream",
     "text": [
      "Help on function calcular_media in module __main__:\n",
      "\n",
      "calcular_media(números)\n",
      "    Calcula la media partir de una lista.\n",
      "    \n",
      "    Parámetros\n",
      "    ----------\n",
      "    números : lista\n",
      "        contiene los valores a promediar\n",
      "    \n",
      "    Resultado\n",
      "    ----------\n",
      "    res : float\n",
      "        La media de los valores contenidos en `números`\n",
      "\n"
     ]
    }
   ],
   "source": [
    "help(calcular_media)"
   ]
  },
  {
   "cell_type": "markdown",
   "metadata": {},
   "source": [
    "Jupyter (lo que estamos usando para mostrar este documento y ejecutar el código), también permite acceder al docstring usando `shift + TAB`"
   ]
  },
  {
   "cell_type": "code",
   "execution_count": 75,
   "metadata": {},
   "outputs": [
    {
     "data": {
      "text/plain": [
       "<function __main__.calcular_media(números)>"
      ]
     },
     "execution_count": 75,
     "metadata": {},
     "output_type": "execute_result"
    }
   ],
   "source": [
    "calcular_media  # seleccioná esta celda y presioná shift + tab"
   ]
  },
  {
   "cell_type": "markdown",
   "metadata": {},
   "source": [
    "Dentro de Jupyter también se puede acceder a la ayuda escribiendo `?` o  `??` luego de la función y presionado `enter`. Podés decir cual es la diferencia entre usar una u otra forma?\n",
    "\n",
    "Todo muy bien hasta ahora, pero ¿Qué pasaría si inadvertidamente le pasáramos una lista vacía?"
   ]
  },
  {
   "cell_type": "code",
   "execution_count": 76,
   "metadata": {},
   "outputs": [
    {
     "ename": "NameError",
     "evalue": "name 'a' is not defined",
     "output_type": "error",
     "traceback": [
      "\u001b[0;31m---------------------------------------------------------------------------\u001b[0m",
      "\u001b[0;31mNameError\u001b[0m                                 Traceback (most recent call last)",
      "\u001b[0;32m<ipython-input-76-130eb69d826e>\u001b[0m in \u001b[0;36m<module>\u001b[0;34m\u001b[0m\n\u001b[0;32m----> 1\u001b[0;31m \u001b[0mcalcular_media\u001b[0m\u001b[0;34m(\u001b[0m\u001b[0;34m[\u001b[0m\u001b[0;34m]\u001b[0m\u001b[0;34m)\u001b[0m\u001b[0;34m\u001b[0m\u001b[0;34m\u001b[0m\u001b[0m\n\u001b[0m",
      "\u001b[0;32m<ipython-input-72-604c56f307ff>\u001b[0m in \u001b[0;36mcalcular_media\u001b[0;34m(números)\u001b[0m\n\u001b[1;32m     13\u001b[0m         \u001b[0mLa\u001b[0m \u001b[0mmedia\u001b[0m \u001b[0mde\u001b[0m \u001b[0mlos\u001b[0m \u001b[0mvalores\u001b[0m \u001b[0mcontenidos\u001b[0m \u001b[0men\u001b[0m\u001b[0;31m \u001b[0m\u001b[0;31m`\u001b[0m\u001b[0mnúmeros\u001b[0m\u001b[0;31m`\u001b[0m\u001b[0;34m\u001b[0m\u001b[0;34m\u001b[0m\u001b[0m\n\u001b[1;32m     14\u001b[0m     \"\"\"\n\u001b[0;32m---> 15\u001b[0;31m     \u001b[0mres\u001b[0m \u001b[0;34m=\u001b[0m \u001b[0msum\u001b[0m\u001b[0;34m(\u001b[0m\u001b[0ma\u001b[0m\u001b[0;34m)\u001b[0m \u001b[0;34m/\u001b[0m \u001b[0mlen\u001b[0m\u001b[0;34m(\u001b[0m\u001b[0ma\u001b[0m\u001b[0;34m)\u001b[0m\u001b[0;34m\u001b[0m\u001b[0;34m\u001b[0m\u001b[0m\n\u001b[0m\u001b[1;32m     16\u001b[0m     \u001b[0;32mreturn\u001b[0m \u001b[0mres\u001b[0m\u001b[0;34m\u001b[0m\u001b[0;34m\u001b[0m\u001b[0m\n",
      "\u001b[0;31mNameError\u001b[0m: name 'a' is not defined"
     ]
    }
   ],
   "source": [
    "calcular_media([])"
   ]
  },
  {
   "cell_type": "markdown",
   "metadata": {},
   "source": [
    "La función falla por que la división por 0 no está definida y Python nos lo indica amablemente."
   ]
  },
  {
   "cell_type": "code",
   "execution_count": 77,
   "metadata": {},
   "outputs": [
    {
     "ename": "ZeroDivisionError",
     "evalue": "division by zero",
     "output_type": "error",
     "traceback": [
      "\u001b[0;31m---------------------------------------------------------------------------\u001b[0m",
      "\u001b[0;31mZeroDivisionError\u001b[0m                         Traceback (most recent call last)",
      "\u001b[0;32m<ipython-input-77-cc56e2631dd5>\u001b[0m in \u001b[0;36m<module>\u001b[0;34m\u001b[0m\n\u001b[1;32m      1\u001b[0m \u001b[0mnum\u001b[0m \u001b[0;34m=\u001b[0m \u001b[0;34m[\u001b[0m\u001b[0;34m]\u001b[0m  \u001b[0;31m# ahora num está vacia\u001b[0m\u001b[0;34m\u001b[0m\u001b[0;34m\u001b[0m\u001b[0m\n\u001b[0;32m----> 2\u001b[0;31m \u001b[0mmedia\u001b[0m \u001b[0;34m=\u001b[0m \u001b[0msum\u001b[0m\u001b[0;34m(\u001b[0m\u001b[0mnum\u001b[0m\u001b[0;34m)\u001b[0m \u001b[0;34m/\u001b[0m \u001b[0mlen\u001b[0m\u001b[0;34m(\u001b[0m\u001b[0mnum\u001b[0m\u001b[0;34m)\u001b[0m\u001b[0;34m\u001b[0m\u001b[0;34m\u001b[0m\u001b[0m\n\u001b[0m\u001b[1;32m      3\u001b[0m \u001b[0mmedia\u001b[0m\u001b[0;34m\u001b[0m\u001b[0;34m\u001b[0m\u001b[0m\n",
      "\u001b[0;31mZeroDivisionError\u001b[0m: division by zero"
     ]
    }
   ],
   "source": [
    "num = []  # ahora num está vacia\n",
    "media = sum(num) / len(num)\n",
    "media"
   ]
  },
  {
   "cell_type": "code",
   "execution_count": 84,
   "metadata": {
    "collapsed": true
   },
   "outputs": [],
   "source": [
    "def calcular_media2(a):\n",
    "    \"\"\"\n",
    "    Calcula la media partir de una lista.\n",
    "    \n",
    "    Parametros\n",
    "    ----------\n",
    "    a : lista\n",
    "        lista que contiene los valores a promediar\n",
    "    \n",
    "    Resultado\n",
    "    ----------\n",
    "    res : float\n",
    "        La media de los valores contenidos en a.\n",
    "        Devuelve una advertencia si a está vacía.\n",
    "    \"\"\"\n",
    "    try:\n",
    "        res = sum(a) / len(a)\n",
    "        return res\n",
    "    except ZeroDivisionError:\n",
    "        print('por favor pase una lista que no esté vacía')"
   ]
  },
  {
   "cell_type": "code",
   "execution_count": 85,
   "metadata": {},
   "outputs": [
    {
     "name": "stdout",
     "output_type": "stream",
     "text": [
      "por favor pase una lista que no esté vacía\n"
     ]
    }
   ],
   "source": [
    "calcular_media2([])"
   ]
  },
  {
   "cell_type": "markdown",
   "metadata": {},
   "source": [
    "Ahora la función en vez de fallar devuelve un mensaje.\n",
    "La novedad es que usamos el bloque `try-except`. Lo que hace esto es intentar correr lo que está dentro de cuerpo de `try`, si llegara a ocurrir un error del tipo `ZeroDivisionError` entonces se ejecuta lo que sea que esté dentro de `except` en este caso un mensaje, pero podría ser cualquier cosa. Si hubieramos escrito solo `except:` entonces el bloque `except` se ejecutaría sin importar el tipo de error, esto si bien es posible no se recomienda ya que puede llegar a ocultar _bugs_. Por ejemplo `sum()` (y también`len()`) devuelven un error si por ejemplo lo usáramos con un entero en vez de una lista."
   ]
  },
  {
   "cell_type": "code",
   "execution_count": 86,
   "metadata": {},
   "outputs": [
    {
     "ename": "TypeError",
     "evalue": "'int' object is not iterable",
     "output_type": "error",
     "traceback": [
      "\u001b[0;31m---------------------------------------------------------------------------\u001b[0m",
      "\u001b[0;31mTypeError\u001b[0m                                 Traceback (most recent call last)",
      "\u001b[0;32m<ipython-input-86-7cecaac34ae1>\u001b[0m in \u001b[0;36m<module>\u001b[0;34m\u001b[0m\n\u001b[0;32m----> 1\u001b[0;31m \u001b[0mcalcular_media2\u001b[0m\u001b[0;34m(\u001b[0m\u001b[0;36m1\u001b[0m\u001b[0;34m)\u001b[0m\u001b[0;34m\u001b[0m\u001b[0;34m\u001b[0m\u001b[0m\n\u001b[0m",
      "\u001b[0;32m<ipython-input-84-85b82095cf5a>\u001b[0m in \u001b[0;36mcalcular_media2\u001b[0;34m(a)\u001b[0m\n\u001b[1;32m     15\u001b[0m     \"\"\"\n\u001b[1;32m     16\u001b[0m     \u001b[0;32mtry\u001b[0m\u001b[0;34m:\u001b[0m\u001b[0;34m\u001b[0m\u001b[0;34m\u001b[0m\u001b[0m\n\u001b[0;32m---> 17\u001b[0;31m         \u001b[0mres\u001b[0m \u001b[0;34m=\u001b[0m \u001b[0msum\u001b[0m\u001b[0;34m(\u001b[0m\u001b[0ma\u001b[0m\u001b[0;34m)\u001b[0m \u001b[0;34m/\u001b[0m \u001b[0mlen\u001b[0m\u001b[0;34m(\u001b[0m\u001b[0ma\u001b[0m\u001b[0;34m)\u001b[0m\u001b[0;34m\u001b[0m\u001b[0;34m\u001b[0m\u001b[0m\n\u001b[0m\u001b[1;32m     18\u001b[0m         \u001b[0;32mreturn\u001b[0m \u001b[0mres\u001b[0m\u001b[0;34m\u001b[0m\u001b[0;34m\u001b[0m\u001b[0m\n\u001b[1;32m     19\u001b[0m     \u001b[0;32mexcept\u001b[0m \u001b[0mZeroDivisionError\u001b[0m\u001b[0;34m:\u001b[0m\u001b[0;34m\u001b[0m\u001b[0;34m\u001b[0m\u001b[0m\n",
      "\u001b[0;31mTypeError\u001b[0m: 'int' object is not iterable"
     ]
    }
   ],
   "source": [
    "calcular_media2(1)"
   ]
  },
  {
   "cell_type": "markdown",
   "metadata": {},
   "source": [
    "Implementa la función \"calcular_media2\" para que sea más robusta"
   ]
  },
  {
   "cell_type": "markdown",
   "metadata": {},
   "source": [
    "### ¿Porqué usar funciones?\n",
    "Al analizar la definición de funciones, es posible pensar en que se puede programar sin hacer uso de las mismas. Sin embargo, existen numerosas razones que justifican su uso:\n",
    "\n",
    "- Definir nuevas funciones permite nombrar conjunto de sentencias agrupadas con un propósito, esto hace al programa más facil de leer y _debuggear_.\n",
    "- Las funciones reducen el tamaño de los programas eliminando repeticiones de un mismo grupo de sentencias. Además, en caso de haber un error, sólo debe ser enmendado en un único lugar. \n",
    "- Dividir el programa en funciones permite corregir errores por partes y finalmente ensamblar todas las partes correctas en un único programa. Sin mencionar la facilidad para _testeo_.\n",
    "- Aquellas funciones bien diseñadas y documentadas pueden ser utilizadas por distintos programas. Una vez que se escribe y se corrige una función, la misma puede ser _reutilizada_ en distintas ocasiones.   "
   ]
  },
  {
   "cell_type": "markdown",
   "metadata": {},
   "source": [
    "### mediana\n",
    "\n",
    "La media es una buena descripción si los datos que estamos midiendo son más o menos similares, pero puede ofrecer una visión muy distorsionada si los datos no son muy simialres entre si, por ejemplo como puede suceder con los ingresos, algunas personas apenas ganan unos pesos al menos y otras pueden llegar a ganar millones por mes.\n",
    "\n",
    "La mediana es el número que separa un conjunto de datos en una mitad superior y otra inferior. Es muy utilizada en ciertos contextos ya que es una medida más robusta que la media cuando en el problema se dan valores extremos."
   ]
  },
  {
   "cell_type": "markdown",
   "metadata": {},
   "source": [
    "Para calcular la mediana necesitamos algunos conceptos nuevos. Una caracterísitca de las listas de Python es que es posible acceder a los elementos contenidos en ellas mediante indices. Los índices deben ser enteros, empiezan en 0 y terminan `len() - 1` y pueden ser negativos."
   ]
  },
  {
   "cell_type": "code",
   "execution_count": 87,
   "metadata": {},
   "outputs": [
    {
     "data": {
      "text/plain": [
       "5"
      ]
     },
     "execution_count": 87,
     "metadata": {},
     "output_type": "execute_result"
    }
   ],
   "source": [
    "lista = [5, 4, 3, 2, 1]\n",
    "lista[0]  # el cero-ésimo elemento de la lista"
   ]
  },
  {
   "cell_type": "code",
   "execution_count": 88,
   "metadata": {},
   "outputs": [
    {
     "data": {
      "text/plain": [
       "3"
      ]
     },
     "execution_count": 88,
     "metadata": {},
     "output_type": "execute_result"
    }
   ],
   "source": [
    "lista[2]"
   ]
  },
  {
   "cell_type": "code",
   "execution_count": 89,
   "metadata": {},
   "outputs": [
    {
     "ename": "IndexError",
     "evalue": "list index out of range",
     "output_type": "error",
     "traceback": [
      "\u001b[0;31m---------------------------------------------------------------------------\u001b[0m",
      "\u001b[0;31mIndexError\u001b[0m                                Traceback (most recent call last)",
      "\u001b[0;32m<ipython-input-89-fb7f8beb278d>\u001b[0m in \u001b[0;36m<module>\u001b[0;34m\u001b[0m\n\u001b[0;32m----> 1\u001b[0;31m \u001b[0mlista\u001b[0m\u001b[0;34m[\u001b[0m\u001b[0;36m5\u001b[0m\u001b[0;34m]\u001b[0m \u001b[0;31m# este índice no existe en este caso y Python nos lo indica con un error\u001b[0m\u001b[0;34m\u001b[0m\u001b[0;34m\u001b[0m\u001b[0m\n\u001b[0m",
      "\u001b[0;31mIndexError\u001b[0m: list index out of range"
     ]
    }
   ],
   "source": [
    "lista[5] # este índice no existe en este caso y Python nos lo indica con un error"
   ]
  },
  {
   "cell_type": "code",
   "execution_count": 90,
   "metadata": {},
   "outputs": [
    {
     "data": {
      "text/plain": [
       "1"
      ]
     },
     "execution_count": 90,
     "metadata": {},
     "output_type": "execute_result"
    }
   ],
   "source": [
    "lista[-1]  # devuelve el último elemento, que devolverá -2 y -6?"
   ]
  },
  {
   "cell_type": "markdown",
   "metadata": {},
   "source": [
    "No solo es posible acceder a elementos individuales de una lista, también se puede acceder a rebanadas (`slices`)."
   ]
  },
  {
   "cell_type": "code",
   "execution_count": 91,
   "metadata": {},
   "outputs": [
    {
     "data": {
      "text/plain": [
       "[4, 3, 2, 1]"
      ]
     },
     "execution_count": 91,
     "metadata": {},
     "output_type": "execute_result"
    }
   ],
   "source": [
    "lista[1:]  # del elemento 1 al final"
   ]
  },
  {
   "cell_type": "code",
   "execution_count": 92,
   "metadata": {},
   "outputs": [
    {
     "data": {
      "text/plain": [
       "[4, 3, 2]"
      ]
     },
     "execution_count": 92,
     "metadata": {},
     "output_type": "execute_result"
    }
   ],
   "source": [
    "lista[1:4]  # del elemento 1 al 4"
   ]
  },
  {
   "cell_type": "code",
   "execution_count": 93,
   "metadata": {},
   "outputs": [
    {
     "data": {
      "text/plain": [
       "[5, 3, 1]"
      ]
     },
     "execution_count": 93,
     "metadata": {},
     "output_type": "execute_result"
    }
   ],
   "source": [
    "lista[::2]  # del primer elemento al último \"saltando de a 2\""
   ]
  },
  {
   "cell_type": "code",
   "execution_count": 94,
   "metadata": {},
   "outputs": [
    {
     "data": {
      "text/plain": [
       "[1, 2, 3, 4, 5]"
      ]
     },
     "execution_count": 94,
     "metadata": {},
     "output_type": "execute_result"
    }
   ],
   "source": [
    "lista[::-1]  # del primer elemento al último \"de a -1\", invierte el orden!"
   ]
  },
  {
   "cell_type": "code",
   "execution_count": 95,
   "metadata": {},
   "outputs": [
    {
     "data": {
      "text/plain": [
       "[5, 4, 3, 2, 1]"
      ]
     },
     "execution_count": 95,
     "metadata": {},
     "output_type": "execute_result"
    }
   ],
   "source": [
    "lista[:]  # un caso trivial, del primer al último elemento (equivale a no usar un slice!)"
   ]
  },
  {
   "cell_type": "markdown",
   "metadata": {},
   "source": [
    "Todavía faltan un par de detalles, pero los vamos a ver directamente en la función. Es común al aprender una lenguaje encontrarse con codigo que contiene elementos desconocidos o \"frases\" que no sabiamos posibles/legales."
   ]
  },
  {
   "cell_type": "code",
   "execution_count": 96,
   "metadata": {
    "collapsed": true
   },
   "outputs": [],
   "source": [
    "def mediana(lista):\n",
    "    \"\"\"\n",
    "    ejercicio escribir docstring!\n",
    "    \"\"\"\n",
    "    lista_ordenada = sorted(lista)\n",
    "    lista_len = len(lista_ordenada)\n",
    "    idx = int((lista_len - 1) / 2)\n",
    "\n",
    "    if lista_len % 2:\n",
    "        return lista_ordenada[idx]\n",
    "    else:\n",
    "        return (lista_ordenada[idx] + lista_ordenada[idx + 1]) / 2"
   ]
  },
  {
   "cell_type": "markdown",
   "metadata": {},
   "source": [
    "Esta es una función bastante más compleja que `calcular_media()`. Veamos línea por línea que es lo que hace.\n",
    "\n",
    "1. La primer línea (luego del docstring) ordena de menor a mayor los elementos dentro de \"lista\"\n",
    "2. La segunda computa la longitud de `lista`\n",
    "3. La tercera calcula un índice, usando el operador \n",
    "4. Esta línea evalua `True` solo si `lista_len` es impar. Podés darte cuenta por qué? (tip: probá ese bloque de código en una celda separada). \n",
    "5. Si `lista_len` es par entonces se ejecutará el bloque `else`. La razón de tener este bloque es que si la cantidad de elementos es par NO es posible obtener el valor \"del medio\", entonces la mediana la computamos como un promedio de los \"dos valores medios\"."
   ]
  },
  {
   "cell_type": "code",
   "execution_count": 97,
   "metadata": {},
   "outputs": [
    {
     "data": {
      "text/plain": [
       "3"
      ]
     },
     "execution_count": 97,
     "metadata": {},
     "output_type": "execute_result"
    }
   ],
   "source": [
    "mediana([1, 2, 3, 4, 5])"
   ]
  },
  {
   "cell_type": "markdown",
   "metadata": {},
   "source": [
    "###  Varianza\n",
    "\n",
    "Mide la dispersión de un conjunto de valores. Es cero para un conjunto de valores idénticos.\n",
    "\n",
    "$$V(x) =  \\frac{1}{n} \\sum_{i=1}^n (x_i - \\mu)^2$$\n",
    "\n",
    "Donde $\\mu$ es la media de $x$\n",
    "\n",
    "Para poder calcular la varianza usando Python tenemos todos los elementos necesarios. Veamos un posible algoritmo:"
   ]
  },
  {
   "cell_type": "code",
   "execution_count": 98,
   "metadata": {
    "collapsed": true
   },
   "outputs": [],
   "source": [
    "def varianza(valores):\n",
    "    \"\"\"\n",
    "    ejercicio escribir docstring!\n",
    "    \"\"\"\n",
    "    media = calcular_media2(valores)\n",
    "    var = []\n",
    "    for i in valores:\n",
    "        var.append((media - i) ** 2)\n",
    "    return calcular_media2(var)"
   ]
  },
  {
   "cell_type": "code",
   "execution_count": 99,
   "metadata": {},
   "outputs": [
    {
     "data": {
      "text/plain": [
       "1.623275"
      ]
     },
     "execution_count": 99,
     "metadata": {},
     "output_type": "execute_result"
    }
   ],
   "source": [
    "varianza([0, 1, 2.72, 3.14])"
   ]
  },
  {
   "cell_type": "markdown",
   "metadata": {},
   "source": [
    "Al trabajar con Python es común repetir una _frase_ como la siguiente"
   ]
  },
  {
   "cell_type": "code",
   "execution_count": 100,
   "metadata": {},
   "outputs": [
    {
     "data": {
      "text/plain": [
       "[0, 1, 4, 9, 16, 25, 36, 49, 64]"
      ]
     },
     "execution_count": 100,
     "metadata": {},
     "output_type": "execute_result"
    }
   ],
   "source": [
    "d = []\n",
    "for i in [0, 1, 2, 3, 4, 5, 6, 7, 8]:\n",
    "    d.append(i ** 2)\n",
    "d"
   ]
  },
  {
   "cell_type": "markdown",
   "metadata": {},
   "source": [
    "Este Patrón en donde iteramos a lo largo de una lista de enteros es tan común en Python (y otros lenguajes) que existe varias funciones que facilitan esta tarea. Una de ellas es `range`. \n",
    "\n",
    "`range` usa la sintaxis [start:stop:step] a fin de generar enteros desde `start`, hasta `stop` (sin incluirlo) y opcionalente de a `step` pasos (por defecto 1). `start` es también opcional en cuyo caso empezará en 0. Como pueden ver la sintaxis es similar a lo que ya vimos con la rebanadas de una lista. La diferencia es que las rebanadas operan sobre una lista existente y la función de `range` es la de generar un objeto que _contiene_ enteros. "
   ]
  },
  {
   "cell_type": "code",
   "execution_count": 101,
   "metadata": {},
   "outputs": [
    {
     "data": {
      "text/plain": [
       "[0, 1, 4, 9, 16, 25, 36, 49, 64]"
      ]
     },
     "execution_count": 101,
     "metadata": {},
     "output_type": "execute_result"
    }
   ],
   "source": [
    "d = []\n",
    "for i in range(0, 9):\n",
    "    d.append(i ** 2)\n",
    "d"
   ]
  },
  {
   "cell_type": "markdown",
   "metadata": {},
   "source": [
    "En Python2 `range` devolvía una lista, en Python3 `range` es un objeto que contiene las reglas para devolver valores, pero no los valores en si. Esto es un truco que permite ocupar menos memoria. Se requiere menos memoria para especificar la regla, \"devuelva todos los enteros de 0 a 1 millón\", que para escribir un millón de enteros.\n",
    "\n",
    "En el siguiente vemor una diferencia entre el objeto `range` y una lista generada a partir de convertir `range` usando el comando `list`."
   ]
  },
  {
   "cell_type": "code",
   "execution_count": 102,
   "metadata": {},
   "outputs": [
    {
     "data": {
      "text/plain": [
       "(range(0, 9), [0, 1, 2, 3, 4, 5, 6, 7, 8])"
      ]
     },
     "execution_count": 102,
     "metadata": {},
     "output_type": "execute_result"
    }
   ],
   "source": [
    "range(9), list(range(9))"
   ]
  },
  {
   "cell_type": "markdown",
   "metadata": {},
   "source": [
    "Como veníamos diciendo al trabajar con Python es común repetir una _frase_ como la siguiente:\n",
    "\n",
    "* Creamos una lista vacía\n",
    "* Iteramos a largo de algún _iterable_ como un lista o un _rango_.\n",
    "* Guardamos valores en la lista originalmente vacía.\n",
    "\n",
    "Este patrón es tan común que Python ofrece una versión alternativa, la cual es considerada por la mayoría de los _Pythonistas_ como más simple y clara. Esta versión alternativa se llama _list comprehension_, o comprensión por listas. Y luce de la siguiente forma"
   ]
  },
  {
   "cell_type": "code",
   "execution_count": 103,
   "metadata": {
    "collapsed": true
   },
   "outputs": [],
   "source": [
    "d = [i ** 2 for i in range(9)]"
   ]
  },
  {
   "cell_type": "markdown",
   "metadata": {},
   "source": [
    "En palabras podríamos leerla como, \"tome la variable i elevela al cuadrado y repita para todos los valores de i en el rango de 0 a 9\". Usando _list compreherions_ podemos calcular la varianza de la siguietne forma."
   ]
  },
  {
   "cell_type": "code",
   "execution_count": 104,
   "metadata": {
    "collapsed": true
   },
   "outputs": [],
   "source": [
    "def varianza(valores):\n",
    "    \"\"\"\n",
    "    ejercicio escribir docstring!\n",
    "    \"\"\"\n",
    "    media = calcular_media2(valores)\n",
    "    var = [(media - i) ** 2 for i in valores]\n",
    "    return calcular_media2(var)"
   ]
  },
  {
   "cell_type": "markdown",
   "metadata": {},
   "source": [
    "## Ejercicios"
   ]
  },
  {
   "cell_type": "markdown",
   "metadata": {},
   "source": [
    "\n",
    "1. Construye un programa que permita al usuario ingresar valores de calificaciones y calcule el promedio total.\n",
    "* Construye un programa que encuentre el menor de una secuencia de números ingresada por el usuario. El programa debe permitir el ingreso de números hasta que el usuario ingrese un -1\n",
    "* Escribe un script que determine si una secuencia de números ingresada por el usuario es un número capicúa.\n",
    "* Diseña la función fecha_valida que devuelve $True$ si la fecha es válida y $False$ en caso contrario. Para comprobar la validez de una fecha debes verificar que el mes esté comprendido entre 1 y 12 y que el día lo esté entre 1 y el número de días que corresponde al mes. Por ejemplo, la fecha 31/4/2000 no es válida, ya que abril tiene 30 días. Como es de suponerse, se debe tener especial cuidado con el mes de febrero.\n",
    "* Escribe una función que reciba dos números como parámetros, y devuelva cuántos múltiplos del primero hay, que sean menores que el segundo.\n",
    "* Define una función que reciba como parámetro un carácter ASCII y determine si el mismo es una letra del alfabeto, un dígito, un signo de puntuación u “otro”. Realice el script principal y la correspondiente invocación a la función.\n",
    "* Escribe un programa que permita crear dos listas de enteros y que a continuación elimine de la primera lista los enteros de la segunda lista. Si hay elementos de la segunda lista que no están en la primera, los debe pasar por alto.\n",
    "* Dada una lista de números enteros y un entero k, escribir un script que devuelva tres listas, una con los menores, otra con los mayores y otra con los iguales a k.\n",
    "* Desarrolla una función que reciba una lista de enteros y permita “empaquetar” las repeticiones consecutivas de valores en dicha lista mediante una lista $[<valor>, <cantidad-de-valores>]$. Para esto se construye una nueva lista que contenga las nuevas tuplas generadas. Por ejemplo, si la lista inicial es $[1,1,1,3,5,1,1,3,3]$, la función debe retornar [[1,3],[3,1],[5,1],[1,2],[3,2]]. Realice el script principal y la correspondiente invocación a la función."
   ]
  },
  {
   "cell_type": "markdown",
   "metadata": {},
   "source": [
    "### Problema"
   ]
  },
  {
   "cell_type": "markdown",
   "metadata": {},
   "source": [
    "Defina una función que aproxime la raíz cuadrada de un número usando el método de Newton descripto a continuación. \n",
    "#### Método de Newton \n",
    "Supongamos que queremos averiguar la raíz cuadrada de $a$. \n",
    "Si se empieza con cualquier estimativo ($x$), se puede computar una mejor aproximación con la siguiente fórmula: \n",
    "$$y = \\dfrac{x + a/x}{2}$$\n",
    "por ejemplo, si $a$ es 4 y $x$ es 3, \n",
    "\n"
   ]
  },
  {
   "cell_type": "code",
   "execution_count": 105,
   "metadata": {},
   "outputs": [
    {
     "data": {
      "text/plain": [
       "2.1666666666666665"
      ]
     },
     "execution_count": 105,
     "metadata": {},
     "output_type": "execute_result"
    }
   ],
   "source": [
    "a = 4\n",
    "x = 3\n",
    "y = (x + a/x) / 2\n",
    "y"
   ]
  },
  {
   "cell_type": "markdown",
   "metadata": {},
   "source": [
    "el resultado está cerca de la respuesta correcta ($\\sqrt{4} = 2$). Si repetimos el proceso ajustando el nuevo estimativo,"
   ]
  },
  {
   "cell_type": "code",
   "execution_count": 106,
   "metadata": {},
   "outputs": [
    {
     "data": {
      "text/plain": [
       "2.0064102564102564"
      ]
     },
     "execution_count": 106,
     "metadata": {},
     "output_type": "execute_result"
    }
   ],
   "source": [
    "x = y\n",
    "y = (x + a/x) / 2\n",
    "y"
   ]
  },
  {
   "cell_type": "markdown",
   "metadata": {},
   "source": [
    "en general, es dificil saber cuantos pasos se requieren para obtener el valor exacto, lo que si sabemos es que cuando el aproximado ($x$) coincida con el resultado anterior ($y$), se ha encontrado el valor. \n",
    "\n",
    "**Defina una función que a partir de un valor estimado aproxime la raíz cuadrada de un número usando el método de Newton. \n",
    "Además del resultado obtenido, la función deberá informar también la cantidad de pasos que requirió para llegar al resultado.**\n",
    "\n",
    "**NOTA:** en general, es \"peligroso\" operar con igualdad entre flotantes ya que la representación computacional de los mismos es un valor aproximado. \n",
    "Es decir, valores como $1/3$ o $\\sqrt{2}$ no se pueden representar de manera exacta con un flotante (_float_). \n",
    "Por lo tanto, en vez de comparar $x==y$, el enfoque más conveniente es comparar el valor absoluto de la diferencia con un valor de magnitud. \n",
    "    $$if abs(y-x) < epsilon: break$$\n",
    "donde $epsilon$ es un valor (por ejemplo $0.0000001$) que determina cuándo los valores que se están comparando son \"tan parecidos\" que deberían considerarse como el \"mismo\" para el problema."
   ]
  }
 ],
 "metadata": {
  "kernelspec": {
   "display_name": "Python 3",
   "language": "python",
   "name": "python3"
  },
  "language_info": {
   "codemirror_mode": {
    "name": "ipython",
    "version": 3
   },
   "file_extension": ".py",
   "mimetype": "text/x-python",
   "name": "python",
   "nbconvert_exporter": "python",
   "pygments_lexer": "ipython3",
   "version": "3.7.1"
  }
 },
 "nbformat": 4,
 "nbformat_minor": 2
}
