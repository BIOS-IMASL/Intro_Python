{
 "cells": [
  {
   "cell_type": "markdown",
   "metadata": {},
   "source": [
    "# tuplas y strings"
   ]
  },
  {
   "cell_type": "markdown",
   "metadata": {},
   "source": [
    "# Cadenas (_strings_)\n",
    "\n",
    "Una cadena es una secuencia de caracteres. Las cadenas son similares a las listas pero más específicas, ya que solo puede contener caracteres.\n",
    "\n",
    "Para definir una cadena en Python usamos comillas simples `'`, dobles `\"` o triples. Lo más común es usar comillas simples"
   ]
  },
  {
   "cell_type": "code",
   "execution_count": 23,
   "metadata": {},
   "outputs": [
    {
     "data": {
      "text/plain": [
       "'hola'"
      ]
     },
     "execution_count": 23,
     "metadata": {},
     "output_type": "execute_result"
    }
   ],
   "source": [
    "'hola'"
   ]
  },
  {
   "cell_type": "code",
   "execution_count": 24,
   "metadata": {},
   "outputs": [
    {
     "data": {
      "text/plain": [
       "str"
      ]
     },
     "execution_count": 24,
     "metadata": {},
     "output_type": "execute_result"
    }
   ],
   "source": [
    " type('hola')"
   ]
  },
  {
   "cell_type": "markdown",
   "metadata": {},
   "source": [
    "Las comillas simples o dobles son totalmente equivalentes. Mientras que las triples son usadas cuando necesitamos escribir una cadena en varias lineas. Recuerden cuando vimos `docstrings`.\n",
    "\n",
    "Vamos usar  un aforismo de Jorge Wagensberg para ejemplificar como trabajar con cadenas bajo Python"
   ]
  },
  {
   "cell_type": "code",
   "execution_count": 29,
   "metadata": {},
   "outputs": [],
   "source": [
    "cadena = 'A más cómo, menos por qué'"
   ]
  },
  {
   "cell_type": "markdown",
   "metadata": {},
   "source": [
    "Como ya dijimos las listas y las cadenas comparten características, por ejmplo ambas pueden ser indexadas"
   ]
  },
  {
   "cell_type": "code",
   "execution_count": 33,
   "metadata": {},
   "outputs": [
    {
     "data": {
      "text/plain": [
       "'á'"
      ]
     },
     "execution_count": 33,
     "metadata": {},
     "output_type": "execute_result"
    }
   ],
   "source": [
    "cadena[3]"
   ]
  },
  {
   "cell_type": "markdown",
   "metadata": {},
   "source": [
    "Además podemos hacer otras operaciones como tomar rebanadas _slices_"
   ]
  },
  {
   "cell_type": "code",
   "execution_count": 80,
   "metadata": {},
   "outputs": [
    {
     "data": {
      "text/plain": [
       "'A más'"
      ]
     },
     "execution_count": 80,
     "metadata": {},
     "output_type": "execute_result"
    }
   ],
   "source": [
    "cadena[:5]"
   ]
  },
  {
   "cell_type": "markdown",
   "metadata": {},
   "source": [
    "Esto nos podría servir para crear una función que detecte palíndromos."
   ]
  },
  {
   "cell_type": "code",
   "execution_count": 41,
   "metadata": {},
   "outputs": [
    {
     "data": {
      "text/plain": [
       "True"
      ]
     },
     "execution_count": 41,
     "metadata": {},
     "output_type": "execute_result"
    }
   ],
   "source": [
    "def es_palindromo(palabra):\n",
    "    return palabra == palabra[::-1]\n",
    "\n",
    "es_palindromo('somos') # Luz azul"
   ]
  },
  {
   "cell_type": "markdown",
   "metadata": {},
   "source": [
    "Un problema con este función es que falla con frases como `Luz azul`. Hay dos razones para esto\n",
    "\n",
    "1. un espacio es un caracter válido para Python\n",
    "2. las mayusculas son caracteres distintos a las minúsculas"
   ]
  },
  {
   "cell_type": "markdown",
   "metadata": {},
   "source": [
    "Python nos ofrece una herramienta muy potente para mejorar la función `es_palindromo`, los métodos de cadenas.\n",
    "\n",
    "Un método es similar a una función, pero con una sintáxis diferente. Cuando veamos programación orientada a objetos quedará claro su significado.\n",
    "\n",
    "Las cadenas tienen muchos métodos, por ejemplo `split` devuelve una lista de strings por defecto la lista es generada \"separando\" un strings cada vez que se encuentra un espacio en blanco."
   ]
  },
  {
   "cell_type": "code",
   "execution_count": 82,
   "metadata": {},
   "outputs": [
    {
     "data": {
      "text/plain": [
       "['A', 'más', 'cómo,', 'menos', 'por', 'qué']"
      ]
     },
     "execution_count": 82,
     "metadata": {},
     "output_type": "execute_result"
    }
   ],
   "source": [
    "cadena.split()"
   ]
  },
  {
   "cell_type": "markdown",
   "metadata": {},
   "source": [
    "Este comportamiento lo podemos cambiar pasando como argumento el caracter que queremos usar como separador."
   ]
  },
  {
   "cell_type": "code",
   "execution_count": 85,
   "metadata": {},
   "outputs": [
    {
     "data": {
      "text/plain": [
       "['A más cómo', ' menos por qué']"
      ]
     },
     "execution_count": 85,
     "metadata": {},
     "output_type": "execute_result"
    }
   ],
   "source": [
    "cadena.split(',')"
   ]
  },
  {
   "cell_type": "markdown",
   "metadata": {},
   "source": [
    "Otro método es `lower` que tiene como efecto devolver una nueva cadena donde todos los caracteres son minúsculas"
   ]
  },
  {
   "cell_type": "code",
   "execution_count": 88,
   "metadata": {},
   "outputs": [
    {
     "data": {
      "text/plain": [
       "'luz azul'"
      ]
     },
     "execution_count": 88,
     "metadata": {},
     "output_type": "execute_result"
    }
   ],
   "source": [
    "'LuZ AzUl'.lower()"
   ]
  },
  {
   "cell_type": "markdown",
   "metadata": {},
   "source": [
    "otro método es replace que nos permite reeplazar caracteres, incluso podemos reemplazar un espacio en blanco por nada."
   ]
  },
  {
   "cell_type": "code",
   "execution_count": 51,
   "metadata": {},
   "outputs": [
    {
     "data": {
      "text/plain": [
       "'Luzazul'"
      ]
     },
     "execution_count": 51,
     "metadata": {},
     "output_type": "execute_result"
    }
   ],
   "source": [
    "'Luz azul'.replace(' ', '')"
   ]
  },
  {
   "cell_type": "markdown",
   "metadata": {},
   "source": [
    "Combinando estos dos últimos métodos podemos crear una versión más versatil de `es_palindromo`."
   ]
  },
  {
   "cell_type": "code",
   "execution_count": 53,
   "metadata": {},
   "outputs": [
    {
     "data": {
      "text/plain": [
       "True"
      ]
     },
     "execution_count": 53,
     "metadata": {},
     "output_type": "execute_result"
    }
   ],
   "source": [
    "def es_palindromo(palabra):\n",
    "    nueva_palabra = palabra.lower().replace(' ', '')  # es posible concatenar métodos\n",
    "    return nueva_palabra == nueva_palabra[::-1]\n",
    "\n",
    "es_palindromo('Luz azul')"
   ]
  },
  {
   "cell_type": "markdown",
   "metadata": {},
   "source": [
    "Podríamos querer que la función `es_palindromo` nos devuelva un mensaje más amigable que True o False. Una opción que la función no devuelva ningún valor si no que imprima un mensaje, por ejemplo"
   ]
  },
  {
   "cell_type": "code",
   "execution_count": 60,
   "metadata": {},
   "outputs": [
    {
     "name": "stdout",
     "output_type": "stream",
     "text": [
      "Luz azul es palíndromo\n"
     ]
    }
   ],
   "source": [
    "def es_palindromo(palabra):\n",
    "    nueva_palabra = palabra.lower().replace(' ', '')\n",
    "    if nueva_palabra == nueva_palabra[::-1]:\n",
    "        print(f'{palabra} es un palíndromo')\n",
    "    else:\n",
    "        print(f'{palabra} no es un palíndromo')\n",
    "        \n",
    "es_palindromo('Luz azul')"
   ]
  },
  {
   "cell_type": "markdown",
   "metadata": {},
   "source": [
    "El ejemplo anterior anterior muestra lo que se llama formateo de cadenas, hay varias formas de dar formato a cadenas (referencia), en el ejeplo anterior hemos usado lo que se conoce como f-strings, que es la forma más nueva (solo funciona en Python 3.6 en adelante). Las f-strings nos permite crear strings usando variables (en este caso la variable `palabra`) y también nos permite pasar expresiones de Python y darle formato a las al resultado de esas expresiones, como se puede ver en el siguiente ejemplo."
   ]
  },
  {
   "cell_type": "code",
   "execution_count": 65,
   "metadata": {},
   "outputs": [
    {
     "name": "stdout",
     "output_type": "stream",
     "text": [
      "Luz azul es un palíndromo de 007 caracteres\n"
     ]
    }
   ],
   "source": [
    "def es_palindromo(palabra):\n",
    "    nueva_palabra = palabra.lower().replace(' ', '')\n",
    "    if nueva_palabra == nueva_palabra[::-1]:\n",
    "        print(f'{palabra} es un palíndromo de {len(nueva_palabra):03d} caracteres')\n",
    "    else:\n",
    "        print(f'{palabra} no es un palíndromo')\n",
    "        \n",
    "es_palindromo('Luz azul')"
   ]
  },
  {
   "cell_type": "markdown",
   "metadata": {},
   "source": [
    "Fijense que `len()` funciona con las cadenas igual que con las listas. el formato `03d`, quiere decir que la variable es un entero (d) y que use 3 espacios para representar a ese entero. Si no hay suficientes dígitos complete con ceros. Existen varias otras opciones para dar formato como:"
   ]
  },
  {
   "cell_type": "code",
   "execution_count": 68,
   "metadata": {},
   "outputs": [
    {
     "data": {
      "text/plain": [
       "'3.14'"
      ]
     },
     "execution_count": 68,
     "metadata": {},
     "output_type": "execute_result"
    }
   ],
   "source": [
    "f'{3.1415:.2f}'"
   ]
  },
  {
   "cell_type": "markdown",
   "metadata": {},
   "source": [
    "Las cadenas son iterables (al igual que las listas). Por ejemplo si estuvieramos interesados en saber la frecuencia con la que aparecen caracteres en una cadena podríamo escribir."
   ]
  },
  {
   "cell_type": "code",
   "execution_count": 121,
   "metadata": {},
   "outputs": [
    {
     "name": "stdout",
     "output_type": "stream",
     "text": [
      "a aparece 1 veces\n",
      "m aparece 3 veces\n",
      "á aparece 1 veces\n",
      "s aparece 2 veces\n",
      "c aparece 1 veces\n",
      "ó aparece 1 veces\n",
      "o aparece 3 veces\n",
      ", aparece 1 veces\n",
      "e aparece 1 veces\n",
      "n aparece 1 veces\n",
      "p aparece 1 veces\n",
      "r aparece 1 veces\n",
      "q aparece 1 veces\n",
      "u aparece 1 veces\n",
      "é aparece 1 veces\n"
     ]
    }
   ],
   "source": [
    "def frecuencia(cadena):\n",
    "    visto = []\n",
    "    cadena_nueva = cadena.lower().replace(' ', '')\n",
    "    for c in cadena_nueva:\n",
    "        if c not in visto:\n",
    "            print(f'{c} aparece {cadena_nueva.count(c)} veces')\n",
    "            visto.append(c)\n",
    "\n",
    "frecuencia(cadena)"
   ]
  },
  {
   "cell_type": "markdown",
   "metadata": {},
   "source": [
    "Podemos mejorar algunos aspectos de esta función, por ejemplo unificar caracteres con y sin tilde. y eliminar signos de puntuación no solo espacios en blanco. Para ello vamos a usar el método `maketrans` que nos permite crear una tabla de correspondencia entre el primer y segundo argumento. El tercer argumento indica los caracteres que sean reemplazados por nada. Otro truco de la siguiente función es que usa \"vez\" y \"veces\" según corresponda (queda como ejercicio explicar como se logra esto)."
   ]
  },
  {
   "cell_type": "code",
   "execution_count": 123,
   "metadata": {},
   "outputs": [
    {
     "name": "stdout",
     "output_type": "stream",
     "text": [
      "a aparece 2 veces\n",
      "m aparece 3 veces\n",
      "s aparece 2 veces\n",
      "c aparece 1 vez\n",
      "o aparece 4 veces\n",
      "e aparece 2 veces\n",
      "n aparece 1 vez\n",
      "p aparece 1 vez\n",
      "r aparece 1 vez\n",
      "q aparece 1 vez\n",
      "u aparece 1 vez\n"
     ]
    }
   ],
   "source": [
    "def frecuencia(cadena):\n",
    "    visto = []\n",
    "    trans = str.maketrans('áéíóúü','aeiouu', ':,. ')\n",
    "    cadena_nueva = cadena.lower().translate(trans)\n",
    "    for c in cadena_nueva:\n",
    "        if c not in visto:\n",
    "            cantidad = cadena_nueva.count(c)\n",
    "            d = 'vez' if cantidad == 1  else 'veces'\n",
    "            print(f'{c} aparece {cantidad} {d}')\n",
    "            visto.append(c)\n",
    "            \n",
    "\n",
    "frecuencia(cadena)"
   ]
  },
  {
   "cell_type": "code",
   "execution_count": null,
   "metadata": {},
   "outputs": [],
   "source": []
  },
  {
   "cell_type": "markdown",
   "metadata": {},
   "source": [
    "Una diferencia con las listas es que las cadenas son inmutables, es decir una vez creada no pueden ser modificacas. Por lo que siguiente operación es inválida"
   ]
  },
  {
   "cell_type": "code",
   "execution_count": null,
   "metadata": {},
   "outputs": [],
   "source": [
    "cadena[0] = 'f' "
   ]
  },
  {
   "cell_type": "markdown",
   "metadata": {},
   "source": [
    "El error nos dice que el `objeto str` (en este caso `cadena`) no soporta la operación de asignación de item."
   ]
  },
  {
   "cell_type": "code",
   "execution_count": 99,
   "metadata": {},
   "outputs": [
    {
     "data": {
      "text/plain": [
       "'trenes, camiones, tractores'"
      ]
     },
     "execution_count": 99,
     "metadata": {},
     "output_type": "execute_result"
    }
   ],
   "source": [
    "', '.join(['trenes', 'camiones', 'tractores'])"
   ]
  },
  {
   "cell_type": "code",
   "execution_count": 92,
   "metadata": {},
   "outputs": [
    {
     "data": {
      "text/plain": [
       "False"
      ]
     },
     "execution_count": 92,
     "metadata": {},
     "output_type": "execute_result"
    }
   ],
   "source": [
    "cadena.isalpha() #  devuelve verdadero si los caracteres son alfabéticos"
   ]
  },
  {
   "cell_type": "code",
   "execution_count": 93,
   "metadata": {},
   "outputs": [
    {
     "data": {
      "text/plain": [
       "True"
      ]
     },
     "execution_count": 93,
     "metadata": {},
     "output_type": "execute_result"
    }
   ],
   "source": [
    "cadena[:4].isalpha() "
   ]
  },
  {
   "cell_type": "code",
   "execution_count": 94,
   "metadata": {},
   "outputs": [
    {
     "data": {
      "text/plain": [
       "True"
      ]
     },
     "execution_count": 94,
     "metadata": {},
     "output_type": "execute_result"
    }
   ],
   "source": [
    "'42a'.isalnum()  # devuelve verdadero si los caracteres son alfanuméricos"
   ]
  },
  {
   "cell_type": "code",
   "execution_count": 95,
   "metadata": {},
   "outputs": [
    {
     "data": {
      "text/plain": [
       "False"
      ]
     },
     "execution_count": 95,
     "metadata": {},
     "output_type": "execute_result"
    }
   ],
   "source": [
    "'42a'.isnumeric()  # devuelve verdadero si los caracteres son numéricos"
   ]
  },
  {
   "cell_type": "code",
   "execution_count": 96,
   "metadata": {},
   "outputs": [
    {
     "data": {
      "text/plain": [
       "True"
      ]
     },
     "execution_count": 96,
     "metadata": {},
     "output_type": "execute_result"
    }
   ],
   "source": [
    "'hola'.startswith('hola')"
   ]
  },
  {
   "cell_type": "markdown",
   "metadata": {},
   "source": [
    "## Operadores válidos para cadenas"
   ]
  },
  {
   "cell_type": "markdown",
   "metadata": {},
   "source": [
    "Usando el operador `in` podemos preguntar si un caracter (o una subcadena) está contenido en una cadena"
   ]
  },
  {
   "cell_type": "code",
   "execution_count": 38,
   "metadata": {},
   "outputs": [
    {
     "data": {
      "text/plain": [
       "True"
      ]
     },
     "execution_count": 38,
     "metadata": {},
     "output_type": "execute_result"
    }
   ],
   "source": [
    "'h' in cadena"
   ]
  },
  {
   "cell_type": "code",
   "execution_count": 39,
   "metadata": {},
   "outputs": [
    {
     "data": {
      "text/plain": [
       "True"
      ]
     },
     "execution_count": 39,
     "metadata": {},
     "output_type": "execute_result"
    }
   ],
   "source": [
    "'hola' in cadena"
   ]
  },
  {
   "cell_type": "code",
   "execution_count": 43,
   "metadata": {},
   "outputs": [
    {
     "name": "stdout",
     "output_type": "stream",
     "text": [
      "a\n",
      "s\n"
     ]
    }
   ],
   "source": [
    "def in_both(word1, word2):\n",
    "    for letter in word1:\n",
    "        if letter in word2:\n",
    "            print(letter)\n",
    "\n",
    "in_both('peras', 'manzanas')"
   ]
  },
  {
   "cell_type": "markdown",
   "metadata": {},
   "source": [
    "# Tuplas\n",
    "\n",
    "Una tupla es una colecciones de valores, los valores pueden ser de cualquier tipo en ese sentido las tuplas se parecen a las listas, pero las tuplas son inmutables y en ese sentido se parecen a las cadenas."
   ]
  },
  {
   "cell_type": "code",
   "execution_count": 103,
   "metadata": {},
   "outputs": [
    {
     "data": {
      "text/plain": [
       "(42, 23, 13)"
      ]
     },
     "execution_count": 103,
     "metadata": {},
     "output_type": "execute_result"
    }
   ],
   "source": [
    "una_tupla = 42, 23, 13\n",
    "una_tupla"
   ]
  },
  {
   "cell_type": "code",
   "execution_count": 102,
   "metadata": {},
   "outputs": [
    {
     "data": {
      "text/plain": [
       "(42, 23, 13)"
      ]
     },
     "execution_count": 102,
     "metadata": {},
     "output_type": "execute_result"
    }
   ],
   "source": [
    "Aunque no es necesario es común encerrar una tupla entre paréntesis"
   ]
  },
  {
   "cell_type": "code",
   "execution_count": 106,
   "metadata": {},
   "outputs": [],
   "source": [
    "otra_tupla = 42, 23, 13"
   ]
  },
  {
   "cell_type": "markdown",
   "metadata": {},
   "source": [
    "Ambas formas son equivalentes:"
   ]
  },
  {
   "cell_type": "code",
   "execution_count": 109,
   "metadata": {},
   "outputs": [
    {
     "data": {
      "text/plain": [
       "True"
      ]
     },
     "execution_count": 109,
     "metadata": {},
     "output_type": "execute_result"
    }
   ],
   "source": [
    "una_tupla == otra_tupla"
   ]
  },
  {
   "cell_type": "code",
   "execution_count": 110,
   "metadata": {},
   "outputs": [
    {
     "data": {
      "text/plain": [
       "(tuple, str)"
      ]
     },
     "execution_count": 110,
     "metadata": {},
     "output_type": "execute_result"
    }
   ],
   "source": [
    "t1 = 'a',\n",
    "t2 = ('a')\n",
    "\n",
    "type(t1), type(t2)"
   ]
  },
  {
   "cell_type": "code",
   "execution_count": 112,
   "metadata": {},
   "outputs": [
    {
     "data": {
      "text/plain": [
       "('h', 'o', 'l', 'a', ' ', 'm', 'u', 'n', 'd', 'o')"
      ]
     },
     "execution_count": 112,
     "metadata": {},
     "output_type": "execute_result"
    }
   ],
   "source": [
    "t = tuple('hola mundo')\n",
    "t"
   ]
  },
  {
   "cell_type": "markdown",
   "metadata": {},
   "source": [
    "La mayoría de las operaciones válidas para listas lo son también para tuplas"
   ]
  },
  {
   "cell_type": "code",
   "execution_count": 113,
   "metadata": {},
   "outputs": [
    {
     "data": {
      "text/plain": [
       "'m'"
      ]
     },
     "execution_count": 113,
     "metadata": {},
     "output_type": "execute_result"
    }
   ],
   "source": [
    "t[5]"
   ]
  },
  {
   "cell_type": "code",
   "execution_count": 115,
   "metadata": {},
   "outputs": [
    {
     "data": {
      "text/plain": [
       "('h', 'o', 'l', 'a')"
      ]
     },
     "execution_count": 115,
     "metadata": {},
     "output_type": "execute_result"
    }
   ],
   "source": [
    "t[:4]"
   ]
  },
  {
   "cell_type": "markdown",
   "metadata": {},
   "source": [
    "Excepto las que modifican una tupla, ya que como dijimos anterioremente las tuplas son inmutables"
   ]
  },
  {
   "cell_type": "code",
   "execution_count": 120,
   "metadata": {},
   "outputs": [
    {
     "ename": "TypeError",
     "evalue": "'tuple' object does not support item assignment",
     "output_type": "error",
     "traceback": [
      "\u001b[0;31m---------------------------------------------------------------------------\u001b[0m",
      "\u001b[0;31mTypeError\u001b[0m                                 Traceback (most recent call last)",
      "\u001b[0;32m<ipython-input-120-c53146662274>\u001b[0m in \u001b[0;36m<module>\u001b[0;34m\u001b[0m\n\u001b[0;32m----> 1\u001b[0;31m \u001b[0mt\u001b[0m\u001b[0;34m[\u001b[0m\u001b[0;36m0\u001b[0m\u001b[0;34m]\u001b[0m \u001b[0;34m=\u001b[0m \u001b[0;34m'j'\u001b[0m\u001b[0;34m\u001b[0m\u001b[0;34m\u001b[0m\u001b[0m\n\u001b[0m",
      "\u001b[0;31mTypeError\u001b[0m: 'tuple' object does not support item assignment"
     ]
    }
   ],
   "source": [
    "t[0] = 'j'"
   ]
  },
  {
   "cell_type": "markdown",
   "metadata": {},
   "source": [
    "## Asignación de tuplas"
   ]
  },
  {
   "cell_type": "code",
   "execution_count": 124,
   "metadata": {},
   "outputs": [
    {
     "data": {
      "text/plain": [
       "(3, 45)"
      ]
     },
     "execution_count": 124,
     "metadata": {},
     "output_type": "execute_result"
    }
   ],
   "source": [
    "a, b = 3, 45\n",
    "\n",
    "a, b"
   ]
  },
  {
   "cell_type": "markdown",
   "metadata": {},
   "source": [
    "La cantidad de elementos a ambos lados del `=` deben ser los mismos, caso contrario obtendremos un error"
   ]
  },
  {
   "cell_type": "code",
   "execution_count": 132,
   "metadata": {},
   "outputs": [
    {
     "ename": "ValueError",
     "evalue": "too many values to unpack (expected 2)",
     "output_type": "error",
     "traceback": [
      "\u001b[0;31m---------------------------------------------------------------------------\u001b[0m",
      "\u001b[0;31mValueError\u001b[0m                                Traceback (most recent call last)",
      "\u001b[0;32m<ipython-input-132-f03a07664c8f>\u001b[0m in \u001b[0;36m<module>\u001b[0;34m\u001b[0m\n\u001b[0;32m----> 1\u001b[0;31m \u001b[0ma\u001b[0m\u001b[0;34m,\u001b[0m \u001b[0mb\u001b[0m\u001b[0;34m,\u001b[0m \u001b[0;34m=\u001b[0m \u001b[0;36m3\u001b[0m\u001b[0;34m,\u001b[0m \u001b[0;36m45\u001b[0m\u001b[0;34m,\u001b[0m \u001b[0;36m2\u001b[0m\u001b[0;34m\u001b[0m\u001b[0;34m\u001b[0m\u001b[0m\n\u001b[0m",
      "\u001b[0;31mValueError\u001b[0m: too many values to unpack (expected 2)"
     ]
    }
   ],
   "source": [
    "a, b, = 3, 45, 2"
   ]
  },
  {
   "cell_type": "markdown",
   "metadata": {},
   "source": [
    "Salvo que usemos la siguiente sintáxis"
   ]
  },
  {
   "cell_type": "code",
   "execution_count": 134,
   "metadata": {},
   "outputs": [
    {
     "data": {
      "text/plain": [
       "(3, [45, 2])"
      ]
     },
     "execution_count": 134,
     "metadata": {},
     "output_type": "execute_result"
    }
   ],
   "source": [
    "a, *b, = 3, 45, 2\n",
    "a, b"
   ]
  },
  {
   "cell_type": "code",
   "execution_count": 136,
   "metadata": {},
   "outputs": [
    {
     "data": {
      "text/plain": [
       "('monty', 'python.org')"
      ]
     },
     "execution_count": 136,
     "metadata": {},
     "output_type": "execute_result"
    }
   ],
   "source": [
    "email = 'monty@python.org'\n",
    "usuario, dominio = email.split('@')\n",
    "\n",
    "usuario, dominio"
   ]
  },
  {
   "cell_type": "markdown",
   "metadata": {},
   "source": [
    "Las funciones en Python solo pueden devolver un solo valor, por lo que uno podría pensar que la siguiente no es una función válida. Sin embargo la siguiente función si es valida, por que la función efectivamente devuelve un solo valor, una tupla con dos elementos."
   ]
  },
  {
   "cell_type": "code",
   "execution_count": 142,
   "metadata": {},
   "outputs": [
    {
     "data": {
      "text/plain": [
       "(0, 100)"
      ]
     },
     "execution_count": 142,
     "metadata": {},
     "output_type": "execute_result"
    }
   ],
   "source": [
    "def min_max(t):\n",
    "    return min(t), max(t)\n",
    "\n",
    "min_max([0, 13, 42, 100])  ## use la función type para probar que está función devuelve una tupla"
   ]
  },
  {
   "cell_type": "code",
   "execution_count": null,
   "metadata": {},
   "outputs": [],
   "source": []
  },
  {
   "cell_type": "code",
   "execution_count": null,
   "metadata": {},
   "outputs": [],
   "source": []
  },
  {
   "cell_type": "code",
   "execution_count": null,
   "metadata": {},
   "outputs": [],
   "source": []
  }
 ],
 "metadata": {
  "kernelspec": {
   "display_name": "Python 3",
   "language": "python",
   "name": "python3"
  },
  "language_info": {
   "codemirror_mode": {
    "name": "ipython",
    "version": 3
   },
   "file_extension": ".py",
   "mimetype": "text/x-python",
   "name": "python",
   "nbconvert_exporter": "python",
   "pygments_lexer": "ipython3",
   "version": "3.7.1"
  }
 },
 "nbformat": 4,
 "nbformat_minor": 2
}
